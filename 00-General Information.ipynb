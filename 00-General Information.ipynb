{
 "cells": [
  {
   "cell_type": "markdown",
   "metadata": {},
   "source": [
    "\n",
    "# Measurement Report\n",
    "Benthe Smit (s2619806). Other teammates: Tamara Jordens (s2190745), Nienke Vreman (s2333937).\n"
   ]
  },
  {
   "cell_type": "code",
   "execution_count": 13,
   "metadata": {},
   "outputs": [],
   "source": [
    "import nglview\n",
    "import os\n",
    "import shutil\n",
    "from scripts import viewer\n",
    "\n",
    "from Bio.PDB import PDBList, MMCIFParser, Select, PDBIO\n",
    "import Bio.Align\n",
    "import os\n",
    "\n",
    "from pathlib import Path\n",
    "from warnings import filterwarnings\n",
    "import time\n",
    "\n",
    "import rdkit\n",
    "from rdkit import Chem\n",
    "from rdkit.Chem import AllChem, Draw\n",
    "from rdkit.Chem import MACCSkeys\n",
    "from rdkit.Chem.AllChem import GetMorganFingerprintAsBitVect\n",
    "\n",
    "from scripts import viewer\n",
    "from scripts import bio_align\n",
    "\n",
    "import pandas as pd\n",
    "import numpy as np\n",
    "import glob\n",
    "import sys\n",
    "from sklearn import svm, metrics, clone\n",
    "from sklearn.ensemble import RandomForestClassifier\n",
    "from sklearn.ensemble import RandomForestRegressor\n",
    "from sklearn.neural_network import MLPClassifier\n",
    "from sklearn.model_selection import KFold, train_test_split\n",
    "from sklearn.metrics import auc, accuracy_score, recall_score\n",
    "from sklearn.metrics import roc_curve, roc_auc_score\n",
    "import matplotlib.pyplot as plt\n",
    "\n",
    "\n",
    "filterwarnings(\"ignore\")\n",
    "# Fix seed for reproducible results\n",
    "SEED = 22\n",
    "#seed_everything(SEED)\n",
    "\n",
    "#from pymol import cmd\n",
    "import py3Dmol\n",
    "\n",
    "from vina import Vina\n",
    "\n",
    "#from meeko import MoleculePreparation\n",
    "#from meeko import obutils\n",
    "\n",
    "import MDAnalysis as mda\n",
    "from MDAnalysis.coordinates import PDB\n",
    "\n",
    "#import prolif\n",
    "#from prolif.plotting.network import LigNetwork\n",
    "\n",
    "import sys, os, shutil\n",
    "sys.path.insert(1, '/project/jhllei001/JHL_data/Jupyter_Dock/utilities')\n",
    "# Note I had to comment out pymol, openmm and pdbfixer, hope it doesn't break later\n",
    "#from utils import fix_protein, getbox, generate_ledock_file, pdbqt_to_sdf, dok_to_sdf\n",
    "\n",
    "import warnings\n",
    "warnings.filterwarnings(\"ignore\")\n",
    "%config Completer.use_jedi = False"
   ]
  },
  {
   "cell_type": "markdown",
   "metadata": {},
   "source": [
    "\n",
    "# 1. Bioinformatics\n",
    "\n",
    "### 1.1.1 Introduction\n",
    "\n",
    "Adenosine is a biochemical molecule that is distributed all over the body, in various pathways. In the central nervous system (CNS) is promotes sleep by modulating neuroactivity. Adenosine is able to regulate the cardiovascular system as well, by inducing vasodilation, which leads to an increasing blood flow and tissue oxygenation. Moreover, as adenosine activates immune cells, it decreases the production of cytokines. Therefore, it reduces inflammation and regulates immune response.[1]\n",
    "\n",
    "Both adenosine and adenosine triphosphate (ATP) are the endogenous ligands to the adenosine receptors (ARs). This class of receptors is divided into four main subtypes: A1, A2A, A2B, and A3 ARs. All four of the ARs belong to the G-protein coupled receptors (GPCRs) and consist of a transmembrane protein containing 7 parts, of which the A1R and the A3R and the A2AR and the A2BR are the most similar. The A1R and A3R activate an inhibitory G protein and the A2AR and the A2BR activate stimulatory proteins. Though many ligands have been discovered for the ARs, only a handful are selective for one of the receptors. A crystal structure is available for all the ARs, except for the A3R.[2]\n",
    "\n",
    "In this study we will focus on targeting the A2BR. The A2BR has a low affinity for adenosine and was therefore considered less important in the past.[3] Hence, the A2BR is interesting target. There are a limited amount of clinically approved drugs for the AR are available at the moment, most of which are antagonists.[4] Currently, there are 4 structures available on the protein database (PDB), of which 8HDO has the highest resolution. 8HDO is co-crystallized with a synthetic agonist,[5] while 8HDP is bound to adenosine.[6] Both structures were released in january 2023. In may 2023, two more structures were released. \n",
    "\n",
    "This study will mainly focus on finding a partial agonist to the target. As agonists will control inflammation in the brain and many other tissues. One of the most well-known partial agonists is BAY 60–6583. This  synthetic ligand has been co-crystalized with the A2BR as well in 8HDO. It will therefore be used as a basis for further improvement. On PDB the following information has been extracted on the primary structure: The A2BR has a sequence length of 332 amino acids and a mass of 36.333 kDa. The specific PDB structure (8HDO/P29275) is UniProtKB reviewed and has evidence at protein level.\n",
    "\n",
    "\n",
    "### 1.1.2 Related proteins (off-targets), based on sequence\n",
    "\n",
    "Firstly, related proteins were investigated to predict possible off-target effects. Using Basic Local Alignment Search Tool (BLAST) on UniProt, the following protein was found:\n",
    "\n",
    "With the identity of 99.7%, the Western lowland gorilla has the most similar protein (G3QH04). It length is 332 amino acids and it has a mass of 36.351 kDa. However the protein is not UniProtKB reviewed and it is inferred from homology.\n",
    "    \n",
    "In the human body, the most similar protein is the A2AR (P29274) as the identity is 59.4%. It has a length of 412 amino acids and a mass of 44.707 kDa. This structure is UniProtKB reviewed and has evidence at protein level.\n",
    "\n",
    "The most similar target to the human A2BR (hA2BR) is the A2BR in the Western lowland gorilla. This was expected as humans are from similar descent as gorilla's and it is the same protein. However, during this study, the human A2AR (hA2A) will be used to check for off-target effects, as that will provide more relevant information.\n",
    "    \n",
    "Using the 'Accession' numbers, the proteins were aligned based on their: similar residues, hydrophobic residues, negative residues, positive residues and aromatic residues.\n",
    "\n",
    "![image info](img/Similarity_hA2B_A2B_A2A_1.jpg)\n",
    "Alignment based on similarity. The structures are presented in the following order: hA2AR, hA2BR, A2BR in gorilla.\n",
    "\n",
    "![image info](img/Similarity_hA2B_A2B_A2A_2.jpg)\n",
    "Alignment based on hydrophobic residues. The structures are presented in the following order: hA2AR, hA2BR, A2BR in gorilla.\n",
    "\n",
    "![image info](img/Similarity_hA2B_A2B_A2A_3.jpg)\n",
    "Alignment based on negative residues. The structures are presented in the following order: hA2AR, hA2BR, A2BR in gorilla.\n",
    "\n",
    "![image info](img/Similarity_hA2B_A2B_A2A_4.jpg)\n",
    "Alignment based on positive residues. The structures are presented in the following order: hA2AR, hA2BR, A2BR in gorilla.\n",
    "\n",
    "![image info](img/Similarity_hA2B_A2B_A2A_5.jpg)\n",
    "Alignment based on aromatic residues. The structures are presented in the following order: hA2AR, hA2BR, A2BR in gorilla.\n",
    "\n",
    "The hA2BR and the A2BR in the gorilla are the most similar again.\n",
    "\n",
    "\n",
    "### 1.1.3 Related proteins (off-targets), based on structure\n",
    "\n",
    "Since a crystal structure of the target as recently been released, a 3D similarity search is now possible. The proteins will be compared based on their tertiary structure (3D structure) rather than a sequence similarity.\n",
    "\n",
    "On http://www.rcsb.org/pdb/home/home.do, the A2BR was found using the PDB identifier. The most similar accession was 8HDP. The two protein complexes were aligned using https://www.ncbi.nlm.nih.gov/Structure/icn3d/full.html.\n",
    "\n",
    "The realigned RMSD was 0.6186 Å.\n",
    "\n",
    "![image info](img/Realinged_8HDO_8HDP.jpg)\n"
   ]
  },
  {
   "cell_type": "markdown",
   "metadata": {},
   "source": [
    "## 1.2 Retrieving a 3D structure\n",
    "\n",
    "The protein was prepared by downloading the structure from PDB. \n",
    "\n",
    "Firstly, a working directory was made in the home directory:"
   ]
  },
  {
   "cell_type": "code",
   "execution_count": 14,
   "metadata": {},
   "outputs": [
    {
     "name": "stdout",
     "output_type": "stream",
     "text": [
      "Directory already exists\n"
     ]
    }
   ],
   "source": [
    "HOMEDIR = str(Path.home())\n",
    "os.chdir(HOMEDIR)\n",
    "# We need to check whether the directory is there\n",
    "try:\n",
    "    os.mkdir('Bioinformatics')\n",
    "except:\n",
    "    print(\"Directory already exists\")\n",
    "os.chdir('Bioinformatics')"
   ]
  },
  {
   "cell_type": "markdown",
   "metadata": {},
   "source": [
    "The PDB code of the hA2BR was specified and the 3D structure was generated."
   ]
  },
  {
   "cell_type": "code",
   "execution_count": 15,
   "metadata": {
    "scrolled": false
   },
   "outputs": [
    {
     "data": {
      "application/vnd.jupyter.widget-view+json": {
       "model_id": "a0da1c884d6d4d3583694662ef6d95d5",
       "version_major": 2,
       "version_minor": 0
      },
      "text/plain": [
       "NGLWidget()"
      ]
     },
     "metadata": {},
     "output_type": "display_data"
    }
   ],
   "source": [
    "TARGET_PDB_ID = \"8HDO\"\n",
    "view = nglview.show_pdbid(TARGET_PDB_ID)\n",
    "view.center()\n",
    "view"
   ]
  },
  {
   "cell_type": "markdown",
   "metadata": {},
   "source": [
    "It  is nice to have the overview of the structure, but since we are interested in designing new drugs, it makes more sense to have a closer look at the co-crystallized ligand. For this structure that is BAY 60–6583. The three letter amino acid code from the RCSB is I5D."
   ]
  },
  {
   "cell_type": "code",
   "execution_count": 16,
   "metadata": {},
   "outputs": [
    {
     "data": {
      "application/vnd.jupyter.widget-view+json": {
       "model_id": "a0da1c884d6d4d3583694662ef6d95d5",
       "version_major": 2,
       "version_minor": 0
      },
      "text/plain": [
       "NGLWidget(n_components=1)"
      ]
     },
     "metadata": {},
     "output_type": "display_data"
    }
   ],
   "source": [
    "LIGAND_CODE = \"I5D\"\n",
    "\n",
    "view.center(LIGAND_CODE)\n",
    "view"
   ]
  },
  {
   "cell_type": "markdown",
   "metadata": {},
   "source": [
    "Next, the residues that are within 5 Angstrom of the ligand are shown."
   ]
  },
  {
   "cell_type": "code",
   "execution_count": 17,
   "metadata": {},
   "outputs": [
    {
     "data": {
      "application/vnd.jupyter.widget-view+json": {
       "model_id": "a0da1c884d6d4d3583694662ef6d95d5",
       "version_major": 2,
       "version_minor": 0
      },
      "text/plain": [
       "NGLWidget(n_components=1)"
      ]
     },
     "metadata": {},
     "output_type": "display_data"
    }
   ],
   "source": [
    "viewer.show_residues_around(view, selection=LIGAND_CODE)\n",
    "view"
   ]
  },
  {
   "cell_type": "markdown",
   "metadata": {},
   "source": [
    "The viewer shows that there are multiple types of interactions present between the protein and the ligand, such as pi-stacking, hydrophobic interactions and hydrogen bonds. Later, the Protein-Ligand Interaction Profiler will be used to identify the specific interactions.\n",
    "\n",
    "There are no hydrogens present in the structures as these are normally not resolved in the crystal structure.\n",
    "\n",
    "In the next stage, the hydrogens were added. The protein and ligand were split and saved seperately. For this, biopython was used. https://biopython.org/docs/1.75/api/Bio.html\n",
    "\n",
    "Firstly, the coordinates were downloaded from RCSB."
   ]
  },
  {
   "cell_type": "code",
   "execution_count": 18,
   "metadata": {
    "scrolled": false
   },
   "outputs": [
    {
     "name": "stdout",
     "output_type": "stream",
     "text": [
      "Structure exists: '8HDO/8hdo.cif' \n"
     ]
    },
    {
     "name": "stderr",
     "output_type": "stream",
     "text": [
      "WARNING: The default download format has changed from PDB to PDBx/mmCif\n"
     ]
    },
    {
     "data": {
      "text/plain": [
       "'8HDO/8hdo.cif'"
      ]
     },
     "execution_count": 18,
     "metadata": {},
     "output_type": "execute_result"
    }
   ],
   "source": [
    "pdbl = PDBList()\n",
    "pdbl.retrieve_pdb_file(TARGET_PDB_ID, pdir=TARGET_PDB_ID)"
   ]
  },
  {
   "cell_type": "markdown",
   "metadata": {},
   "source": [
    "A BioPython object was generated from the coordinates."
   ]
  },
  {
   "cell_type": "code",
   "execution_count": 19,
   "metadata": {},
   "outputs": [],
   "source": [
    "parser = MMCIFParser()\n",
    "structure = parser.get_structure(\"TARGETPROT\",'{}/{}.cif'.format(TARGET_PDB_ID,TARGET_PDB_ID.lower()))"
   ]
  },
  {
   "cell_type": "markdown",
   "metadata": {},
   "source": [
    "The ligand is saved."
   ]
  },
  {
   "cell_type": "code",
   "execution_count": 20,
   "metadata": {},
   "outputs": [],
   "source": [
    "class ResSelect(Select):\n",
    "    def accept_residue(self, residue):\n",
    "        if residue.get_resname() == LIGAND_CODE:\n",
    "            return 1\n",
    "        else:\n",
    "            return 0\n",
    "\n",
    "class NonHetSelect(Select):\n",
    "    def accept_residue(self, residue):\n",
    "        return 1 if residue.id[0] == \" \" else 0\n",
    "\n",
    "io = PDBIO()\n",
    "io.set_structure(structure)\n",
    "io.save(\"ligand-{}.pdb\".format(LIGAND_CODE), ResSelect())\n",
    "io.save(\"protein-{}.pdb\".format(TARGET_PDB_ID), NonHetSelect())"
   ]
  },
  {
   "cell_type": "markdown",
   "metadata": {},
   "source": [
    "LePro, which is part of the LeDock program (https://en.wikipedia.org/wiki/LeDock), is used to add hydrogens to the structure.\n",
    "\n",
    "The protein was prepared:"
   ]
  },
  {
   "cell_type": "code",
   "execution_count": 21,
   "metadata": {
    "scrolled": false
   },
   "outputs": [
    {
     "data": {
      "text/plain": [
       "'8HDO_prepped.pdb'"
      ]
     },
     "execution_count": 21,
     "metadata": {},
     "output_type": "execute_result"
    }
   ],
   "source": [
    "command = '../CBR_teaching/bin/lepro protein-{}.pdb'.format(TARGET_PDB_ID)\n",
    "os.system(command)\n",
    "shutil.move('pro.pdb','{}_prepped.pdb'.format(TARGET_PDB_ID))"
   ]
  },
  {
   "cell_type": "code",
   "execution_count": 22,
   "metadata": {},
   "outputs": [],
   "source": [
    "# combine protein and ligand files\n",
    "filenames = [\n",
    "'{}_prepped.pdb'.format(TARGET_PDB_ID),\n",
    "\"ligand-{}.pdb\".format(LIGAND_CODE)\n",
    "]\n",
    "with open('{}-complex.pdb'.format(TARGET_PDB_ID), 'w') as outfile:\n",
    "    for fname in filenames:\n",
    "        with open(fname) as infile:\n",
    "            for line in infile:\n",
    "                if not \"END\" in line:\n",
    "                    outfile.write(line)"
   ]
  },
  {
   "cell_type": "code",
   "execution_count": 23,
   "metadata": {},
   "outputs": [
    {
     "data": {
      "application/vnd.jupyter.widget-view+json": {
       "model_id": "12c5b3f782e7489fb45b3b7fed02746e",
       "version_major": 2,
       "version_minor": 0
      },
      "text/plain": [
       "NGLWidget()"
      ]
     },
     "metadata": {},
     "output_type": "display_data"
    }
   ],
   "source": [
    "with open('{}-complex.pdb'.format(TARGET_PDB_ID)) as f:\n",
    "    view = nglview.show_file(f, ext=\"pdb\")\n",
    "    \n",
    "view.center(LIGAND_CODE)\n",
    "viewer.show_residues_around(view, selection=LIGAND_CODE)\n",
    "view"
   ]
  },
  {
   "cell_type": "markdown",
   "metadata": {},
   "source": [
    "Here, the protein is generated again."
   ]
  },
  {
   "cell_type": "markdown",
   "metadata": {},
   "source": [
    "Now, the procedure is repeated for the most similar target that you identified (the highest scoring hit from the PDB):"
   ]
  },
  {
   "cell_type": "code",
   "execution_count": 24,
   "metadata": {},
   "outputs": [
    {
     "name": "stderr",
     "output_type": "stream",
     "text": [
      "WARNING: The default download format has changed from PDB to PDBx/mmCif\n"
     ]
    },
    {
     "name": "stdout",
     "output_type": "stream",
     "text": [
      "Structure exists: '5IU4/5iu4.cif' \n"
     ]
    }
   ],
   "source": [
    "OFF_TARGET_PDB_ID = \"5IU4\"\n",
    "OFF_TARGET_LIGAND = \"ZMA\"  \n",
    "\n",
    "pdbl = PDBList()\n",
    "pdbl.retrieve_pdb_file(OFF_TARGET_PDB_ID, pdir=OFF_TARGET_PDB_ID)\n",
    "\n",
    "parser = MMCIFParser()\n",
    "structure = parser.get_structure(\"TARGETPROT\",'{}/{}.cif'.format(OFF_TARGET_PDB_ID,OFF_TARGET_PDB_ID.lower()))\n",
    "\n",
    "class ResSelect(Select):\n",
    "    def accept_residue(self, residue):\n",
    "        if residue.get_resname() == OFF_TARGET_LIGAND:\n",
    "            return 1\n",
    "        else:\n",
    "            return 0\n",
    "\n",
    "io = PDBIO()\n",
    "io.set_structure(structure)\n",
    "io.save(\"ligand-{}.pdb\".format(OFF_TARGET_LIGAND), ResSelect())\n",
    "io.save(\"protein-{}.pdb\".format(OFF_TARGET_PDB_ID), NonHetSelect())"
   ]
  },
  {
   "cell_type": "code",
   "execution_count": 25,
   "metadata": {},
   "outputs": [
    {
     "data": {
      "text/plain": [
       "'5IU4_prepped.pdb'"
      ]
     },
     "execution_count": 25,
     "metadata": {},
     "output_type": "execute_result"
    }
   ],
   "source": [
    "command = '../CBR_teaching/bin/lepro protein-{}.pdb'.format(OFF_TARGET_PDB_ID)\n",
    "os.system(command)\n",
    "shutil.move('pro.pdb','{}_prepped.pdb'.format(OFF_TARGET_PDB_ID))"
   ]
  },
  {
   "cell_type": "code",
   "execution_count": 26,
   "metadata": {},
   "outputs": [],
   "source": [
    "# combine protein and ligand files\n",
    "filenames = [\n",
    "'{}_prepped.pdb'.format(OFF_TARGET_PDB_ID),\n",
    "\"ligand-{}.pdb\".format(OFF_TARGET_LIGAND)\n",
    "]\n",
    "with open('{}-complex.pdb'.format(OFF_TARGET_PDB_ID), 'w') as outfile:\n",
    "    for fname in filenames:\n",
    "        with open(fname) as infile:\n",
    "            for line in infile:\n",
    "                if not \"END\" in line:\n",
    "                    outfile.write(line)"
   ]
  },
  {
   "cell_type": "markdown",
   "metadata": {},
   "source": [
    "The protein was prepared."
   ]
  },
  {
   "cell_type": "code",
   "execution_count": 27,
   "metadata": {},
   "outputs": [
    {
     "data": {
      "application/vnd.jupyter.widget-view+json": {
       "model_id": "76106f8e41bd4ccea926fccc0883f0c8",
       "version_major": 2,
       "version_minor": 0
      },
      "text/plain": [
       "NGLWidget()"
      ]
     },
     "metadata": {},
     "output_type": "display_data"
    }
   ],
   "source": [
    "with open('{}-complex.pdb'.format(OFF_TARGET_PDB_ID)) as f:\n",
    "    view = nglview.show_file(f, ext=\"pdb\")\n",
    "    \n",
    "view.center(OFF_TARGET_LIGAND)\n",
    "viewer.show_residues_around(view, selection=OFF_TARGET_LIGAND)\n",
    "view"
   ]
  },
  {
   "cell_type": "markdown",
   "metadata": {},
   "source": [
    "## 1.3 Alignments\n",
    "The structures were aligned by first generating the alignment object."
   ]
  },
  {
   "cell_type": "code",
   "execution_count": 20,
   "metadata": {},
   "outputs": [
    {
     "name": "stdout",
     "output_type": "stream",
     "text": [
      "Alignment(seqA='------------MGC--------L--------GN----------SKTED--QRNEEK---------AQREANKM--IEKQLQKDKQVYR---A-----T---------HRL--L------L-LGADN-SGKSTIVKQM---------R-I-------YHVNSG---------I--------FE----TKF---------QVD-KVNFHMFDV-G-A--QRD---ERRKWI-Q--C-FN-DVTAIIFV-----VDSSDY-NR-----L-------------------QE-A-LN-DFKSI-W---N-NRWLRTIS-VILFLN-K-----Q--DLLAE--KV-----L-AG-KS----KI-EDYF--P---E---FARYTTPE---D--------ATP-----EPGEDPR-V-----------T-R-AKYFIRDEF---L-RI--ST------A--SGD-----GRHY----CY--P-H----FT--C---S-----------VD---TEN--------AR-RI--FNDCRD-----IIQRM-H-LRQY-ELL----------------', seqB='DYKDDDDGAPPIMG-SSVYITVELAIAVLAILGNVLVCWAVWLNS----NLQ-N---VTNYFVVSLA---A---ADI---L-----V--GVLAIPFAITISTGFCAACH--GCLFIACFVLVL-A--QS--S-I----FSLLAIAIDRYIAIAIPLRY--N-GLVTGTRAAGIIAICWVLSF-AIGLT--PMLGWNNCGQ--PK--------EGKAHSQ--GCGE-----GQVACLF-EDV-----VPMNYMV----YFN-FFACVLVPLLLMLGVYLRIFAAARRQ-LADL-ED----NWETLNDN--L----KVI----EKADNAAQVKD--A-LTK-MRAAALDA-QK-ATPPK-LED--KSPDSPEMKDF-R-----HGFDILVGQIDDA--LKLANE-G----KVKEAQAAAEQLKTTRNA-Y-I----QKYLER-ARSTLQKEVHAAKS--AAIIAG---LFALC-WLPLHIINCFTFFCPDCSHAPLWLMYLAIV-LAHT-NSVVNPFIYA-YRIREF---R-QTFRKII-R-SHVLRQ-QE--PFKAAAHHHHHHHHHH', score=112.0, start=0, end=567)\n"
     ]
    }
   ],
   "source": [
    "from Bio import pairwise2\n",
    "from Bio.Seq import Seq \n",
    "from Bio.SeqRecord import SeqRecord\n",
    "from Bio.Align import MultipleSeqAlignment\n",
    "\n",
    "# Get the structures\n",
    "PDBCODE_1 = '8HDO' # Name of the first structure\n",
    "PDBCODE_2 = '5IU4' # Name of the second structure\n",
    "\n",
    "import requests\n",
    "data = requests.get(f'https://www.ebi.ac.uk/pdbe/api/pdb/entry/molecules/{PDBCODE_1}').json()[PDBCODE_1.lower()]\n",
    "SEQ1 = (data[0]['sequence'])\n",
    "SEQ1 = Seq(SEQ1)\n",
    "\n",
    "data = requests.get(f'https://www.ebi.ac.uk/pdbe/api/pdb/entry/molecules/{PDBCODE_2}').json()[PDBCODE_2.lower()]\n",
    "SEQ2 = (data[0]['sequence'])\n",
    "SEQ2 = Seq(SEQ2)\n",
    "\n",
    "alignments = pairwise2.align.globalxx(SEQ1, SEQ2)\n",
    "\n",
    "for align1, align2, score, begin, end in alignments:\n",
    "    filename = \"alignment.fasta\"\n",
    "    with open(filename, \"w\") as handle:\n",
    "        handle.write(\">SEQ1\\n%s\\n>SEQ2\\n%s\\n\" % (align1, align2))\n",
    "\n",
    "print(alignments[0])"
   ]
  },
  {
   "cell_type": "markdown",
   "metadata": {},
   "source": [
    "The structures were visually aligned using https://www.ncbi.nlm.nih.gov/Structure/icn3d/full.html. The RMSD was 4.085 Å.\n",
    "\n",
    "![image info](img/Realinged_8HDO_5IU4.jpg)\n",
    "\n",
    "The Protein-Ligand Interaction Profiler (PLIP, https://plip-tool.biotec.tu-dresden.de/plip-web/plip/index) was used to identify the interactions between the protein and the ligand.\n",
    "\n",
    "![image info](img/8HDO_I5D_R_408.png)\n",
    "\n",
    "The protein is represented in blue and the ligand in orange. The interactions are presents as follows: blue for hydrogen bonds, grey for hydrophobic interactions, green for pi-stacking.\n",
    "\n",
    "Finally, the interaction viewer on rcsb itself was used to visualize the protein-ligand complex.\n",
    "\n",
    "![image info](img/RCSB_8HDO.png)\n",
    "\n",
    "Both the protein and ligand are presented in green.\n",
    "\n",
    "It seems that the pi-stacking between the ligand and residue PHE173 is very important to the binding. Just like the hydrophobic interactions between the ligand and LEU172, PHE173 and ILE276. Lastly, there are hydrogen bonds between THR89, THR89, ASN186, ASN254. \n",
    "\n",
    "PLIP states that there could be a hydrophobic interaction between the ligand and residue SER68. However, a serine residue is not known to produce such interactions. It is mainly used by proteins to establish hydrogenbond interactions, because of its free -OH group.\n"
   ]
  },
  {
   "cell_type": "markdown",
   "metadata": {},
   "source": [
    "## 2. Cheminformatics\n",
    "This notebook chapter is adapted from TeachOpenCADD. (https://noteable-beta.edina.ac.uk/user/wmk69tm57bfauozjthxzn1/tree/teachopencadd.git/teachopencadd/talktorials)"
   ]
  },
  {
   "cell_type": "markdown",
   "metadata": {},
   "source": [
    "---"
   ]
  },
  {
   "cell_type": "markdown",
   "metadata": {},
   "source": [
    "### 2.1.1 Structure – Activity – Relationship (SAR)\n",
    "Catarzi et al. describe a structure-activity relationship (SAR) for a similar scaffold to that of BAY 60-6583.[3] Their SAR was therefore used as a starting point to the SAR in this study. The SAR in this particular paper describes not only the affinity to the hA2BR, but the affinity to the other hARs as well. \n",
    "\n",
    "![image info](img/BAY_P_scaffold.jpg)\n",
    "\n",
    "Within the SAR of Catarzi et al. the original compound (P453) seems to have the highest affinity. The R1 group of this compound was identical to the R1 group of BAY 60-6583. However, groups without the oxygen in the linker seem to have a high affinity for the hA2BR as well. When looking at the PLIP, it seems that the oxygen has no particular interaction with the protein. It seems to be inside a hydrophobic pocket. This might be the reason for the other ligands to perform quite well.\n",
    "\n",
    "The study shows multiple R2 groups, of which the imidazole structure, coupled via a carbon-sulphur, gave the most promising results. Smaller groups perform less in regards to their affinity. BAY 60-6583 has both a hydrogen bond donor and acceptor in the same place as P453. When comparing the structures to the interactions found with PLIP, the -NH2 group seems to be important for hydrogen bond interactions.\n",
    "\n",
    "Changes in both the R1 and R2 group will be tested in order to find a novel ligand to the hA2BR.\n"
   ]
  },
  {
   "cell_type": "code",
   "execution_count": 21,
   "metadata": {},
   "outputs": [
    {
     "name": "stdout",
     "output_type": "stream",
     "text": [
      "Directory already exists\n"
     ]
    }
   ],
   "source": [
    "HOMEDIR = str(Path.home())\n",
    "os.chdir(HOMEDIR)\n",
    "# We need to check whether the directory is there\n",
    "try:\n",
    "    os.mkdir('Cheminformatics')\n",
    "except:\n",
    "    print(\"Directory already exists\")\n",
    "os.chdir('Cheminformatics')"
   ]
  },
  {
   "cell_type": "markdown",
   "metadata": {},
   "source": [
    "### 2.1.2 Representations of the ligand\n",
    "For this next part, the InChIkey and SMILES representation of BAY 60-6583 were retrieved from PubChem.[7]\n",
    "\n",
    "- InChI key: ZTYHZMAZUWOXNC-UHFFFAOYSA-N\n",
    "- Canonical SMILES: C1CC1COC2=CC=C(C=C2)C3=C(C(=NC(=C3C#N)SCC(=O)N)N)C#N\n",
    "\n",
    "\n",
    "The Similar Structure Search on PubChem was used to find similar compounds.\n",
    "- Tanimoto threshold to 90%: 127 compounds\n",
    "- Tanimoto threshold to 80%: >1000 compounds\n",
    "\n",
    "\n",
    "The ChEMBL database was used to find the CHEMBLID of the ligand (CHEMBL4202825) and the protein (CHEMBL255). More similar compounds were retrieved using the ChEMBL similarity search.\n",
    "- Threshold to 95%: 0 compounds (only BAY 60-6583 was found)\n",
    "- Threshold to 90%: 1 compound (and BAY 60-6583 was found)\n",
    "- Threshold to 80%: 3 compounds (and BAY 60-6583 was found)\n",
    "\n",
    "Less compounds were found as ChEMBL only has compounds that were discribed in literature to have tested biological activity, which are less compounds than in the PubChem database.\n",
    "\n",
    "\n",
    "Lastly, the Zinc site (http://zinc15.docking.org/substances/home/) was used to find possible similar ligands. \n",
    "- Tanimoto threshold to 70%: 5 compounds (and BAY 60-6583 was found)\n",
    "\n",
    "The SMILES and InChIKey of a representative molecule: CCOc1ccc(-c2c(C#N)c(N)nc(SCC(N)=O)c2C#N)cc1, HICKUASMUMDUCU-UHFFFAOYSA-N\n",
    "\n",
    "The amount of similar compounds depends on the database of choice. ZINC is a database that only includes commercially available compounds, ChEMBL only has bioactive molecules with drug-like properties and PubChem contains all small molecules that have commercially available chemical data. Therefore, the similarity searches give different amounts of similar compounds per database, as the databases do not contain the same data."
   ]
  },
  {
   "cell_type": "markdown",
   "metadata": {},
   "source": [
    "### 2.1.3 Obtaining and cleaning data\n",
    "\n",
    "A dataset based on the CHEMBLID of the protein was downloaded from ChEMBL and read into pandas."
   ]
  },
  {
   "cell_type": "code",
   "execution_count": 22,
   "metadata": {},
   "outputs": [
    {
     "name": "stdout",
     "output_type": "stream",
     "text": [
      "There are a total of 7662 datapoints in this set\n"
     ]
    },
    {
     "data": {
      "text/html": [
       "<div>\n",
       "<style scoped>\n",
       "    .dataframe tbody tr th:only-of-type {\n",
       "        vertical-align: middle;\n",
       "    }\n",
       "\n",
       "    .dataframe tbody tr th {\n",
       "        vertical-align: top;\n",
       "    }\n",
       "\n",
       "    .dataframe thead th {\n",
       "        text-align: right;\n",
       "    }\n",
       "</style>\n",
       "<table border=\"1\" class=\"dataframe\">\n",
       "  <thead>\n",
       "    <tr style=\"text-align: right;\">\n",
       "      <th></th>\n",
       "      <th>Molecule ChEMBL ID</th>\n",
       "      <th>Molecule Name</th>\n",
       "      <th>Molecule Max Phase</th>\n",
       "      <th>Molecular Weight</th>\n",
       "      <th>#RO5 Violations</th>\n",
       "      <th>AlogP</th>\n",
       "      <th>Compound Key</th>\n",
       "      <th>Smiles</th>\n",
       "      <th>Standard Type</th>\n",
       "      <th>Standard Relation</th>\n",
       "      <th>...</th>\n",
       "      <th>Target Organism</th>\n",
       "      <th>Target Type</th>\n",
       "      <th>Document ChEMBL ID</th>\n",
       "      <th>Source ID</th>\n",
       "      <th>Source Description</th>\n",
       "      <th>Document Journal</th>\n",
       "      <th>Document Year</th>\n",
       "      <th>Cell ChEMBL ID</th>\n",
       "      <th>Properties</th>\n",
       "      <th>Action Type</th>\n",
       "    </tr>\n",
       "  </thead>\n",
       "  <tbody>\n",
       "    <tr>\n",
       "      <th>0</th>\n",
       "      <td>CHEMBL601516</td>\n",
       "      <td>NaN</td>\n",
       "      <td>None</td>\n",
       "      <td>713.89</td>\n",
       "      <td>3</td>\n",
       "      <td>5.29</td>\n",
       "      <td>25</td>\n",
       "      <td>CC(C)n1cnc(CCNc2nc(NCC(c3ccccc3)c3ccccc3)c3ncn...</td>\n",
       "      <td>EC50</td>\n",
       "      <td>NaN</td>\n",
       "      <td>...</td>\n",
       "      <td>Homo sapiens</td>\n",
       "      <td>SINGLE PROTEIN</td>\n",
       "      <td>CHEMBL1158518</td>\n",
       "      <td>1</td>\n",
       "      <td>Scientific Literature</td>\n",
       "      <td>Bioorg Med Chem Lett</td>\n",
       "      <td>2010.0</td>\n",
       "      <td>CHEMBL3308072</td>\n",
       "      <td>NaN</td>\n",
       "      <td>NaN</td>\n",
       "    </tr>\n",
       "    <tr>\n",
       "      <th>1</th>\n",
       "      <td>CHEMBL589262</td>\n",
       "      <td>NaN</td>\n",
       "      <td>None</td>\n",
       "      <td>697.16</td>\n",
       "      <td>2</td>\n",
       "      <td>3.37</td>\n",
       "      <td>11</td>\n",
       "      <td>CNC(=O)[C@@]12C[C@@H]1[C@@H](n1cnc3c(NCc4cccc(...</td>\n",
       "      <td>Activity</td>\n",
       "      <td>'='</td>\n",
       "      <td>...</td>\n",
       "      <td>Homo sapiens</td>\n",
       "      <td>SINGLE PROTEIN</td>\n",
       "      <td>CHEMBL1159060</td>\n",
       "      <td>1</td>\n",
       "      <td>Scientific Literature</td>\n",
       "      <td>Bioorg Med Chem</td>\n",
       "      <td>2010.0</td>\n",
       "      <td>CHEMBL3308072</td>\n",
       "      <td>NaN</td>\n",
       "      <td>NaN</td>\n",
       "    </tr>\n",
       "    <tr>\n",
       "      <th>2</th>\n",
       "      <td>CHEMBL410298</td>\n",
       "      <td>NaN</td>\n",
       "      <td>None</td>\n",
       "      <td>505.62</td>\n",
       "      <td>1</td>\n",
       "      <td>3.72</td>\n",
       "      <td>11i</td>\n",
       "      <td>CCCn1c(=O)c2[nH]c(-c3cc(C)n(CC(=O)Nc4ccc(CC(C)...</td>\n",
       "      <td>IC50</td>\n",
       "      <td>'&gt;'</td>\n",
       "      <td>...</td>\n",
       "      <td>Homo sapiens</td>\n",
       "      <td>SINGLE PROTEIN</td>\n",
       "      <td>CHEMBL1144025</td>\n",
       "      <td>1</td>\n",
       "      <td>Scientific Literature</td>\n",
       "      <td>Bioorg Med Chem</td>\n",
       "      <td>2008.0</td>\n",
       "      <td>CHEMBL3308072</td>\n",
       "      <td>NaN</td>\n",
       "      <td>NaN</td>\n",
       "    </tr>\n",
       "    <tr>\n",
       "      <th>3</th>\n",
       "      <td>CHEMBL258571</td>\n",
       "      <td>NaN</td>\n",
       "      <td>None</td>\n",
       "      <td>483.96</td>\n",
       "      <td>0</td>\n",
       "      <td>3.17</td>\n",
       "      <td>11c</td>\n",
       "      <td>CCCn1c(=O)c2[nH]c(-c3cc(C)n(CC(=O)Nc4ccc(Cl)cc...</td>\n",
       "      <td>IC50</td>\n",
       "      <td>'='</td>\n",
       "      <td>...</td>\n",
       "      <td>Homo sapiens</td>\n",
       "      <td>SINGLE PROTEIN</td>\n",
       "      <td>CHEMBL1144025</td>\n",
       "      <td>1</td>\n",
       "      <td>Scientific Literature</td>\n",
       "      <td>Bioorg Med Chem</td>\n",
       "      <td>2008.0</td>\n",
       "      <td>CHEMBL3308072</td>\n",
       "      <td>NaN</td>\n",
       "      <td>NaN</td>\n",
       "    </tr>\n",
       "    <tr>\n",
       "      <th>4</th>\n",
       "      <td>CHEMBL1170526</td>\n",
       "      <td>NaN</td>\n",
       "      <td>None</td>\n",
       "      <td>416.43</td>\n",
       "      <td>0</td>\n",
       "      <td>2.53</td>\n",
       "      <td>17</td>\n",
       "      <td>COc1ccc(N(CC(N)=O)C(C)=O)c2sc(NC(=O)c3ccc(F)cc...</td>\n",
       "      <td>IC50</td>\n",
       "      <td>'='</td>\n",
       "      <td>...</td>\n",
       "      <td>Homo sapiens</td>\n",
       "      <td>SINGLE PROTEIN</td>\n",
       "      <td>CHEMBL1177799</td>\n",
       "      <td>1</td>\n",
       "      <td>Scientific Literature</td>\n",
       "      <td>Bioorg Med Chem Lett</td>\n",
       "      <td>2010.0</td>\n",
       "      <td>CHEMBL3308072</td>\n",
       "      <td>NaN</td>\n",
       "      <td>NaN</td>\n",
       "    </tr>\n",
       "  </tbody>\n",
       "</table>\n",
       "<p>5 rows × 46 columns</p>\n",
       "</div>"
      ],
      "text/plain": [
       "  Molecule ChEMBL ID Molecule Name Molecule Max Phase  Molecular Weight  \\\n",
       "0       CHEMBL601516           NaN               None            713.89   \n",
       "1       CHEMBL589262           NaN               None            697.16   \n",
       "2       CHEMBL410298           NaN               None            505.62   \n",
       "3       CHEMBL258571           NaN               None            483.96   \n",
       "4      CHEMBL1170526           NaN               None            416.43   \n",
       "\n",
       "  #RO5 Violations AlogP Compound Key  \\\n",
       "0               3  5.29           25   \n",
       "1               2  3.37           11   \n",
       "2               1  3.72          11i   \n",
       "3               0  3.17          11c   \n",
       "4               0  2.53           17   \n",
       "\n",
       "                                              Smiles Standard Type  \\\n",
       "0  CC(C)n1cnc(CCNc2nc(NCC(c3ccccc3)c3ccccc3)c3ncn...          EC50   \n",
       "1  CNC(=O)[C@@]12C[C@@H]1[C@@H](n1cnc3c(NCc4cccc(...      Activity   \n",
       "2  CCCn1c(=O)c2[nH]c(-c3cc(C)n(CC(=O)Nc4ccc(CC(C)...          IC50   \n",
       "3  CCCn1c(=O)c2[nH]c(-c3cc(C)n(CC(=O)Nc4ccc(Cl)cc...          IC50   \n",
       "4  COc1ccc(N(CC(N)=O)C(C)=O)c2sc(NC(=O)c3ccc(F)cc...          IC50   \n",
       "\n",
       "  Standard Relation  ...  Target Organism     Target Type  Document ChEMBL ID  \\\n",
       "0               NaN  ...     Homo sapiens  SINGLE PROTEIN       CHEMBL1158518   \n",
       "1               '='  ...     Homo sapiens  SINGLE PROTEIN       CHEMBL1159060   \n",
       "2               '>'  ...     Homo sapiens  SINGLE PROTEIN       CHEMBL1144025   \n",
       "3               '='  ...     Homo sapiens  SINGLE PROTEIN       CHEMBL1144025   \n",
       "4               '='  ...     Homo sapiens  SINGLE PROTEIN       CHEMBL1177799   \n",
       "\n",
       "  Source ID     Source Description      Document Journal  Document Year  \\\n",
       "0         1  Scientific Literature  Bioorg Med Chem Lett         2010.0   \n",
       "1         1  Scientific Literature       Bioorg Med Chem         2010.0   \n",
       "2         1  Scientific Literature       Bioorg Med Chem         2008.0   \n",
       "3         1  Scientific Literature       Bioorg Med Chem         2008.0   \n",
       "4         1  Scientific Literature  Bioorg Med Chem Lett         2010.0   \n",
       "\n",
       "  Cell ChEMBL ID Properties Action Type  \n",
       "0  CHEMBL3308072        NaN         NaN  \n",
       "1  CHEMBL3308072        NaN         NaN  \n",
       "2  CHEMBL3308072        NaN         NaN  \n",
       "3  CHEMBL3308072        NaN         NaN  \n",
       "4  CHEMBL3308072        NaN         NaN  \n",
       "\n",
       "[5 rows x 46 columns]"
      ]
     },
     "execution_count": 22,
     "metadata": {},
     "output_type": "execute_result"
    }
   ],
   "source": [
    "CHEMBLID = 'CHEMBL255'\n",
    "FILENAME = '../CHEMBL255.tsv'\n",
    "\n",
    "data = pd.read_csv(FILENAME, sep='\\t')\n",
    "\n",
    "print(\"There are a total of {} datapoints in this set\".format(len(data)))\n",
    "data.head()"
   ]
  },
  {
   "cell_type": "markdown",
   "metadata": {},
   "source": [
    "Most of the colomns were removed, except fot the compound ID, pCHEMBL_value, Assay Type, binding affinity and the smiles:"
   ]
  },
  {
   "cell_type": "code",
   "execution_count": 23,
   "metadata": {},
   "outputs": [
    {
     "data": {
      "text/html": [
       "<div>\n",
       "<style scoped>\n",
       "    .dataframe tbody tr th:only-of-type {\n",
       "        vertical-align: middle;\n",
       "    }\n",
       "\n",
       "    .dataframe tbody tr th {\n",
       "        vertical-align: top;\n",
       "    }\n",
       "\n",
       "    .dataframe thead th {\n",
       "        text-align: right;\n",
       "    }\n",
       "</style>\n",
       "<table border=\"1\" class=\"dataframe\">\n",
       "  <thead>\n",
       "    <tr style=\"text-align: right;\">\n",
       "      <th></th>\n",
       "      <th>Molecule ChEMBL ID</th>\n",
       "      <th>pChEMBL_value</th>\n",
       "      <th>Smiles</th>\n",
       "      <th>Assay_Type</th>\n",
       "      <th>Standard Relation</th>\n",
       "      <th>Standard Value</th>\n",
       "    </tr>\n",
       "  </thead>\n",
       "  <tbody>\n",
       "    <tr>\n",
       "      <th>0</th>\n",
       "      <td>CHEMBL601516</td>\n",
       "      <td>NaN</td>\n",
       "      <td>CC(C)n1cnc(CCNc2nc(NCC(c3ccccc3)c3ccccc3)c3ncn...</td>\n",
       "      <td>F</td>\n",
       "      <td>NaN</td>\n",
       "      <td>NaN</td>\n",
       "    </tr>\n",
       "    <tr>\n",
       "      <th>1</th>\n",
       "      <td>CHEMBL589262</td>\n",
       "      <td>NaN</td>\n",
       "      <td>CNC(=O)[C@@]12C[C@@H]1[C@@H](n1cnc3c(NCc4cccc(...</td>\n",
       "      <td>F</td>\n",
       "      <td>'='</td>\n",
       "      <td>30.2</td>\n",
       "    </tr>\n",
       "    <tr>\n",
       "      <th>2</th>\n",
       "      <td>CHEMBL410298</td>\n",
       "      <td>NaN</td>\n",
       "      <td>CCCn1c(=O)c2[nH]c(-c3cc(C)n(CC(=O)Nc4ccc(CC(C)...</td>\n",
       "      <td>F</td>\n",
       "      <td>'&gt;'</td>\n",
       "      <td>1000.0</td>\n",
       "    </tr>\n",
       "    <tr>\n",
       "      <th>3</th>\n",
       "      <td>CHEMBL258571</td>\n",
       "      <td>7.37</td>\n",
       "      <td>CCCn1c(=O)c2[nH]c(-c3cc(C)n(CC(=O)Nc4ccc(Cl)cc...</td>\n",
       "      <td>F</td>\n",
       "      <td>'='</td>\n",
       "      <td>43.0</td>\n",
       "    </tr>\n",
       "    <tr>\n",
       "      <th>4</th>\n",
       "      <td>CHEMBL1170526</td>\n",
       "      <td>7.22</td>\n",
       "      <td>COc1ccc(N(CC(N)=O)C(C)=O)c2sc(NC(=O)c3ccc(F)cc...</td>\n",
       "      <td>F</td>\n",
       "      <td>'='</td>\n",
       "      <td>60.0</td>\n",
       "    </tr>\n",
       "  </tbody>\n",
       "</table>\n",
       "</div>"
      ],
      "text/plain": [
       "  Molecule ChEMBL ID  pChEMBL_value  \\\n",
       "0       CHEMBL601516            NaN   \n",
       "1       CHEMBL589262            NaN   \n",
       "2       CHEMBL410298            NaN   \n",
       "3       CHEMBL258571           7.37   \n",
       "4      CHEMBL1170526           7.22   \n",
       "\n",
       "                                              Smiles Assay_Type  \\\n",
       "0  CC(C)n1cnc(CCNc2nc(NCC(c3ccccc3)c3ccccc3)c3ncn...          F   \n",
       "1  CNC(=O)[C@@]12C[C@@H]1[C@@H](n1cnc3c(NCc4cccc(...          F   \n",
       "2  CCCn1c(=O)c2[nH]c(-c3cc(C)n(CC(=O)Nc4ccc(CC(C)...          F   \n",
       "3  CCCn1c(=O)c2[nH]c(-c3cc(C)n(CC(=O)Nc4ccc(Cl)cc...          F   \n",
       "4  COc1ccc(N(CC(N)=O)C(C)=O)c2sc(NC(=O)c3ccc(F)cc...          F   \n",
       "\n",
       "  Standard Relation  Standard Value  \n",
       "0               NaN             NaN  \n",
       "1               '='            30.2  \n",
       "2               '>'          1000.0  \n",
       "3               '='            43.0  \n",
       "4               '='            60.0  "
      ]
     },
     "execution_count": 23,
     "metadata": {},
     "output_type": "execute_result"
    }
   ],
   "source": [
    "pd_data = data[['Molecule ChEMBL ID','pChEMBL Value','Smiles','Assay Type', 'Standard Relation','Standard Value']]\n",
    "pd_data.rename(columns={'pChEMBL Value': 'pChEMBL_value', 'Assay Type':'Assay_Type'}, inplace=True)\n",
    "pd_data.head()"
   ]
  },
  {
   "cell_type": "markdown",
   "metadata": {},
   "source": [
    "An activity classifier was added to filter out the data with no pChEMBL value. The threshold was set to > 6.5, in order to keep weaker binders as this information is necessary for a strond model as well."
   ]
  },
  {
   "cell_type": "code",
   "execution_count": 24,
   "metadata": {
    "scrolled": false
   },
   "outputs": [
    {
     "name": "stdout",
     "output_type": "stream",
     "text": [
      "Number of active compounds: 2075\n",
      "Number of inactive compounds: 5587\n"
     ]
    }
   ],
   "source": [
    "import numpy as np\n",
    "# Add column for activity\n",
    "pd_data[\"active\"] = np.zeros(len(pd_data))\n",
    "\n",
    "# Mark every molecule as active with an pCHEMBL of >= 6.5, 0 otherwise\n",
    "pd_data.loc[pd_data[pd_data.pChEMBL_value >= 6.5].index, \"active\"] = 1.0\n",
    "\n",
    "# NBVAL_CHECK_OUTPUT\n",
    "print(\"Number of active compounds:\", int(pd_data.active.sum()))\n",
    "print(\"Number of inactive compounds:\", len(pd_data) - int(pd_data.active.sum()))"
   ]
  },
  {
   "cell_type": "markdown",
   "metadata": {},
   "source": [
    "Finally, functional assay readout was dropped, as this will not be considered in the model."
   ]
  },
  {
   "cell_type": "code",
   "execution_count": 25,
   "metadata": {},
   "outputs": [
    {
     "name": "stdout",
     "output_type": "stream",
     "text": [
      "We have a total of 4638 activity points left\n"
     ]
    }
   ],
   "source": [
    "pd_data.drop(pd_data[pd_data.Assay_Type != 'B'].index, inplace=True)\n",
    "\n",
    "print(\"We have a total of {} activity points left\".format(len(pd_data)))"
   ]
  },
  {
   "cell_type": "code",
   "execution_count": 26,
   "metadata": {},
   "outputs": [],
   "source": [
    "# Set path to this notebook\n",
    "HERE = Path(_dh[-1])\n",
    "DATA = HERE / \"data\""
   ]
  },
  {
   "cell_type": "markdown",
   "metadata": {},
   "source": [
    "### 2.1.4 Molecule encoding\n",
    "\n",
    "The function `smiles_to_fp` was defined to generate fingerprints from SMILES. MACCS and Morgan fingerprints were used."
   ]
  },
  {
   "cell_type": "code",
   "execution_count": 27,
   "metadata": {},
   "outputs": [],
   "source": [
    "def smiles_to_fp(smiles, method=\"maccs\", n_bits=2048):\n",
    "    \"\"\"\n",
    "    Encode a molecule from a SMILES string into a fingerprint.\n",
    "\n",
    "    Parameters\n",
    "    ----------\n",
    "    smiles : str\n",
    "        The SMILES string defining the molecule.\n",
    "\n",
    "    method : str\n",
    "        The type of fingerprint to use. Default is MACCS keys.\n",
    "\n",
    "    n_bits : int\n",
    "        The length of the fingerprint.\n",
    "\n",
    "    Returns\n",
    "    -------\n",
    "    array\n",
    "        The fingerprint array.\n",
    "\n",
    "    \"\"\"\n",
    "\n",
    "    # convert smiles to RDKit mol object\n",
    "    try:\n",
    "        mol = Chem.MolFromSmiles(smiles)\n",
    "        \n",
    "    except:\n",
    "        return('NaN')\n",
    "\n",
    "    if method == \"maccs\":\n",
    "        return np.array(MACCSkeys.GenMACCSKeys(mol))\n",
    "    if method == \"morgan2\":\n",
    "        return np.array(GetMorganFingerprintAsBitVect(mol, 2, nBits=n_bits))\n",
    "    if method == \"morgan3\":\n",
    "        return np.array(GetMorganFingerprintAsBitVect(mol, 3, nBits=n_bits))\n",
    "    else:\n",
    "        # NBVAL_CHECK_OUTPUT\n",
    "        print(f\"Warning: Wrong method specified: {method}. Default will be used instead.\")\n",
    "        return np.array(MACCSkeys.GenMACCSKeys(mol))"
   ]
  },
  {
   "cell_type": "code",
   "execution_count": 28,
   "metadata": {},
   "outputs": [],
   "source": [
    "compound_df = pd_data.copy()"
   ]
  },
  {
   "cell_type": "code",
   "execution_count": 29,
   "metadata": {},
   "outputs": [
    {
     "data": {
      "text/html": [
       "<div>\n",
       "<style scoped>\n",
       "    .dataframe tbody tr th:only-of-type {\n",
       "        vertical-align: middle;\n",
       "    }\n",
       "\n",
       "    .dataframe tbody tr th {\n",
       "        vertical-align: top;\n",
       "    }\n",
       "\n",
       "    .dataframe thead th {\n",
       "        text-align: right;\n",
       "    }\n",
       "</style>\n",
       "<table border=\"1\" class=\"dataframe\">\n",
       "  <thead>\n",
       "    <tr style=\"text-align: right;\">\n",
       "      <th></th>\n",
       "      <th>Molecule ChEMBL ID</th>\n",
       "      <th>pChEMBL_value</th>\n",
       "      <th>Smiles</th>\n",
       "      <th>Assay_Type</th>\n",
       "      <th>Standard Relation</th>\n",
       "      <th>Standard Value</th>\n",
       "      <th>active</th>\n",
       "      <th>fp</th>\n",
       "    </tr>\n",
       "  </thead>\n",
       "  <tbody>\n",
       "    <tr>\n",
       "      <th>7</th>\n",
       "      <td>CHEMBL240624</td>\n",
       "      <td>NaN</td>\n",
       "      <td>COCCOc1ccc(N2CCN(CCn3ncc4c3nc(N)n3nc(-c5ccco5)...</td>\n",
       "      <td>B</td>\n",
       "      <td>'&gt;'</td>\n",
       "      <td>1700.0</td>\n",
       "      <td>0.0</td>\n",
       "      <td>[0, 0, 0, 0, 0, 0, 0, 0, 0, 0, 0, 0, 0, 0, 0, ...</td>\n",
       "    </tr>\n",
       "    <tr>\n",
       "      <th>8</th>\n",
       "      <td>CHEMBL382413</td>\n",
       "      <td>NaN</td>\n",
       "      <td>Cn1c(=O)c2[nH]c(-c3ccc(OCC(=O)O)cc3)cc2n(C)c1=O</td>\n",
       "      <td>B</td>\n",
       "      <td>'='</td>\n",
       "      <td>47.0</td>\n",
       "      <td>0.0</td>\n",
       "      <td>[0, 0, 0, 0, 0, 0, 0, 0, 0, 0, 0, 0, 0, 0, 0, ...</td>\n",
       "    </tr>\n",
       "    <tr>\n",
       "      <th>9</th>\n",
       "      <td>CHEMBL201554</td>\n",
       "      <td>NaN</td>\n",
       "      <td>COCCCn1c(=O)n(C)c(=O)c2[nH]c(-c3ccc(OCC(=O)Nc4...</td>\n",
       "      <td>B</td>\n",
       "      <td>'='</td>\n",
       "      <td>80.0</td>\n",
       "      <td>0.0</td>\n",
       "      <td>[0, 0, 0, 0, 0, 0, 0, 0, 0, 0, 0, 0, 0, 0, 0, ...</td>\n",
       "    </tr>\n",
       "  </tbody>\n",
       "</table>\n",
       "</div>"
      ],
      "text/plain": [
       "  Molecule ChEMBL ID  pChEMBL_value  \\\n",
       "7       CHEMBL240624            NaN   \n",
       "8       CHEMBL382413            NaN   \n",
       "9       CHEMBL201554            NaN   \n",
       "\n",
       "                                              Smiles Assay_Type  \\\n",
       "7  COCCOc1ccc(N2CCN(CCn3ncc4c3nc(N)n3nc(-c5ccco5)...          B   \n",
       "8    Cn1c(=O)c2[nH]c(-c3ccc(OCC(=O)O)cc3)cc2n(C)c1=O          B   \n",
       "9  COCCCn1c(=O)n(C)c(=O)c2[nH]c(-c3ccc(OCC(=O)Nc4...          B   \n",
       "\n",
       "  Standard Relation  Standard Value  active  \\\n",
       "7               '>'          1700.0     0.0   \n",
       "8               '='            47.0     0.0   \n",
       "9               '='            80.0     0.0   \n",
       "\n",
       "                                                  fp  \n",
       "7  [0, 0, 0, 0, 0, 0, 0, 0, 0, 0, 0, 0, 0, 0, 0, ...  \n",
       "8  [0, 0, 0, 0, 0, 0, 0, 0, 0, 0, 0, 0, 0, 0, 0, ...  \n",
       "9  [0, 0, 0, 0, 0, 0, 0, 0, 0, 0, 0, 0, 0, 0, 0, ...  "
      ]
     },
     "execution_count": 29,
     "metadata": {},
     "output_type": "execute_result"
    }
   ],
   "source": [
    "# Add column for fingerprint\n",
    "compound_df[\"fp\"] = compound_df[\"Smiles\"].apply(smiles_to_fp)\n",
    "compound_df.drop(compound_df[compound_df.fp == 'NaN'].index, inplace=True)\n",
    "compound_df.head(3)\n",
    "# NBVAL_CHECK_OUTPUT"
   ]
  },
  {
   "cell_type": "markdown",
   "metadata": {},
   "source": [
    "## 2.2 Machine Learning (ML)\n",
    "\n",
    "Several ML approaches were attempted to classify our molecules. Later, the model, which is able to predict data that it has never seen before the best, will be chosen. By doing so, over fitting can hopefully be minimized.\n",
    "\n",
    "* Random Forest (RF)\n",
    "* Support Vector Machine (SVM) \n",
    "* Artificial Neural Network (ANN) \n",
    "\n",
    "The function `model_training_and_validation` is defined, which fits a model on a random train-test split of the data and returns measures such as accuracy, sensitivity, specificity and AUC evaluated on the test set. The ROC curves are plotted using `plot_roc_curves_for_models`.\n",
    "\n",
    "The function named `crossvalidation` is defined to execute a cross validation procedure and print the statistics of the results over the folds."
   ]
  },
  {
   "cell_type": "markdown",
   "metadata": {},
   "source": [
    "#### Helper functions\n",
    "Helper function to plot customized ROC curves. Code inspired by [stackoverflow](https://stackoverflow.com/questions/42894871/how-to-plot-multiple-roc-curves-in-one-plot-with-legend-and-auc-scores-in-python)."
   ]
  },
  {
   "cell_type": "code",
   "execution_count": 30,
   "metadata": {},
   "outputs": [],
   "source": [
    "def plot_roc_curves_for_models(models, test_x, test_y, save_png=True):\n",
    "    \"\"\"\n",
    "    Helper function to plot customized roc curve.\n",
    "\n",
    "    Parameters\n",
    "    ----------\n",
    "    models: dict\n",
    "        Dictionary of pretrained machine learning models.\n",
    "    test_x: list\n",
    "        Molecular fingerprints for test set.\n",
    "    test_y: list\n",
    "        Associated activity labels for test set.\n",
    "    save_png: bool\n",
    "        Save image to disk (default = False)\n",
    "\n",
    "    Returns\n",
    "    -------\n",
    "    fig:\n",
    "        Figure.\n",
    "    \"\"\"\n",
    "\n",
    "    fig, ax = plt.subplots()\n",
    "\n",
    "    # Below for loop iterates through your models list\n",
    "    for model in models:\n",
    "        # Select the model\n",
    "        ml_model = model[\"model\"]\n",
    "        # Prediction probability on test set\n",
    "        test_prob = ml_model.predict_proba(test_x)[:, 1]\n",
    "        # Prediction class on test set\n",
    "        test_pred = ml_model.predict(test_x)\n",
    "        # Compute False postive rate and True positive rate\n",
    "        fpr, tpr, thresholds = metrics.roc_curve(test_y, test_prob)\n",
    "        # Calculate Area under the curve to display on the plot\n",
    "        auc = roc_auc_score(test_y, test_prob)\n",
    "        # Plot the computed values\n",
    "        ax.plot(fpr, tpr, label=(f\"{model['label']} AUC area = {auc:.2f}\"))\n",
    "\n",
    "    # Custom settings for the plot\n",
    "    ax.plot([0, 1], [0, 1], \"r--\")\n",
    "    ax.set_xlabel(\"False Positive Rate\")\n",
    "    ax.set_ylabel(\"True Positive Rate\")\n",
    "    ax.set_title(\"Receiver Operating Characteristic\")\n",
    "    ax.legend(loc=\"lower right\")\n",
    "    # Save plot\n",
    "    if save_png:\n",
    "        fig.savefig(f\"results/roc_auc\", dpi=300, bbox_inches=\"tight\", transparent=True)\n",
    "    return fig"
   ]
  },
  {
   "cell_type": "markdown",
   "metadata": {},
   "source": [
    "Helper function to calculate model performance."
   ]
  },
  {
   "cell_type": "code",
   "execution_count": 31,
   "metadata": {},
   "outputs": [],
   "source": [
    "def model_performance(ml_model, test_x, test_y, verbose=True):\n",
    "    \"\"\"\n",
    "    Helper function to calculate model performance\n",
    "\n",
    "    Parameters\n",
    "    ----------\n",
    "    ml_model: sklearn model object\n",
    "        The machine learning model to train.\n",
    "    test_x: list\n",
    "        Molecular fingerprints for test set.\n",
    "    test_y: list\n",
    "        Associated activity labels for test set.\n",
    "    verbose: bool\n",
    "        Print performance measure (default = True)\n",
    "\n",
    "    Returns\n",
    "    -------\n",
    "    tuple:\n",
    "        Accuracy, sensitivity, specificity, auc on test set.\n",
    "    \"\"\"\n",
    "\n",
    "    # Prediction probability on test set\n",
    "    test_prob = ml_model.predict_proba(test_x)[:, 1]\n",
    "\n",
    "    # Prediction class on test set\n",
    "    test_pred = ml_model.predict(test_x)\n",
    "\n",
    "    # Performance of model on test set\n",
    "    accuracy = accuracy_score(test_y, test_pred)\n",
    "    sens = recall_score(test_y, test_pred)\n",
    "    spec = recall_score(test_y, test_pred, pos_label=0)\n",
    "    auc = roc_auc_score(test_y, test_prob)\n",
    "\n",
    "    if verbose:\n",
    "        # Print performance results\n",
    "        # NBVAL_CHECK_OUTPUT        print(f\"Accuracy: {accuracy:.2}\")\n",
    "        print(f\"Sensitivity: {sens:.2f}\")\n",
    "        print(f\"Specificity: {spec:.2f}\")\n",
    "        print(f\"AUC: {auc:.2f}\")\n",
    "\n",
    "    return accuracy, sens, spec, auc"
   ]
  },
  {
   "cell_type": "markdown",
   "metadata": {},
   "source": [
    " Helper function to fit a machine learning model on a random train-test split of the data and return the performance measures."
   ]
  },
  {
   "cell_type": "code",
   "execution_count": 32,
   "metadata": {},
   "outputs": [],
   "source": [
    "def model_training_and_validation(ml_model, name, splits, verbose=True):\n",
    "    \"\"\"\n",
    "    Fit a machine learning model on a random train-test split of the data\n",
    "    and return the performance measures.\n",
    "\n",
    "    Parameters\n",
    "    ----------\n",
    "    ml_model: sklearn model object\n",
    "        The machine learning model to train.\n",
    "    name: str\n",
    "        Name of machine learning algorithm: RF, SVM, ANN\n",
    "    splits: list\n",
    "        List of desciptor and label data: train_x, test_x, train_y, test_y.\n",
    "    verbose: bool\n",
    "        Print performance info (default = True)\n",
    "\n",
    "    Returns\n",
    "    -------\n",
    "    tuple:\n",
    "        Accuracy, sensitivity, specificity, auc on test set.\n",
    "\n",
    "    \"\"\"\n",
    "    train_x, test_x, train_y, test_y = splits\n",
    "\n",
    "    # Fit the model\n",
    "    ml_model.fit(train_x, train_y)\n",
    "\n",
    "    # Calculate model performance results\n",
    "    accuracy, sens, spec, auc = model_performance(ml_model, test_x, test_y, verbose)\n",
    "\n",
    "    return accuracy, sens, spec, auc"
   ]
  },
  {
   "cell_type": "markdown",
   "metadata": {},
   "source": [
    "**Preprocessing**: Split the data (will be reused for the other models)"
   ]
  },
  {
   "cell_type": "code",
   "execution_count": 33,
   "metadata": {},
   "outputs": [
    {
     "name": "stdout",
     "output_type": "stream",
     "text": [
      "Training data size: 3710\n",
      "Test data size: 928\n"
     ]
    }
   ],
   "source": [
    "fingerprint_to_model = compound_df.fp.tolist()\n",
    "label_to_model = compound_df.active.tolist()\n",
    "\n",
    "# Split data randomly in train and test set\n",
    "# note that we use test/train_x for the respective fingerprint splits\n",
    "# and test/train_y for the respective label splits\n",
    "(\n",
    "    static_train_x,\n",
    "    static_test_x,\n",
    "    static_train_y,\n",
    "    static_test_y,\n",
    ") = train_test_split(fingerprint_to_model, label_to_model, test_size=0.2, random_state=12)\n",
    "splits = [static_train_x, static_test_x, static_train_y, static_test_y]\n",
    "# NBVAL_CHECK_OUTPUT\n",
    "print(\"Training data size:\", len(static_train_x))\n",
    "print(\"Test data size:\", len(static_test_x))"
   ]
  },
  {
   "cell_type": "markdown",
   "metadata": {},
   "source": [
    "### 2.2.1 Random forest classifier (RF)\n",
    "\n",
    "A random forest classifier was tested first."
   ]
  },
  {
   "cell_type": "markdown",
   "metadata": {},
   "source": [
    "The model was trained on a random train-test split and the results were plotted."
   ]
  },
  {
   "cell_type": "code",
   "execution_count": 34,
   "metadata": {},
   "outputs": [],
   "source": [
    "# Set model parameter for random forest\n",
    "param = {\n",
    "    \"n_estimators\": 100,  # number of trees to grows\n",
    "    \"criterion\": \"entropy\",  # cost function to be optimized for a split\n",
    "}\n",
    "model_RF = RandomForestClassifier(**param)"
   ]
  },
  {
   "cell_type": "code",
   "execution_count": 35,
   "metadata": {},
   "outputs": [
    {
     "name": "stdout",
     "output_type": "stream",
     "text": [
      "Sensitivity: 0.76\n",
      "Specificity: 0.90\n",
      "AUC: 0.90\n"
     ]
    }
   ],
   "source": [
    "# Fit model on single split\n",
    "performance_measures = model_training_and_validation(model_RF, \"RF\", splits)"
   ]
  },
  {
   "cell_type": "code",
   "execution_count": 36,
   "metadata": {},
   "outputs": [
    {
     "name": "stdout",
     "output_type": "stream",
     "text": [
      "Directory already exists, continuing\n"
     ]
    },
    {
     "data": {
      "text/plain": [
       "'/home/jovyan/Cheminformatics/results/roc_auc.png'"
      ]
     },
     "execution_count": 36,
     "metadata": {},
     "output_type": "execute_result"
    },
    {
     "data": {
      "image/png": "[encoded data removed]",
      "text/plain": [
       "<Figure size 640x480 with 1 Axes>"
      ]
     },
     "metadata": {},
     "output_type": "display_data"
    }
   ],
   "source": [
    "# Initialize the list that stores all models. First one is RF.\n",
    "models = [{\"label\": \"Model_RF\", \"model\": model_RF}]\n",
    "try:\n",
    "    os.mkdir('results')\n",
    "except:\n",
    "    print(\"Directory already exists, continuing\")\n",
    "# Plot roc curve\n",
    "plot_roc_curves_for_models(models, static_test_x, static_test_y)\n",
    "result_img = '{}/results/roc_auc.png'.format(os.getcwd())\n",
    "result_img"
   ]
  },
  {
   "cell_type": "markdown",
   "metadata": {},
   "source": [
    "### 2.2.2 Support vector classifier (SVM)\n",
    "Next up was the SVM with a radial-basis function kernel (also: squared-exponential kernel). "
   ]
  },
  {
   "cell_type": "code",
   "execution_count": 37,
   "metadata": {
    "scrolled": true
   },
   "outputs": [
    {
     "name": "stdout",
     "output_type": "stream",
     "text": [
      "Sensitivity: 0.73\n",
      "Specificity: 0.94\n",
      "AUC: 0.89\n"
     ]
    }
   ],
   "source": [
    "# Specify model\n",
    "model_SVM = svm.SVC(kernel=\"rbf\", C=1, gamma=0.1, probability=True)\n",
    "\n",
    "# Fit model on single split\n",
    "performance_measures = model_training_and_validation(model_SVM, \"SVM\", splits)"
   ]
  },
  {
   "cell_type": "code",
   "execution_count": 38,
   "metadata": {
    "tags": [
     "nbsphinx-thumbnail"
    ]
   },
   "outputs": [
    {
     "data": {
      "text/plain": [
       "'/home/jovyan/Cheminformatics/results/roc_auc.png'"
      ]
     },
     "execution_count": 38,
     "metadata": {},
     "output_type": "execute_result"
    },
    {
     "data": {
      "image/png": "[encoded data removed]",
      "text/plain": [
       "<Figure size 640x480 with 1 Axes>"
      ]
     },
     "metadata": {},
     "output_type": "display_data"
    }
   ],
   "source": [
    "# Append SVM model\n",
    "models.append({\"label\": \"Model_SVM\", \"model\": model_SVM})\n",
    "# Plot roc curve\n",
    "plot_roc_curves_for_models(models, static_test_x, static_test_y)\n",
    "result_img = '{}/results/roc_auc.png'.format(os.getcwd())\n",
    "result_img"
   ]
  },
  {
   "cell_type": "markdown",
   "metadata": {},
   "source": [
    "### 2.2.3 Neural network classifier (ANN)\n",
    "Lastly, a neural network model was generated. An MLPClassifier (Multi-layer Perceptron classifier) was trained with 3 layers, each with 5 neurons. As before, the crossvalidation procedure was done and the results were plotted."
   ]
  },
  {
   "cell_type": "code",
   "execution_count": 39,
   "metadata": {
    "scrolled": true
   },
   "outputs": [
    {
     "name": "stdout",
     "output_type": "stream",
     "text": [
      "Sensitivity: 0.65\n",
      "Specificity: 0.90\n",
      "AUC: 0.88\n"
     ]
    }
   ],
   "source": [
    "# Specify model\n",
    "model_ANN = MLPClassifier(hidden_layer_sizes=(5, 3), random_state=12)\n",
    "\n",
    "# Fit model on single split\n",
    "performance_measures = model_training_and_validation(model_ANN, \"ANN\", splits)"
   ]
  },
  {
   "cell_type": "code",
   "execution_count": 40,
   "metadata": {},
   "outputs": [
    {
     "data": {
      "text/plain": [
       "'/home/jovyan/Cheminformatics/results/roc_auc.png'"
      ]
     },
     "execution_count": 40,
     "metadata": {},
     "output_type": "execute_result"
    },
    {
     "data": {
      "image/png": "[encoded data removed]",
      "text/plain": [
       "<Figure size 640x480 with 1 Axes>"
      ]
     },
     "metadata": {},
     "output_type": "display_data"
    }
   ],
   "source": [
    "# Append ANN model\n",
    "models.append({\"label\": \"Model_ANN\", \"model\": model_ANN})\n",
    "# Plot roc curve\n",
    "plot_roc_curves_for_models(models, static_test_x, static_test_y, True)\n",
    "result_img = '{}/results/roc_auc.png'.format(os.getcwd())\n",
    "result_img"
   ]
  },
  {
   "cell_type": "markdown",
   "metadata": {},
   "source": [
    "All models show a AUC of ~0.9, which is very good and means they were predictive when testing the test dataset."
   ]
  },
  {
   "cell_type": "markdown",
   "metadata": {},
   "source": [
    "### 2.2.4 Cross-validation\n",
    "\n",
    "Cross-validation experiments were performed with the three different models.\n",
    "Therefore, a helper function was defined for machine learning model training and validation in a cross-validation loop."
   ]
  },
  {
   "cell_type": "code",
   "execution_count": 41,
   "metadata": {},
   "outputs": [],
   "source": [
    "def crossvalidation(ml_model, df, n_folds=5, verbose=False):\n",
    "    \"\"\"\n",
    "    Machine learning model training and validation in a cross-validation loop.\n",
    "\n",
    "    Parameters\n",
    "    ----------\n",
    "    ml_model: sklearn model object\n",
    "        The machine learning model to train.\n",
    "    df: pd.DataFrame\n",
    "        Data set with SMILES and their associated activity labels.\n",
    "    n_folds: int, optional\n",
    "        Number of folds for cross-validation.\n",
    "    verbose: bool, optional\n",
    "        Performance measures are printed.\n",
    "\n",
    "    Returns\n",
    "    -------\n",
    "    None\n",
    "\n",
    "    \"\"\"\n",
    "    t0 = time.time()\n",
    "    # Shuffle the indices for the k-fold cross-validation\n",
    "    kf = KFold(n_splits=n_folds, shuffle=True, random_state=SEED)\n",
    "\n",
    "    # Results for each of the cross-validation folds\n",
    "    acc_per_fold = []\n",
    "    sens_per_fold = []\n",
    "    spec_per_fold = []\n",
    "    auc_per_fold = []\n",
    "\n",
    "    # Loop over the folds\n",
    "    for train_index, test_index in kf.split(df):\n",
    "        # clone model -- we want a fresh copy per fold!\n",
    "        fold_model = clone(ml_model)\n",
    "        # Training\n",
    "\n",
    "        # Convert the fingerprint and the label to a list\n",
    "        train_x = df.iloc[train_index].fp.tolist()\n",
    "        train_y = df.iloc[train_index].active.tolist()\n",
    "\n",
    "        # Fit the model\n",
    "        fold_model.fit(train_x, train_y)\n",
    "\n",
    "        # Testing\n",
    "\n",
    "        # Convert the fingerprint and the label to a list\n",
    "        test_x = df.iloc[test_index].fp.tolist()\n",
    "        test_y = df.iloc[test_index].active.tolist()\n",
    "\n",
    "        # Performance for each fold\n",
    "        accuracy, sens, spec, auc = model_performance(fold_model, test_x, test_y, verbose)\n",
    "\n",
    "        # Save results\n",
    "        acc_per_fold.append(accuracy)\n",
    "        sens_per_fold.append(sens)\n",
    "        spec_per_fold.append(spec)\n",
    "        auc_per_fold.append(auc)\n",
    "\n",
    "    # Print statistics of results\n",
    "    print(\n",
    "        f\"Mean accuracy: {np.mean(acc_per_fold):.2f} \\t\"\n",
    "        f\"and std : {np.std(acc_per_fold):.2f} \\n\"\n",
    "        f\"Mean sensitivity: {np.mean(sens_per_fold):.2f} \\t\"\n",
    "        f\"and std : {np.std(sens_per_fold):.2f} \\n\"\n",
    "        f\"Mean specificity: {np.mean(spec_per_fold):.2f} \\t\"\n",
    "        f\"and std : {np.std(spec_per_fold):.2f} \\n\"\n",
    "        f\"Mean AUC: {np.mean(auc_per_fold):.2f} \\t\"\n",
    "        f\"and std : {np.std(auc_per_fold):.2f} \\n\"\n",
    "        f\"Time taken : {time.time() - t0:.2f}s\\n\"\n",
    "    )\n",
    "\n",
    "    return acc_per_fold, sens_per_fold, spec_per_fold, auc_per_fold"
   ]
  },
  {
   "cell_type": "markdown",
   "metadata": {},
   "source": [
    "Cross-validation was applied and the statistics for all three ML models were visualized. In real world conditions, cross-validation usually applies 5 or more folds, but for the sake of performance it was reduced to 3."
   ]
  },
  {
   "cell_type": "code",
   "execution_count": 42,
   "metadata": {},
   "outputs": [],
   "source": [
    "N_FOLDS = 3"
   ]
  },
  {
   "cell_type": "markdown",
   "metadata": {},
   "source": [
    "_Note_: Next cell takes long to execute"
   ]
  },
  {
   "cell_type": "code",
   "execution_count": 43,
   "metadata": {},
   "outputs": [
    {
     "name": "stdout",
     "output_type": "stream",
     "text": [
      "\n",
      "======= \n",
      "Model_RF\n",
      "Mean accuracy: 0.85 \tand std : 0.00 \n",
      "Mean sensitivity: 0.74 \tand std : 0.01 \n",
      "Mean specificity: 0.90 \tand std : 0.00 \n",
      "Mean AUC: 0.90 \tand std : 0.01 \n",
      "Time taken : 1.40s\n",
      "\n",
      "\n",
      "======= \n",
      "Model_SVM\n",
      "Mean accuracy: 0.85 \tand std : 0.01 \n",
      "Mean sensitivity: 0.70 \tand std : 0.01 \n",
      "Mean specificity: 0.93 \tand std : 0.01 \n",
      "Mean AUC: 0.89 \tand std : 0.01 \n",
      "Time taken : 14.28s\n",
      "\n",
      "\n",
      "======= \n",
      "Model_ANN\n",
      "Mean accuracy: 0.81 \tand std : 0.01 \n",
      "Mean sensitivity: 0.64 \tand std : 0.01 \n",
      "Mean specificity: 0.90 \tand std : 0.01 \n",
      "Mean AUC: 0.87 \tand std : 0.01 \n",
      "Time taken : 5.18s\n",
      "\n"
     ]
    }
   ],
   "source": [
    "for model in models:\n",
    "    print(\"\\n======= \")\n",
    "    print(f\"{model['label']}\")\n",
    "    crossvalidation(model[\"model\"], compound_df, n_folds=N_FOLDS)"
   ]
  },
  {
   "cell_type": "markdown",
   "metadata": {},
   "source": [
    "Cross-validation performance for molecules encoded was shown using MACCS keys as a default. It was tried with Morgan fingerprints as well."
   ]
  },
  {
   "cell_type": "code",
   "execution_count": 44,
   "metadata": {},
   "outputs": [],
   "source": [
    "# Reset data frame\n",
    "compound_df = compound_df.drop(['fp'], axis=1)"
   ]
  },
  {
   "cell_type": "code",
   "execution_count": 45,
   "metadata": {},
   "outputs": [
    {
     "data": {
      "text/html": [
       "<div>\n",
       "<style scoped>\n",
       "    .dataframe tbody tr th:only-of-type {\n",
       "        vertical-align: middle;\n",
       "    }\n",
       "\n",
       "    .dataframe tbody tr th {\n",
       "        vertical-align: top;\n",
       "    }\n",
       "\n",
       "    .dataframe thead th {\n",
       "        text-align: right;\n",
       "    }\n",
       "</style>\n",
       "<table border=\"1\" class=\"dataframe\">\n",
       "  <thead>\n",
       "    <tr style=\"text-align: right;\">\n",
       "      <th></th>\n",
       "      <th>Molecule ChEMBL ID</th>\n",
       "      <th>pChEMBL_value</th>\n",
       "      <th>Smiles</th>\n",
       "      <th>Assay_Type</th>\n",
       "      <th>Standard Relation</th>\n",
       "      <th>Standard Value</th>\n",
       "      <th>active</th>\n",
       "      <th>fp</th>\n",
       "    </tr>\n",
       "  </thead>\n",
       "  <tbody>\n",
       "    <tr>\n",
       "      <th>7</th>\n",
       "      <td>CHEMBL240624</td>\n",
       "      <td>NaN</td>\n",
       "      <td>COCCOc1ccc(N2CCN(CCn3ncc4c3nc(N)n3nc(-c5ccco5)...</td>\n",
       "      <td>B</td>\n",
       "      <td>'&gt;'</td>\n",
       "      <td>1700.0</td>\n",
       "      <td>0.0</td>\n",
       "      <td>[0, 0, 0, 0, 0, 0, 0, 0, 0, 0, 0, 0, 0, 1, 0, ...</td>\n",
       "    </tr>\n",
       "    <tr>\n",
       "      <th>8</th>\n",
       "      <td>CHEMBL382413</td>\n",
       "      <td>NaN</td>\n",
       "      <td>Cn1c(=O)c2[nH]c(-c3ccc(OCC(=O)O)cc3)cc2n(C)c1=O</td>\n",
       "      <td>B</td>\n",
       "      <td>'='</td>\n",
       "      <td>47.0</td>\n",
       "      <td>0.0</td>\n",
       "      <td>[0, 0, 0, 0, 0, 0, 0, 0, 0, 0, 0, 0, 0, 0, 0, ...</td>\n",
       "    </tr>\n",
       "    <tr>\n",
       "      <th>9</th>\n",
       "      <td>CHEMBL201554</td>\n",
       "      <td>NaN</td>\n",
       "      <td>COCCCn1c(=O)n(C)c(=O)c2[nH]c(-c3ccc(OCC(=O)Nc4...</td>\n",
       "      <td>B</td>\n",
       "      <td>'='</td>\n",
       "      <td>80.0</td>\n",
       "      <td>0.0</td>\n",
       "      <td>[0, 0, 0, 0, 0, 0, 0, 0, 0, 0, 0, 0, 0, 1, 0, ...</td>\n",
       "    </tr>\n",
       "  </tbody>\n",
       "</table>\n",
       "</div>"
      ],
      "text/plain": [
       "  Molecule ChEMBL ID  pChEMBL_value  \\\n",
       "7       CHEMBL240624            NaN   \n",
       "8       CHEMBL382413            NaN   \n",
       "9       CHEMBL201554            NaN   \n",
       "\n",
       "                                              Smiles Assay_Type  \\\n",
       "7  COCCOc1ccc(N2CCN(CCn3ncc4c3nc(N)n3nc(-c5ccco5)...          B   \n",
       "8    Cn1c(=O)c2[nH]c(-c3ccc(OCC(=O)O)cc3)cc2n(C)c1=O          B   \n",
       "9  COCCCn1c(=O)n(C)c(=O)c2[nH]c(-c3ccc(OCC(=O)Nc4...          B   \n",
       "\n",
       "  Standard Relation  Standard Value  active  \\\n",
       "7               '>'          1700.0     0.0   \n",
       "8               '='            47.0     0.0   \n",
       "9               '='            80.0     0.0   \n",
       "\n",
       "                                                  fp  \n",
       "7  [0, 0, 0, 0, 0, 0, 0, 0, 0, 0, 0, 0, 0, 1, 0, ...  \n",
       "8  [0, 0, 0, 0, 0, 0, 0, 0, 0, 0, 0, 0, 0, 0, 0, ...  \n",
       "9  [0, 0, 0, 0, 0, 0, 0, 0, 0, 0, 0, 0, 0, 1, 0, ...  "
      ]
     },
     "execution_count": 45,
     "metadata": {},
     "output_type": "execute_result"
    }
   ],
   "source": [
    "# Use Morgan fingerprint with radius 3\n",
    "compound_df[\"fp\"] = compound_df[\"Smiles\"].apply(smiles_to_fp, args=(\"morgan3\",))\n",
    "compound_df.head(3)\n",
    "# NBVAL_CHECK_OUTPUT"
   ]
  },
  {
   "cell_type": "markdown",
   "metadata": {},
   "source": [
    "_Note_: Next cell takes long to execute"
   ]
  },
  {
   "cell_type": "code",
   "execution_count": 52,
   "metadata": {
    "scrolled": true
   },
   "outputs": [
    {
     "name": "stdout",
     "output_type": "stream",
     "text": [
      "\n",
      "=======\n",
      "Model_RF\n",
      "Mean accuracy: 0.86 \tand std : 0.01 \n",
      "Mean sensitivity: 0.74 \tand std : 0.02 \n",
      "Mean specificity: 0.91 \tand std : 0.01 \n",
      "Mean AUC: 0.91 \tand std : 0.01 \n",
      "Time taken : 6.84s\n",
      "\n",
      "\n",
      "=======\n",
      "Model_SVM\n",
      "Mean accuracy: 0.80 \tand std : 0.00 \n",
      "Mean sensitivity: 0.46 \tand std : 0.01 \n",
      "Mean specificity: 0.96 \tand std : 0.00 \n",
      "Mean AUC: 0.85 \tand std : 0.01 \n",
      "Time taken : 333.84s\n",
      "\n",
      "\n",
      "=======\n",
      "Model_ANN\n",
      "Mean accuracy: 0.84 \tand std : 0.01 \n",
      "Mean sensitivity: 0.75 \tand std : 0.02 \n",
      "Mean specificity: 0.88 \tand std : 0.01 \n",
      "Mean AUC: 0.91 \tand std : 0.00 \n",
      "Time taken : 65.47s\n",
      "\n"
     ]
    }
   ],
   "source": [
    "for model in models:\n",
    "    if model[\"label\"] == \"Model_SVM\":\n",
    "        # SVM is super slow with long fingerprints\n",
    "        # and will have a performance similar to RF\n",
    "        # We can skip it in this test, but if you want\n",
    "        # to run it, feel free to replace `continue` with `pass`\n",
    "        pass\n",
    "    print(\"\\n=======\")\n",
    "    print(model[\"label\"])\n",
    "    reduced_df = compound_df[['active','fp']]\n",
    "    crossvalidation(model[\"model\"], reduced_df, n_folds=N_FOLDS)"
   ]
  },
  {
   "cell_type": "markdown",
   "metadata": {},
   "source": [
    "So far, classification models have been running (is the compound going to be active or not, indicated by the active column we added in the dataframe). The next step is to see if a classification model can be trained. The censored data was removed (the ones with no pChEMBL value), and train another model. "
   ]
  },
  {
   "cell_type": "code",
   "execution_count": 47,
   "metadata": {},
   "outputs": [],
   "source": [
    "def crossvalidation_reg(ml_model, df, n_folds=5, verbose=False):\n",
    "    \"\"\"\n",
    "    Machine learning model training and validation in a cross-validation loop.\n",
    "\n",
    "    Parameters\n",
    "    ----------\n",
    "    ml_model: sklearn model object\n",
    "        The machine learning model to train.\n",
    "    df: pd.DataFrame\n",
    "        Data set with SMILES and their associated activity labels.\n",
    "    n_folds: int, optional\n",
    "        Number of folds for cross-validation.\n",
    "    verbose: bool, optional\n",
    "        Performance measures are printed.\n",
    "\n",
    "    Returns\n",
    "    -------\n",
    "    None\n",
    "\n",
    "    \"\"\"\n",
    "    t0 = time.time()\n",
    "    # Shuffle the indices for the k-fold cross-validation\n",
    "    kf = KFold(n_splits=n_folds, shuffle=True, random_state=SEED)\n",
    "\n",
    "    # Results for each of the cross-validation folds\n",
    "    MAE_per_fold = []\n",
    "    RMSE_per_fold = []\n",
    "\n",
    "    # Loop over the folds\n",
    "    for train_index, test_index in kf.split(df):\n",
    "        # clone model -- we want a fresh copy per fold!\n",
    "        fold_model = clone(ml_model)\n",
    "        # Training\n",
    "\n",
    "        # Convert the fingerprint and the label to a list\n",
    "        train_x = df.iloc[train_index].fp.tolist()\n",
    "        train_y = df.iloc[train_index].pChEMBL_value.tolist()\n",
    "\n",
    "        # Fit the model\n",
    "        fold_model.fit(train_x, train_y)\n",
    "\n",
    "        # Testing\n",
    "\n",
    "        # Convert the fingerprint and the label to a list\n",
    "        test_x = df.iloc[test_index].fp.tolist()\n",
    "        test_y = df.iloc[test_index].pChEMBL_value.tolist()\n",
    "        \n",
    "        test_results = fold_model.predict(test_x)\n",
    "        # Prediction probability on test set\n",
    "        from sklearn import metrics\n",
    "\n",
    "        MAE_per_fold.append(metrics.mean_absolute_error(test_y, test_results))\n",
    "        #print('Mean Squared Error (MSE):', metrics.mean_squared_error(test_y, test_results))\n",
    "        RMSE_per_fold.append(np.sqrt(metrics.mean_squared_error(test_y, test_results)))\n",
    "        #mape = np.mean(np.abs((gt - pred) / np.abs(gt)))\n",
    "        #print('Mean Absolute Percentage Error (MAPE):', round(mape * 100, 2))\n",
    "        #print('Accuracy:', round(100*(1 - mape), 2))\n",
    "    return(MAE_per_fold,RMSE_per_fold,fold_model)"
   ]
  },
  {
   "cell_type": "code",
   "execution_count": 48,
   "metadata": {},
   "outputs": [
    {
     "name": "stdout",
     "output_type": "stream",
     "text": [
      "Training data size: 3710\n",
      "Test data size: 928\n"
     ]
    }
   ],
   "source": [
    "fingerprint_to_model = compound_df.fp.tolist()\n",
    "label_to_model = compound_df.pChEMBL_value.tolist()\n",
    "\n",
    "# Split data randomly in train and test set\n",
    "# note that we use test/train_x for the respective fingerprint splits\n",
    "# and test/train_y for the respective label splits\n",
    "(\n",
    "    static_train_x,\n",
    "    static_test_x,\n",
    "    static_train_y,\n",
    "    static_test_y,\n",
    ") = train_test_split(fingerprint_to_model, label_to_model, test_size=0.2, random_state=12)\n",
    "splits = [static_train_x, static_test_x, static_train_y, static_test_y]\n",
    "# NBVAL_CHECK_OUTPUT\n",
    "print(\"Training data size:\", len(static_train_x))\n",
    "print(\"Test data size:\", len(static_test_x))"
   ]
  },
  {
   "cell_type": "code",
   "execution_count": 49,
   "metadata": {
    "scrolled": true
   },
   "outputs": [
    {
     "name": "stdout",
     "output_type": "stream",
     "text": [
      "MAE: 0.41 \tand std : 0.02 \n",
      "RMSE: 0.58 \tand std : 0.02 \n",
      "\n"
     ]
    }
   ],
   "source": [
    "# Kick out NaN in the pChEMBL values\n",
    "compound_df_noNaN = compound_df.dropna()\n",
    "\n",
    "# Append RF Regressor model\n",
    "#models.append({\"label\": \"Model_RF_reg\", \"model\": RandomForestRegressor})\n",
    "#Train model with RandomForestRegressor\n",
    "regressor = RandomForestRegressor()\n",
    "MAE, RMSE,trained_model = crossvalidation_reg(regressor , compound_df_noNaN, n_folds=N_FOLDS)\n",
    "\n",
    "print(\n",
    "f\"MAE: {np.mean(MAE):.2f} \\t\"\n",
    "f\"and std : {np.std(MAE):.2f} \\n\"\n",
    "f\"RMSE: {np.mean(RMSE):.2f} \\t\"\n",
    "f\"and std : {np.std(RMSE):.2f} \\n\"\n",
    ")"
   ]
  },
  {
   "cell_type": "markdown",
   "metadata": {},
   "source": [
    "The data is no longer categorical, so the errors between experimental data and predicted data are measured using the MAE and RMSE. Typically, an MAE below 0.6 and/or RMSE below, approximately, is considered quite decent. Therefore, the data seems to be satisfactory.\n",
    "\n",
    "The RF model was used to run predictions on new compounds. The following compounds were designed and attempted:\n",
    "\n",
    "![image_info](img/Differen_Ligands_pCHEMBL.jpg)\n",
    "\n",
    "## 2.3 Affinity prediction\n",
    "\n",
    "The output of the SMILES below is different than the original run of the model, because of the random split. The original output looked as follows:\n",
    "\n",
    "![image info](img/SMILES_predictions.png)\n",
    "\n",
    "This data was used to create a novel drug. **The SMILES and the images were created with ChemDraw**"
   ]
  },
  {
   "cell_type": "code",
   "execution_count": 51,
   "metadata": {},
   "outputs": [
    {
     "name": "stdout",
     "output_type": "stream",
     "text": [
      "SMILES, PREDICTION\n",
      "C1CC1COC2=CC=C(C=C2)C3=C(C(=NC(=C3C#N)SCC(=O)N)N)C#N,6.89\n",
      "N#CC1=C(SCC2=NC=CN2)N=C(N)C(C#N)=C1C(C=C3)=CC=C3OCC4CC4,7.21\n",
      "N#CC1=C(SCC(=O)C(N([H])[H])O[H])N=C(N([H])[H])C(CO[H])=C1C1C=C(CC)C(OCC2CC2)=CC=1,6.90\n",
      "N#CC1=C(SCC2=NC=CN2)N=C(N)C(C#N)=C1C(C=C3)=CC(CC)=C3OCC4CC4,7.02\n",
      "N#CC1=C(SCN(C)C)N=C(N)C(C#N)=C1C(C=C2)=CC=C2OCC3CC3,6.95\n",
      "N#CC1=C(SCN)N=C(N)C(C#N)=C1C(C=C2)=CC=C2OCC3CC3,6.96\n",
      "N#CC1=C(C2=CC=C(OCC3CC3)C=C2)C(C#N)=C(N=C1N)SCO,6.98\n",
      "N#CC1=C(C2=CC=C(O)C=C2)C(C#N)=C(N=C1N)SCO,6.93\n",
      "N#CC1=C(C2=CC=CC=C2)C(C#N)=C(N=C1N)SCO,6.90\n",
      "N#CC1=C(C2=CC=C(O)C=C2)C(C#N)=C(N=C1N(C)C)SCO,6.55\n",
      "N#CC1=C(SCC(N)=O)N=C(O)C(C#N)=C1C(C=C2)=CC=C2OCC3CC3,6.70\n",
      "N#CC1=C(SCC(O)=O)N=C(N)C(C#N)=C1C(C=C2)=CC=C2OCC3CC3,6.79\n",
      "N#CC1=C(SCC(N)=O)N=C(N)C=C1C(C=C2)=CC=C2OCC3CC3,6.62\n",
      "N#CC1=C(SCC(N)=O)N=C(N)C(C#N)=C1C(C=C2)=CC=C2CCC3CC3,6.82\n",
      "N#CC1=C(SCC2=NC=CN2)N=C(N)C(C#N)=C1C(C=C3)=CC=C3CCC4CC4,7.17\n",
      "N#CC1=C(SCC2=NC=CN2)N=C(N)C(C#N)=C1C(C=C3CC)=CC=C3CCC4CC4,7.14\n"
     ]
    }
   ],
   "source": [
    "# The first entry is the co-crystalized ligand \n",
    "# which is added for reference (so we can compare \n",
    "# to its actual pChEMBL value)\n",
    "# BELOW: add your own molecules\n",
    "test_smiles = [\n",
    "    \n",
    "    'C1CC1COC2=CC=C(C=C2)C3=C(C(=NC(=C3C#N)SCC(=O)N)N)C#N', #BAY 60-6583\n",
    "    'N#CC1=C(SCC2=NC=CN2)N=C(N)C(C#N)=C1C(C=C3)=CC=C3OCC4CC4',     #Benthe\n",
    "    'N#CC1=C(SCC(=O)C(N([H])[H])O[H])N=C(N([H])[H])C(CO[H])=C1C1C=C(CC)C(OCC2CC2)=CC=1',   #Tamara\n",
    "    'N#CC1=C(SCC2=NC=CN2)N=C(N)C(C#N)=C1C(C=C3)=CC(CC)=C3OCC4CC4', #TamaraBentheFusion\n",
    "    'N#CC1=C(SCN(C)C)N=C(N)C(C#N)=C1C(C=C2)=CC=C2OCC3CC3', #met N-2-methyl\n",
    "    'N#CC1=C(SCN)N=C(N)C(C#N)=C1C(C=C2)=CC=C2OCC3CC3', #Met NH2\n",
    "    'N#CC1=C(C2=CC=C(OCC3CC3)C=C2)C(C#N)=C(N=C1N)SCO', #met OH\n",
    "    'N#CC1=C(C2=CC=C(O)C=C2)C(C#N)=C(N=C1N)SCO', #zonder driehoek\n",
    "    'N#CC1=C(C2=CC=CC=C2)C(C#N)=C(N=C1N)SCO', #zonder driehoek en zonder O\n",
    "    'N#CC1=C(C2=CC=C(O)C=C2)C(C#N)=C(N=C1N(C)C)SCO', #zonderNH2 boven\n",
    "    'N#CC1=C(SCC(N)=O)N=C(O)C(C#N)=C1C(C=C2)=CC=C2OCC3CC3', #met OH boven\n",
    "    'N#CC1=C(SCC(O)=O)N=C(N)C(C#N)=C1C(C=C2)=CC=C2OCC3CC3', #COOH ipc CONH2\n",
    "    'N#CC1=C(SCC(N)=O)N=C(N)C=C1C(C=C2)=CC=C2OCC3CC3', # -1 =-N\n",
    "    'N#CC1=C(SCC(N)=O)N=C(N)C(C#N)=C1C(C=C2)=CC=C2CCC3CC3', #zonder O in alkenechain\n",
    "    'N#CC1=C(SCC2=NC=CN2)N=C(N)C(C#N)=C1C(C=C3)=CC=C3CCC4CC4', #met Benthe en zonder O in alkenechain\n",
    "    'N#CC1=C(SCC2=NC=CN2)N=C(N)C(C#N)=C1C(C=C3CC)=CC=C3CCC4CC4', #met Benthe en Tamara fusion en zonder O in alkenechain\n",
    "]\n",
    "\n",
    "fps = []\n",
    "\n",
    "for smiles in test_smiles: \n",
    "    fp = smiles_to_fp(smiles,'morgan3')\n",
    "    fps.append(fp)\n",
    "\n",
    "predictions = trained_model.predict(fps)\n",
    "print(\"SMILES, PREDICTION\")\n",
    "for i, prediction in enumerate(predictions):\n",
    "    print('{},{:.2f}'.format(test_smiles[i], prediction))"
   ]
  },
  {
   "cell_type": "markdown",
   "metadata": {},
   "source": [
    "### 2.3.1 SAR Conclusion\n",
    "The pCHEMBL of the original ligand was predicted to be 7.05. The first compound to be attempted was P453, which had a higher predicted pCHEMBL of 7.26.\n",
    "\n",
    "Different side chains were tested on the R1 and R2 places. However, every attempt to replace the R1 group seemed to lower the pCHEMBL.\n",
    "\n",
    "The R2 position was changed as well, by using a R1 group that had a low predicted affinity. By doing this, the worst predicted compounds could be created, which would give valuable information for what could be important for the binding. All attempts for the R2 position decreased the predicted affinity as well, except for the removal of the oxygen in the carbon linker.\n",
    "\n",
    "The removal of the oxygen was tested with both the original R1 group and the R1 group of P453, which seemed to have the highest predicted affinity out of all the compounds.\n",
    "\n",
    "This oxygen atom was already interesting, as PLIP did not assign any interactions between the protein and this particular oxygen. It even seemed to be in a hydrophobic pocket. With this removal it emphazises this hodyphobic pocket even more.\n"
   ]
  },
  {
   "cell_type": "markdown",
   "metadata": {},
   "source": [
    "## 2.4 Discussion\n",
    "\n",
    "* Which model performed best on our data set and why?\n",
    "All of the models performed quite well. Receiver Operating Characteristic (ROC) curves show how well the models are at predicting the true positives of the test dataset. High AUCs correspond to a good predicting ability. The AUCs of the models were all comparable. The RF model showed the highest AUC.\n",
    "\n",
    "The MACCS fingerprints were used for cross-validation. All three models showed comparable mean accuracies again, with the ANN model showing the lowest. The mean specificity was similar as well. However, the mean sensitivity of the ANN model was 0.64, compared to the 0.74 of the RF model. This is quite low.\n",
    "\n",
    "Lastly, the models were analysed using Morgan fingerprints. The mean accuracies and mean specificities were still similar, but further apart compared to the MACCS fingerprints. However, the mean sensitivity of the SVM model was far worse than the other models, 0.46 compared to 0.74 (RF) and 0.75 (ANN).\n",
    "\n",
    "Overall, the RF model seemed to perform the most consistently. Therefore, the right choice was made to use this model to predict the affinities of the novel ligands.\n",
    "\n",
    "The RF model probably performed the best because the dataset is separated in active/inactive compounds. The RF format can therefore easily make decisions based on the structures it already knows to be active. ANN models generally need more data, so the model might not have been trained well enough, which is why its ability to predict true positives is low (sensitivity).\n",
    "\n",
    "* Was MACCS the right choice?\n",
    "The MACCS keys are shorter, which is why the run times of those cross-validations were only a couple seconds. However, the short keys could mean the loss of information, which is why Morgan fingerprints might be better to use. Both types gave about the same AUCs for the models though. So if MACCS keys result in a shorter running time, then is might have been the right choice.\n",
    "\n",
    "    \n",
    "### 2.4.1. Where can we go from here?\n",
    "\n",
    "Now that the models have been trained and one model has been chosen to be the most accurate in predicting the affinity values, the model can be used to classify more unknown compounds to eventually find more partcial agonists to the hA2BR. These compounds can later be docked to evaluate their position within the protein.\n",
    "\n",
    "However, in the next phase, only the best predicted compound was docked, which was N#CC1=C(SCC2=NC=CN2)N=C(N)C(C#N)=C1C(C=C3)=CC=C3CCC4CC4 (compound BTN1). This compound was used as a proof of concept to test whether the docking in the hA2BR would be feasible. All of the crystal structures of the protein are quite new and not a lot of docking has been attempted. So, a proof of concept is actually very valuable in this instance.\n"
   ]
  },
  {
   "cell_type": "markdown",
   "metadata": {},
   "source": [
    "# 3. Molecular docking\n",
    "\n",
    "In the last part of the study molecular docking is performed with the SMILES string of compound BTN1 and the protein on the Bioinformatics study."
   ]
  },
  {
   "cell_type": "markdown",
   "metadata": {},
   "source": [
    "## 3.1 Feching system and cleanup\n",
    "\n",
    "For the next step, the protein, that was previously prepared, was extracted."
   ]
  },
  {
   "cell_type": "markdown",
   "metadata": {},
   "source": [
    "The 3D coordinate files of BAY 60-6583 (I5U) the novel ligand (BTN1) were generated."
   ]
  },
  {
   "cell_type": "markdown",
   "metadata": {},
   "source": [
    "The 3D files were generated using rdkit. The ligands were numbered automatically, so they are called ligand_00,ligand_01 etc."
   ]
  },
  {
   "cell_type": "markdown",
   "metadata": {},
   "source": [
    "### References:\n",
    "\n",
    "[1] Korkutata, M., & Lazarus, M. (2023). Adenosine A2A receptors and sleep (Vol. 170). International Review of Neurobiology. doi: 10.1016/bs.irn.2023.04.007.\n",
    "\n",
    "[2] Vincenzi F, Pasquini S, Contri C, Cappello M, Nigro M, Travagli A, Merighi S, Gessi S, Borea PA, Varani K. Pharmacology of Adenosine Receptors: Recent Advancements. Biomolecules. 2023 Sep 14;13(9):1387. doi: 10.3390/biom13091387.\n",
    "\n",
    "[3] Catarzi D, Varano F, Varani K, Vincenzi F, Pasquini S, Dal Ben D, Volpini R, Colotta V. Amino-3,5-Dicyanopyridines Targeting the Adenosine Receptors Ranging from Pan Ligands to Combined A1/A2B Partial Agonists. Pharmaceuticals (Basel). 2019 Oct 22;12(4):159. doi: 10.3390/ph12040159.\n",
    "\n",
    "[4] Adenosine receptor A2B | DrugBank Online. (z.d.). DrugBank. Geraadpleegd op 8 november 2023, van https://go.drugbank.com/bio_entities/BE0000241.\n",
    "\n",
    "[5] Bank, R. P. D. RCSB PDB - 8HDO: Structure of A2BR bound to Synthetic Agonists BAY 60-6583. Geraadpleegd op 8 november 2023, van https://www.rcsb.org/structure/8HDO.\n",
    "\n",
    "[6] Bank, R. P. D. RCSB PDB - 8HDP: Structure of A2BR bound to Endogenous Agonists adenosine. Geraadpleegd op 8 november 2023, van https://www.rcsb.org/structure/8HDP.\n",
    "\n",
    "[7] National Center for Biotechnology Information (2023). PubChem Compound Summary for CID 11717831, 2-({6-Amino-3,5-dicyano-4-[4-(cyclopropylmethoxy)phenyl]pyridin-2-yl}sulfanyl)acetamide. Retrieved November 8, 2023 from https://pubchem.ncbi.nlm.nih.gov/compound/bay-60-6583.\n",
    "\n",
    "[8] Chen Y, Zhang J, Weng Y, Xu Y, Lu W, Liu W, Liu M, Hua T, Song G. Cryo-EM structure of the human adenosine A2B receptor-Gs signaling complex. Sci Adv. 2022 Dec 23;8(51):eadd3709. doi: 10.1126/sciadv.add3709."
   ]
  },
  {
   "cell_type": "code",
   "execution_count": null,
   "metadata": {},
   "outputs": [],
   "source": []
  }
 ],
 "metadata": {
  "kernelspec": {
   "display_name": "Python 3 (ipykernel)",
   "language": "python",
   "name": "python3"
  },
  "language_info": {
   "codemirror_mode": {
    "name": "ipython",
    "version": 3
   },
   "file_extension": ".py",
   "mimetype": "text/x-python",
   "name": "python",
   "nbconvert_exporter": "python",
   "pygments_lexer": "ipython3",
   "version": "3.9.13"
  }
 },
 "nbformat": 4,
 "nbformat_minor": 4
}
