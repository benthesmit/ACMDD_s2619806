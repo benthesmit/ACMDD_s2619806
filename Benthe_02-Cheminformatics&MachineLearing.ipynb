{
 "cells": [
  {
   "cell_type": "markdown",
   "id": "c0e1af02",
   "metadata": {},
   "source": [
    "## 2. Cheminformatics and Machine Learning\n",
    "This notebook chapter is adapted from TeachOpenCADD. (https://noteable-beta.edina.ac.uk/user/wmk69tm57bfauozjthxzn1/tree/teachopencadd.git/teachopencadd/talktorials)\n",
    "\n",
    "This next chapter of the study is dedicated to finding a novel ligand for the hA2BR. Firstly, a SAR was created via a literature study. This SAR was later expanded on by training different models with Machine Learning that were able to predict pCHEMBL values of a never-seen-before test set. The best model was chosen to perform predictions on different molecules to attempt to find a suitable binder for the hA2BR."
   ]
  },
  {
   "cell_type": "code",
   "execution_count": 1,
   "id": "c3191d18",
   "metadata": {},
   "outputs": [
    {
     "data": {
      "application/vnd.jupyter.widget-view+json": {
       "model_id": "a1fef2c44c10463994f2667918d6fde0",
       "version_major": 2,
       "version_minor": 0
      },
      "text/plain": []
     },
     "metadata": {},
     "output_type": "display_data"
    },
    {
     "name": "stderr",
     "output_type": "stream",
     "text": [
      "/opt/conda/lib/python3.9/site-packages/Bio/pairwise2.py:278: BiopythonDeprecationWarning: Bio.pairwise2 has been deprecated, and we intend to remove it in a future release of Biopython. As an alternative, please consider using Bio.Align.PairwiseAligner as a replacement, and contact the Biopython developers if you still need the Bio.pairwise2 module.\n",
      "  warnings.warn(\n",
      "/opt/conda/lib/python3.9/site-packages/Bio/Data/SCOPData.py:18: BiopythonDeprecationWarning: The 'Bio.Data.SCOPData' module will be deprecated in a future release of Biopython in favor of 'Bio.Data.PDBData.\n",
      "  warnings.warn(\n"
     ]
    }
   ],
   "source": [
    "import nglview\n",
    "import os\n",
    "import shutil\n",
    "from scripts import viewer\n",
    "\n",
    "from Bio.PDB import PDBList, MMCIFParser, Select, PDBIO\n",
    "import Bio.Align\n",
    "import os\n",
    "\n",
    "from pathlib import Path\n",
    "from warnings import filterwarnings\n",
    "import time\n",
    "\n",
    "import rdkit\n",
    "from rdkit import Chem\n",
    "from rdkit.Chem import AllChem, Draw\n",
    "from rdkit.Chem import MACCSkeys\n",
    "from rdkit.Chem.AllChem import GetMorganFingerprintAsBitVect\n",
    "\n",
    "from scripts import viewer\n",
    "from scripts import bio_align\n",
    "\n",
    "import pandas as pd\n",
    "import numpy as np\n",
    "import glob\n",
    "import sys\n",
    "from sklearn import svm, metrics, clone\n",
    "from sklearn.ensemble import RandomForestClassifier\n",
    "from sklearn.ensemble import RandomForestRegressor\n",
    "from sklearn.neural_network import MLPClassifier\n",
    "from sklearn.model_selection import KFold, train_test_split\n",
    "from sklearn.metrics import auc, accuracy_score, recall_score\n",
    "from sklearn.metrics import roc_curve, roc_auc_score\n",
    "import matplotlib.pyplot as plt\n",
    "\n",
    "\n",
    "filterwarnings(\"ignore\")\n",
    "# Fix seed for reproducible results\n",
    "SEED = 22\n",
    "#seed_everything(SEED)\n",
    "\n",
    "#from pymol import cmd\n",
    "import py3Dmol\n",
    "\n",
    "from vina import Vina\n",
    "\n",
    "#from meeko import MoleculePreparation\n",
    "#from meeko import obutils\n",
    "\n",
    "import MDAnalysis as mda\n",
    "from MDAnalysis.coordinates import PDB\n",
    "\n",
    "#import prolif\n",
    "#from prolif.plotting.network import LigNetwork\n",
    "\n",
    "import sys, os, shutil\n",
    "sys.path.insert(1, '/project/jhllei001/JHL_data/Jupyter_Dock/utilities')\n",
    "# Note I had to comment out pymol, openmm and pdbfixer, hope it doesn't break later\n",
    "#from utils import fix_protein, getbox, generate_ledock_file, pdbqt_to_sdf, dok_to_sdf\n",
    "\n",
    "import warnings\n",
    "warnings.filterwarnings(\"ignore\")\n",
    "%config Completer.use_jedi = False"
   ]
  },
  {
   "cell_type": "markdown",
   "id": "8aafa181",
   "metadata": {},
   "source": [
    "### 2.1.1 Structure – Activity – Relationship (SAR)\n",
    "Catarzi et al. describe a structure-activity relationship (SAR) for a similar scaffold to that of BAY 60-6583.[3] Their SAR was therefore used as a starting point to the SAR in this study. The SAR in this particular paper describes not only the affinity to the hA2BR, but the affinity to the other hARs as well. \n",
    "\n",
    "![image info](img/BAY_P_scaffold.jpg)\n",
    "*Figure 2.1: The different scaffolds of hA2BR ligands.*\n",
    "\n",
    "Within the SAR of Catarzi et al. the original compound (P453) seems to have the highest affinity. The R1 group of this compound was identical to the R1 group of BAY 60-6583. However, groups without the oxygen in the linker seem to have a high affinity for the hA2BR as well. When looking at the PLIP, it seems that the oxygen has no particular interaction with the protein. It seems to be inside a hydrophobic pocket. This might be the reason for the other ligands to perform quite well.\n",
    "\n",
    "The study shows multiple R2 groups, of which the imidazole structure, coupled via a carbon-sulphur, gave the most promising results. Smaller groups perform less in regards to their affinity. BAY 60-6583 has both a hydrogen bond donor and acceptor in the same place as P453. When comparing the structures to the interactions found with PLIP, the -NH2 group seems to be important for hydrogen bond interactions.\n",
    "\n",
    "Changes in both the R1 and R2 group will be tested in order to find a novel ligand to the hA2BR.\n"
   ]
  },
  {
   "cell_type": "code",
   "execution_count": 2,
   "id": "39c97ed2",
   "metadata": {},
   "outputs": [
    {
     "name": "stdout",
     "output_type": "stream",
     "text": [
      "Directory already exists\n"
     ]
    }
   ],
   "source": [
    "HOMEDIR = str(Path.home())\n",
    "os.chdir(HOMEDIR)\n",
    "# We need to check whether the directory is there\n",
    "try:\n",
    "    os.mkdir('Cheminformatics')\n",
    "except:\n",
    "    print(\"Directory already exists\")\n",
    "os.chdir('Cheminformatics')"
   ]
  },
  {
   "cell_type": "markdown",
   "id": "78269145",
   "metadata": {},
   "source": [
    "### 2.1.2 Representations of the ligand\n",
    "For this next part, the InChIkey and SMILES representation of BAY 60-6583 were retrieved from PubChem.[7]\n",
    "\n",
    "- InChI key: ZTYHZMAZUWOXNC-UHFFFAOYSA-N\n",
    "- Canonical SMILES: C1CC1COC2=CC=C(C=C2)C3=C(C(=NC(=C3C#N)SCC(=O)N)N)C#N\n",
    "\n",
    "\n",
    "The Similar Structure Search on PubChem was used to find similar compounds.\n",
    "- Tanimoto threshold to 90%: 127 compounds\n",
    "- Tanimoto threshold to 80%: >1000 compounds\n",
    "\n",
    "\n",
    "The ChEMBL database was used to find the CHEMBLID of the ligand (CHEMBL4202825) and the protein (CHEMBL255). More similar compounds were retrieved using the ChEMBL similarity search.\n",
    "- Threshold to 95%: 0 compounds (only BAY 60-6583 was found)\n",
    "- Threshold to 90%: 1 compound (and BAY 60-6583 was found)\n",
    "- Threshold to 80%: 3 compounds (and BAY 60-6583 was found)\n",
    "\n",
    "Less compounds were found as ChEMBL only has compounds that were discribed in literature to have tested biological activity, which are less compounds than in the PubChem database.\n",
    "\n",
    "\n",
    "Lastly, the Zinc site (http://zinc15.docking.org/substances/home/) was used to find possible similar ligands. \n",
    "- Tanimoto threshold to 70%: 5 compounds (and BAY 60-6583 was found)\n",
    "\n",
    "The SMILES and InChIKey of a representative molecule: CCOc1ccc(-c2c(C#N)c(N)nc(SCC(N)=O)c2C#N)cc1, HICKUASMUMDUCU-UHFFFAOYSA-N\n",
    "\n",
    "The amount of similar compounds depends on the database of choice. ZINC is a database that only includes commercially available compounds, ChEMBL only has bioactive molecules with drug-like properties and PubChem contains all small molecules that have commercially available chemical data. Therefore, the similarity searches give different amounts of similar compounds per database, as the databases do not contain the same data."
   ]
  },
  {
   "cell_type": "markdown",
   "id": "d3bc1d69",
   "metadata": {},
   "source": [
    "### 2.1.3 Obtaining and cleaning data\n",
    "\n",
    "A dataset based on the CHEMBLID of the protein was downloaded from ChEMBL and read into pandas."
   ]
  },
  {
   "cell_type": "code",
   "execution_count": 3,
   "id": "215f2f28",
   "metadata": {},
   "outputs": [
    {
     "name": "stdout",
     "output_type": "stream",
     "text": [
      "There are a total of 7662 datapoints in this set\n"
     ]
    },
    {
     "data": {
      "text/html": [
       "<div>\n",
       "<style scoped>\n",
       "    .dataframe tbody tr th:only-of-type {\n",
       "        vertical-align: middle;\n",
       "    }\n",
       "\n",
       "    .dataframe tbody tr th {\n",
       "        vertical-align: top;\n",
       "    }\n",
       "\n",
       "    .dataframe thead th {\n",
       "        text-align: right;\n",
       "    }\n",
       "</style>\n",
       "<table border=\"1\" class=\"dataframe\">\n",
       "  <thead>\n",
       "    <tr style=\"text-align: right;\">\n",
       "      <th></th>\n",
       "      <th>Molecule ChEMBL ID</th>\n",
       "      <th>Molecule Name</th>\n",
       "      <th>Molecule Max Phase</th>\n",
       "      <th>Molecular Weight</th>\n",
       "      <th>#RO5 Violations</th>\n",
       "      <th>AlogP</th>\n",
       "      <th>Compound Key</th>\n",
       "      <th>Smiles</th>\n",
       "      <th>Standard Type</th>\n",
       "      <th>Standard Relation</th>\n",
       "      <th>...</th>\n",
       "      <th>Target Organism</th>\n",
       "      <th>Target Type</th>\n",
       "      <th>Document ChEMBL ID</th>\n",
       "      <th>Source ID</th>\n",
       "      <th>Source Description</th>\n",
       "      <th>Document Journal</th>\n",
       "      <th>Document Year</th>\n",
       "      <th>Cell ChEMBL ID</th>\n",
       "      <th>Properties</th>\n",
       "      <th>Action Type</th>\n",
       "    </tr>\n",
       "  </thead>\n",
       "  <tbody>\n",
       "    <tr>\n",
       "      <th>0</th>\n",
       "      <td>CHEMBL601516</td>\n",
       "      <td>NaN</td>\n",
       "      <td>None</td>\n",
       "      <td>713.89</td>\n",
       "      <td>3</td>\n",
       "      <td>5.29</td>\n",
       "      <td>25</td>\n",
       "      <td>CC(C)n1cnc(CCNc2nc(NCC(c3ccccc3)c3ccccc3)c3ncn...</td>\n",
       "      <td>EC50</td>\n",
       "      <td>NaN</td>\n",
       "      <td>...</td>\n",
       "      <td>Homo sapiens</td>\n",
       "      <td>SINGLE PROTEIN</td>\n",
       "      <td>CHEMBL1158518</td>\n",
       "      <td>1</td>\n",
       "      <td>Scientific Literature</td>\n",
       "      <td>Bioorg Med Chem Lett</td>\n",
       "      <td>2010.0</td>\n",
       "      <td>CHEMBL3308072</td>\n",
       "      <td>NaN</td>\n",
       "      <td>NaN</td>\n",
       "    </tr>\n",
       "    <tr>\n",
       "      <th>1</th>\n",
       "      <td>CHEMBL589262</td>\n",
       "      <td>NaN</td>\n",
       "      <td>None</td>\n",
       "      <td>697.16</td>\n",
       "      <td>2</td>\n",
       "      <td>3.37</td>\n",
       "      <td>11</td>\n",
       "      <td>CNC(=O)[C@@]12C[C@@H]1[C@@H](n1cnc3c(NCc4cccc(...</td>\n",
       "      <td>Activity</td>\n",
       "      <td>'='</td>\n",
       "      <td>...</td>\n",
       "      <td>Homo sapiens</td>\n",
       "      <td>SINGLE PROTEIN</td>\n",
       "      <td>CHEMBL1159060</td>\n",
       "      <td>1</td>\n",
       "      <td>Scientific Literature</td>\n",
       "      <td>Bioorg Med Chem</td>\n",
       "      <td>2010.0</td>\n",
       "      <td>CHEMBL3308072</td>\n",
       "      <td>NaN</td>\n",
       "      <td>NaN</td>\n",
       "    </tr>\n",
       "    <tr>\n",
       "      <th>2</th>\n",
       "      <td>CHEMBL410298</td>\n",
       "      <td>NaN</td>\n",
       "      <td>None</td>\n",
       "      <td>505.62</td>\n",
       "      <td>1</td>\n",
       "      <td>3.72</td>\n",
       "      <td>11i</td>\n",
       "      <td>CCCn1c(=O)c2[nH]c(-c3cc(C)n(CC(=O)Nc4ccc(CC(C)...</td>\n",
       "      <td>IC50</td>\n",
       "      <td>'&gt;'</td>\n",
       "      <td>...</td>\n",
       "      <td>Homo sapiens</td>\n",
       "      <td>SINGLE PROTEIN</td>\n",
       "      <td>CHEMBL1144025</td>\n",
       "      <td>1</td>\n",
       "      <td>Scientific Literature</td>\n",
       "      <td>Bioorg Med Chem</td>\n",
       "      <td>2008.0</td>\n",
       "      <td>CHEMBL3308072</td>\n",
       "      <td>NaN</td>\n",
       "      <td>NaN</td>\n",
       "    </tr>\n",
       "    <tr>\n",
       "      <th>3</th>\n",
       "      <td>CHEMBL258571</td>\n",
       "      <td>NaN</td>\n",
       "      <td>None</td>\n",
       "      <td>483.96</td>\n",
       "      <td>0</td>\n",
       "      <td>3.17</td>\n",
       "      <td>11c</td>\n",
       "      <td>CCCn1c(=O)c2[nH]c(-c3cc(C)n(CC(=O)Nc4ccc(Cl)cc...</td>\n",
       "      <td>IC50</td>\n",
       "      <td>'='</td>\n",
       "      <td>...</td>\n",
       "      <td>Homo sapiens</td>\n",
       "      <td>SINGLE PROTEIN</td>\n",
       "      <td>CHEMBL1144025</td>\n",
       "      <td>1</td>\n",
       "      <td>Scientific Literature</td>\n",
       "      <td>Bioorg Med Chem</td>\n",
       "      <td>2008.0</td>\n",
       "      <td>CHEMBL3308072</td>\n",
       "      <td>NaN</td>\n",
       "      <td>NaN</td>\n",
       "    </tr>\n",
       "    <tr>\n",
       "      <th>4</th>\n",
       "      <td>CHEMBL1170526</td>\n",
       "      <td>NaN</td>\n",
       "      <td>None</td>\n",
       "      <td>416.43</td>\n",
       "      <td>0</td>\n",
       "      <td>2.53</td>\n",
       "      <td>17</td>\n",
       "      <td>COc1ccc(N(CC(N)=O)C(C)=O)c2sc(NC(=O)c3ccc(F)cc...</td>\n",
       "      <td>IC50</td>\n",
       "      <td>'='</td>\n",
       "      <td>...</td>\n",
       "      <td>Homo sapiens</td>\n",
       "      <td>SINGLE PROTEIN</td>\n",
       "      <td>CHEMBL1177799</td>\n",
       "      <td>1</td>\n",
       "      <td>Scientific Literature</td>\n",
       "      <td>Bioorg Med Chem Lett</td>\n",
       "      <td>2010.0</td>\n",
       "      <td>CHEMBL3308072</td>\n",
       "      <td>NaN</td>\n",
       "      <td>NaN</td>\n",
       "    </tr>\n",
       "  </tbody>\n",
       "</table>\n",
       "<p>5 rows × 46 columns</p>\n",
       "</div>"
      ],
      "text/plain": [
       "  Molecule ChEMBL ID Molecule Name Molecule Max Phase  Molecular Weight  \\\n",
       "0       CHEMBL601516           NaN               None            713.89   \n",
       "1       CHEMBL589262           NaN               None            697.16   \n",
       "2       CHEMBL410298           NaN               None            505.62   \n",
       "3       CHEMBL258571           NaN               None            483.96   \n",
       "4      CHEMBL1170526           NaN               None            416.43   \n",
       "\n",
       "  #RO5 Violations AlogP Compound Key  \\\n",
       "0               3  5.29           25   \n",
       "1               2  3.37           11   \n",
       "2               1  3.72          11i   \n",
       "3               0  3.17          11c   \n",
       "4               0  2.53           17   \n",
       "\n",
       "                                              Smiles Standard Type  \\\n",
       "0  CC(C)n1cnc(CCNc2nc(NCC(c3ccccc3)c3ccccc3)c3ncn...          EC50   \n",
       "1  CNC(=O)[C@@]12C[C@@H]1[C@@H](n1cnc3c(NCc4cccc(...      Activity   \n",
       "2  CCCn1c(=O)c2[nH]c(-c3cc(C)n(CC(=O)Nc4ccc(CC(C)...          IC50   \n",
       "3  CCCn1c(=O)c2[nH]c(-c3cc(C)n(CC(=O)Nc4ccc(Cl)cc...          IC50   \n",
       "4  COc1ccc(N(CC(N)=O)C(C)=O)c2sc(NC(=O)c3ccc(F)cc...          IC50   \n",
       "\n",
       "  Standard Relation  ...  Target Organism     Target Type  Document ChEMBL ID  \\\n",
       "0               NaN  ...     Homo sapiens  SINGLE PROTEIN       CHEMBL1158518   \n",
       "1               '='  ...     Homo sapiens  SINGLE PROTEIN       CHEMBL1159060   \n",
       "2               '>'  ...     Homo sapiens  SINGLE PROTEIN       CHEMBL1144025   \n",
       "3               '='  ...     Homo sapiens  SINGLE PROTEIN       CHEMBL1144025   \n",
       "4               '='  ...     Homo sapiens  SINGLE PROTEIN       CHEMBL1177799   \n",
       "\n",
       "  Source ID     Source Description      Document Journal  Document Year  \\\n",
       "0         1  Scientific Literature  Bioorg Med Chem Lett         2010.0   \n",
       "1         1  Scientific Literature       Bioorg Med Chem         2010.0   \n",
       "2         1  Scientific Literature       Bioorg Med Chem         2008.0   \n",
       "3         1  Scientific Literature       Bioorg Med Chem         2008.0   \n",
       "4         1  Scientific Literature  Bioorg Med Chem Lett         2010.0   \n",
       "\n",
       "  Cell ChEMBL ID Properties Action Type  \n",
       "0  CHEMBL3308072        NaN         NaN  \n",
       "1  CHEMBL3308072        NaN         NaN  \n",
       "2  CHEMBL3308072        NaN         NaN  \n",
       "3  CHEMBL3308072        NaN         NaN  \n",
       "4  CHEMBL3308072        NaN         NaN  \n",
       "\n",
       "[5 rows x 46 columns]"
      ]
     },
     "execution_count": 3,
     "metadata": {},
     "output_type": "execute_result"
    }
   ],
   "source": [
    "CHEMBLID = 'CHEMBL255'\n",
    "FILENAME = '../CHEMBL255.tsv'\n",
    "\n",
    "data = pd.read_csv(FILENAME, sep='\\t')\n",
    "\n",
    "print(\"There are a total of {} datapoints in this set\".format(len(data)))\n",
    "data.head()"
   ]
  },
  {
   "cell_type": "markdown",
   "id": "022deec1",
   "metadata": {},
   "source": [
    "Most of the colomns were removed, except fot the compound ID, pCHEMBL_value, Assay Type, binding affinity and the smiles:"
   ]
  },
  {
   "cell_type": "code",
   "execution_count": 4,
   "id": "2abe8981",
   "metadata": {},
   "outputs": [
    {
     "data": {
      "text/html": [
       "<div>\n",
       "<style scoped>\n",
       "    .dataframe tbody tr th:only-of-type {\n",
       "        vertical-align: middle;\n",
       "    }\n",
       "\n",
       "    .dataframe tbody tr th {\n",
       "        vertical-align: top;\n",
       "    }\n",
       "\n",
       "    .dataframe thead th {\n",
       "        text-align: right;\n",
       "    }\n",
       "</style>\n",
       "<table border=\"1\" class=\"dataframe\">\n",
       "  <thead>\n",
       "    <tr style=\"text-align: right;\">\n",
       "      <th></th>\n",
       "      <th>Molecule ChEMBL ID</th>\n",
       "      <th>pChEMBL_value</th>\n",
       "      <th>Smiles</th>\n",
       "      <th>Assay_Type</th>\n",
       "      <th>Standard Relation</th>\n",
       "      <th>Standard Value</th>\n",
       "    </tr>\n",
       "  </thead>\n",
       "  <tbody>\n",
       "    <tr>\n",
       "      <th>0</th>\n",
       "      <td>CHEMBL601516</td>\n",
       "      <td>NaN</td>\n",
       "      <td>CC(C)n1cnc(CCNc2nc(NCC(c3ccccc3)c3ccccc3)c3ncn...</td>\n",
       "      <td>F</td>\n",
       "      <td>NaN</td>\n",
       "      <td>NaN</td>\n",
       "    </tr>\n",
       "    <tr>\n",
       "      <th>1</th>\n",
       "      <td>CHEMBL589262</td>\n",
       "      <td>NaN</td>\n",
       "      <td>CNC(=O)[C@@]12C[C@@H]1[C@@H](n1cnc3c(NCc4cccc(...</td>\n",
       "      <td>F</td>\n",
       "      <td>'='</td>\n",
       "      <td>30.2</td>\n",
       "    </tr>\n",
       "    <tr>\n",
       "      <th>2</th>\n",
       "      <td>CHEMBL410298</td>\n",
       "      <td>NaN</td>\n",
       "      <td>CCCn1c(=O)c2[nH]c(-c3cc(C)n(CC(=O)Nc4ccc(CC(C)...</td>\n",
       "      <td>F</td>\n",
       "      <td>'&gt;'</td>\n",
       "      <td>1000.0</td>\n",
       "    </tr>\n",
       "    <tr>\n",
       "      <th>3</th>\n",
       "      <td>CHEMBL258571</td>\n",
       "      <td>7.37</td>\n",
       "      <td>CCCn1c(=O)c2[nH]c(-c3cc(C)n(CC(=O)Nc4ccc(Cl)cc...</td>\n",
       "      <td>F</td>\n",
       "      <td>'='</td>\n",
       "      <td>43.0</td>\n",
       "    </tr>\n",
       "    <tr>\n",
       "      <th>4</th>\n",
       "      <td>CHEMBL1170526</td>\n",
       "      <td>7.22</td>\n",
       "      <td>COc1ccc(N(CC(N)=O)C(C)=O)c2sc(NC(=O)c3ccc(F)cc...</td>\n",
       "      <td>F</td>\n",
       "      <td>'='</td>\n",
       "      <td>60.0</td>\n",
       "    </tr>\n",
       "  </tbody>\n",
       "</table>\n",
       "</div>"
      ],
      "text/plain": [
       "  Molecule ChEMBL ID  pChEMBL_value  \\\n",
       "0       CHEMBL601516            NaN   \n",
       "1       CHEMBL589262            NaN   \n",
       "2       CHEMBL410298            NaN   \n",
       "3       CHEMBL258571           7.37   \n",
       "4      CHEMBL1170526           7.22   \n",
       "\n",
       "                                              Smiles Assay_Type  \\\n",
       "0  CC(C)n1cnc(CCNc2nc(NCC(c3ccccc3)c3ccccc3)c3ncn...          F   \n",
       "1  CNC(=O)[C@@]12C[C@@H]1[C@@H](n1cnc3c(NCc4cccc(...          F   \n",
       "2  CCCn1c(=O)c2[nH]c(-c3cc(C)n(CC(=O)Nc4ccc(CC(C)...          F   \n",
       "3  CCCn1c(=O)c2[nH]c(-c3cc(C)n(CC(=O)Nc4ccc(Cl)cc...          F   \n",
       "4  COc1ccc(N(CC(N)=O)C(C)=O)c2sc(NC(=O)c3ccc(F)cc...          F   \n",
       "\n",
       "  Standard Relation  Standard Value  \n",
       "0               NaN             NaN  \n",
       "1               '='            30.2  \n",
       "2               '>'          1000.0  \n",
       "3               '='            43.0  \n",
       "4               '='            60.0  "
      ]
     },
     "execution_count": 4,
     "metadata": {},
     "output_type": "execute_result"
    }
   ],
   "source": [
    "pd_data = data[['Molecule ChEMBL ID','pChEMBL Value','Smiles','Assay Type', 'Standard Relation','Standard Value']]\n",
    "pd_data.rename(columns={'pChEMBL Value': 'pChEMBL_value', 'Assay Type':'Assay_Type'}, inplace=True)\n",
    "pd_data.head()"
   ]
  },
  {
   "cell_type": "markdown",
   "id": "820a7c25",
   "metadata": {},
   "source": [
    "An activity classifier was added to filter out the data with no pChEMBL value. The threshold was set to > 6.5, in order to keep weaker binders as this information is necessary for a strond model as well."
   ]
  },
  {
   "cell_type": "code",
   "execution_count": 5,
   "id": "16986305",
   "metadata": {
    "scrolled": false
   },
   "outputs": [
    {
     "name": "stdout",
     "output_type": "stream",
     "text": [
      "Number of active compounds: 2075\n",
      "Number of inactive compounds: 5587\n"
     ]
    }
   ],
   "source": [
    "import numpy as np\n",
    "# Add column for activity\n",
    "pd_data[\"active\"] = np.zeros(len(pd_data))\n",
    "\n",
    "# Mark every molecule as active with an pCHEMBL of >= 6.5, 0 otherwise\n",
    "pd_data.loc[pd_data[pd_data.pChEMBL_value >= 6.5].index, \"active\"] = 1.0\n",
    "\n",
    "# NBVAL_CHECK_OUTPUT\n",
    "print(\"Number of active compounds:\", int(pd_data.active.sum()))\n",
    "print(\"Number of inactive compounds:\", len(pd_data) - int(pd_data.active.sum()))"
   ]
  },
  {
   "cell_type": "markdown",
   "id": "33be2a9f",
   "metadata": {},
   "source": [
    "Finally, functional assay readout was dropped, as this will not be considered in the model."
   ]
  },
  {
   "cell_type": "code",
   "execution_count": 6,
   "id": "2df72a16",
   "metadata": {},
   "outputs": [
    {
     "name": "stdout",
     "output_type": "stream",
     "text": [
      "We have a total of 4638 activity points left\n"
     ]
    }
   ],
   "source": [
    "pd_data.drop(pd_data[pd_data.Assay_Type != 'B'].index, inplace=True)\n",
    "\n",
    "print(\"We have a total of {} activity points left\".format(len(pd_data)))"
   ]
  },
  {
   "cell_type": "code",
   "execution_count": 7,
   "id": "a625fa72",
   "metadata": {},
   "outputs": [],
   "source": [
    "# Set path to this notebook\n",
    "HERE = Path(_dh[-1])\n",
    "DATA = HERE / \"data\""
   ]
  },
  {
   "cell_type": "markdown",
   "id": "95f9e9ff",
   "metadata": {},
   "source": [
    "### 2.1.4 Molecule encoding\n",
    "\n",
    "The function `smiles_to_fp` was defined to generate fingerprints from SMILES. MACCS and Morgan fingerprints were used."
   ]
  },
  {
   "cell_type": "code",
   "execution_count": 8,
   "id": "f66f4c44",
   "metadata": {},
   "outputs": [],
   "source": [
    "def smiles_to_fp(smiles, method=\"maccs\", n_bits=2048):\n",
    "    \"\"\"\n",
    "    Encode a molecule from a SMILES string into a fingerprint.\n",
    "\n",
    "    Parameters\n",
    "    ----------\n",
    "    smiles : str\n",
    "        The SMILES string defining the molecule.\n",
    "\n",
    "    method : str\n",
    "        The type of fingerprint to use. Default is MACCS keys.\n",
    "\n",
    "    n_bits : int\n",
    "        The length of the fingerprint.\n",
    "\n",
    "    Returns\n",
    "    -------\n",
    "    array\n",
    "        The fingerprint array.\n",
    "\n",
    "    \"\"\"\n",
    "\n",
    "    # convert smiles to RDKit mol object\n",
    "    try:\n",
    "        mol = Chem.MolFromSmiles(smiles)\n",
    "        \n",
    "    except:\n",
    "        return('NaN')\n",
    "\n",
    "    if method == \"maccs\":\n",
    "        return np.array(MACCSkeys.GenMACCSKeys(mol))\n",
    "    if method == \"morgan2\":\n",
    "        return np.array(GetMorganFingerprintAsBitVect(mol, 2, nBits=n_bits))\n",
    "    if method == \"morgan3\":\n",
    "        return np.array(GetMorganFingerprintAsBitVect(mol, 3, nBits=n_bits))\n",
    "    else:\n",
    "        # NBVAL_CHECK_OUTPUT\n",
    "        print(f\"Warning: Wrong method specified: {method}. Default will be used instead.\")\n",
    "        return np.array(MACCSkeys.GenMACCSKeys(mol))"
   ]
  },
  {
   "cell_type": "code",
   "execution_count": 9,
   "id": "7e641709",
   "metadata": {},
   "outputs": [],
   "source": [
    "compound_df = pd_data.copy()"
   ]
  },
  {
   "cell_type": "code",
   "execution_count": 10,
   "id": "d9785b18",
   "metadata": {},
   "outputs": [
    {
     "data": {
      "text/html": [
       "<div>\n",
       "<style scoped>\n",
       "    .dataframe tbody tr th:only-of-type {\n",
       "        vertical-align: middle;\n",
       "    }\n",
       "\n",
       "    .dataframe tbody tr th {\n",
       "        vertical-align: top;\n",
       "    }\n",
       "\n",
       "    .dataframe thead th {\n",
       "        text-align: right;\n",
       "    }\n",
       "</style>\n",
       "<table border=\"1\" class=\"dataframe\">\n",
       "  <thead>\n",
       "    <tr style=\"text-align: right;\">\n",
       "      <th></th>\n",
       "      <th>Molecule ChEMBL ID</th>\n",
       "      <th>pChEMBL_value</th>\n",
       "      <th>Smiles</th>\n",
       "      <th>Assay_Type</th>\n",
       "      <th>Standard Relation</th>\n",
       "      <th>Standard Value</th>\n",
       "      <th>active</th>\n",
       "      <th>fp</th>\n",
       "    </tr>\n",
       "  </thead>\n",
       "  <tbody>\n",
       "    <tr>\n",
       "      <th>7</th>\n",
       "      <td>CHEMBL240624</td>\n",
       "      <td>NaN</td>\n",
       "      <td>COCCOc1ccc(N2CCN(CCn3ncc4c3nc(N)n3nc(-c5ccco5)...</td>\n",
       "      <td>B</td>\n",
       "      <td>'&gt;'</td>\n",
       "      <td>1700.0</td>\n",
       "      <td>0.0</td>\n",
       "      <td>[0, 0, 0, 0, 0, 0, 0, 0, 0, 0, 0, 0, 0, 0, 0, ...</td>\n",
       "    </tr>\n",
       "    <tr>\n",
       "      <th>8</th>\n",
       "      <td>CHEMBL382413</td>\n",
       "      <td>NaN</td>\n",
       "      <td>Cn1c(=O)c2[nH]c(-c3ccc(OCC(=O)O)cc3)cc2n(C)c1=O</td>\n",
       "      <td>B</td>\n",
       "      <td>'='</td>\n",
       "      <td>47.0</td>\n",
       "      <td>0.0</td>\n",
       "      <td>[0, 0, 0, 0, 0, 0, 0, 0, 0, 0, 0, 0, 0, 0, 0, ...</td>\n",
       "    </tr>\n",
       "    <tr>\n",
       "      <th>9</th>\n",
       "      <td>CHEMBL201554</td>\n",
       "      <td>NaN</td>\n",
       "      <td>COCCCn1c(=O)n(C)c(=O)c2[nH]c(-c3ccc(OCC(=O)Nc4...</td>\n",
       "      <td>B</td>\n",
       "      <td>'='</td>\n",
       "      <td>80.0</td>\n",
       "      <td>0.0</td>\n",
       "      <td>[0, 0, 0, 0, 0, 0, 0, 0, 0, 0, 0, 0, 0, 0, 0, ...</td>\n",
       "    </tr>\n",
       "  </tbody>\n",
       "</table>\n",
       "</div>"
      ],
      "text/plain": [
       "  Molecule ChEMBL ID  pChEMBL_value  \\\n",
       "7       CHEMBL240624            NaN   \n",
       "8       CHEMBL382413            NaN   \n",
       "9       CHEMBL201554            NaN   \n",
       "\n",
       "                                              Smiles Assay_Type  \\\n",
       "7  COCCOc1ccc(N2CCN(CCn3ncc4c3nc(N)n3nc(-c5ccco5)...          B   \n",
       "8    Cn1c(=O)c2[nH]c(-c3ccc(OCC(=O)O)cc3)cc2n(C)c1=O          B   \n",
       "9  COCCCn1c(=O)n(C)c(=O)c2[nH]c(-c3ccc(OCC(=O)Nc4...          B   \n",
       "\n",
       "  Standard Relation  Standard Value  active  \\\n",
       "7               '>'          1700.0     0.0   \n",
       "8               '='            47.0     0.0   \n",
       "9               '='            80.0     0.0   \n",
       "\n",
       "                                                  fp  \n",
       "7  [0, 0, 0, 0, 0, 0, 0, 0, 0, 0, 0, 0, 0, 0, 0, ...  \n",
       "8  [0, 0, 0, 0, 0, 0, 0, 0, 0, 0, 0, 0, 0, 0, 0, ...  \n",
       "9  [0, 0, 0, 0, 0, 0, 0, 0, 0, 0, 0, 0, 0, 0, 0, ...  "
      ]
     },
     "execution_count": 10,
     "metadata": {},
     "output_type": "execute_result"
    }
   ],
   "source": [
    "# Add column for fingerprint\n",
    "compound_df[\"fp\"] = compound_df[\"Smiles\"].apply(smiles_to_fp)\n",
    "compound_df.drop(compound_df[compound_df.fp == 'NaN'].index, inplace=True)\n",
    "compound_df.head(3)\n",
    "# NBVAL_CHECK_OUTPUT"
   ]
  },
  {
   "cell_type": "markdown",
   "id": "0ce16c5a",
   "metadata": {},
   "source": [
    "## 2.2 Machine Learning (ML)\n",
    "\n",
    "Several ML approaches were attempted to classify our molecules. Later, the model, which is able to predict data that it has never seen before the best, will be chosen. By doing so, over fitting can hopefully be minimized.\n",
    "\n",
    "* Random Forest (RF)\n",
    "* Support Vector Machine (SVM) \n",
    "* Artificial Neural Network (ANN) \n",
    "\n",
    "The function `model_training_and_validation` is defined, which fits a model on a random train-test split of the data and returns measures such as accuracy, sensitivity, specificity and AUC evaluated on the test set. The ROC curves are plotted using `plot_roc_curves_for_models`.\n",
    "\n",
    "The function named `crossvalidation` is defined to execute a cross validation procedure and print the statistics of the results over the folds."
   ]
  },
  {
   "cell_type": "markdown",
   "id": "e767e721",
   "metadata": {},
   "source": [
    "#### Helper functions\n",
    "Helper function to plot customized ROC curves. Code inspired by [stackoverflow](https://stackoverflow.com/questions/42894871/how-to-plot-multiple-roc-curves-in-one-plot-with-legend-and-auc-scores-in-python)."
   ]
  },
  {
   "cell_type": "code",
   "execution_count": 11,
   "id": "a3ac4d65",
   "metadata": {},
   "outputs": [],
   "source": [
    "def plot_roc_curves_for_models(models, test_x, test_y, save_png=True):\n",
    "    \"\"\"\n",
    "    Helper function to plot customized roc curve.\n",
    "\n",
    "    Parameters\n",
    "    ----------\n",
    "    models: dict\n",
    "        Dictionary of pretrained machine learning models.\n",
    "    test_x: list\n",
    "        Molecular fingerprints for test set.\n",
    "    test_y: list\n",
    "        Associated activity labels for test set.\n",
    "    save_png: bool\n",
    "        Save image to disk (default = False)\n",
    "\n",
    "    Returns\n",
    "    -------\n",
    "    fig:\n",
    "        Figure.\n",
    "    \"\"\"\n",
    "\n",
    "    fig, ax = plt.subplots()\n",
    "\n",
    "    # Below for loop iterates through your models list\n",
    "    for model in models:\n",
    "        # Select the model\n",
    "        ml_model = model[\"model\"]\n",
    "        # Prediction probability on test set\n",
    "        test_prob = ml_model.predict_proba(test_x)[:, 1]\n",
    "        # Prediction class on test set\n",
    "        test_pred = ml_model.predict(test_x)\n",
    "        # Compute False postive rate and True positive rate\n",
    "        fpr, tpr, thresholds = metrics.roc_curve(test_y, test_prob)\n",
    "        # Calculate Area under the curve to display on the plot\n",
    "        auc = roc_auc_score(test_y, test_prob)\n",
    "        # Plot the computed values\n",
    "        ax.plot(fpr, tpr, label=(f\"{model['label']} AUC area = {auc:.2f}\"))\n",
    "\n",
    "    # Custom settings for the plot\n",
    "    ax.plot([0, 1], [0, 1], \"r--\")\n",
    "    ax.set_xlabel(\"False Positive Rate\")\n",
    "    ax.set_ylabel(\"True Positive Rate\")\n",
    "    ax.set_title(\"Receiver Operating Characteristic\")\n",
    "    ax.legend(loc=\"lower right\")\n",
    "    # Save plot\n",
    "    if save_png:\n",
    "        fig.savefig(f\"results/roc_auc\", dpi=300, bbox_inches=\"tight\", transparent=True)\n",
    "    return fig"
   ]
  },
  {
   "cell_type": "markdown",
   "id": "5f839d31",
   "metadata": {},
   "source": [
    "Helper function to calculate model performance."
   ]
  },
  {
   "cell_type": "code",
   "execution_count": 12,
   "id": "02d122b4",
   "metadata": {},
   "outputs": [],
   "source": [
    "def model_performance(ml_model, test_x, test_y, verbose=True):\n",
    "    \"\"\"\n",
    "    Helper function to calculate model performance\n",
    "\n",
    "    Parameters\n",
    "    ----------\n",
    "    ml_model: sklearn model object\n",
    "        The machine learning model to train.\n",
    "    test_x: list\n",
    "        Molecular fingerprints for test set.\n",
    "    test_y: list\n",
    "        Associated activity labels for test set.\n",
    "    verbose: bool\n",
    "        Print performance measure (default = True)\n",
    "\n",
    "    Returns\n",
    "    -------\n",
    "    tuple:\n",
    "        Accuracy, sensitivity, specificity, auc on test set.\n",
    "    \"\"\"\n",
    "\n",
    "    # Prediction probability on test set\n",
    "    test_prob = ml_model.predict_proba(test_x)[:, 1]\n",
    "\n",
    "    # Prediction class on test set\n",
    "    test_pred = ml_model.predict(test_x)\n",
    "\n",
    "    # Performance of model on test set\n",
    "    accuracy = accuracy_score(test_y, test_pred)\n",
    "    sens = recall_score(test_y, test_pred)\n",
    "    spec = recall_score(test_y, test_pred, pos_label=0)\n",
    "    auc = roc_auc_score(test_y, test_prob)\n",
    "\n",
    "    if verbose:\n",
    "        # Print performance results\n",
    "        # NBVAL_CHECK_OUTPUT        print(f\"Accuracy: {accuracy:.2}\")\n",
    "        print(f\"Sensitivity: {sens:.2f}\")\n",
    "        print(f\"Specificity: {spec:.2f}\")\n",
    "        print(f\"AUC: {auc:.2f}\")\n",
    "\n",
    "    return accuracy, sens, spec, auc"
   ]
  },
  {
   "cell_type": "markdown",
   "id": "f02ebfc5",
   "metadata": {},
   "source": [
    " Helper function to fit a machine learning model on a random train-test split of the data and return the performance measures."
   ]
  },
  {
   "cell_type": "code",
   "execution_count": 13,
   "id": "e9f4fcfa",
   "metadata": {},
   "outputs": [],
   "source": [
    "def model_training_and_validation(ml_model, name, splits, verbose=True):\n",
    "    \"\"\"\n",
    "    Fit a machine learning model on a random train-test split of the data\n",
    "    and return the performance measures.\n",
    "\n",
    "    Parameters\n",
    "    ----------\n",
    "    ml_model: sklearn model object\n",
    "        The machine learning model to train.\n",
    "    name: str\n",
    "        Name of machine learning algorithm: RF, SVM, ANN\n",
    "    splits: list\n",
    "        List of desciptor and label data: train_x, test_x, train_y, test_y.\n",
    "    verbose: bool\n",
    "        Print performance info (default = True)\n",
    "\n",
    "    Returns\n",
    "    -------\n",
    "    tuple:\n",
    "        Accuracy, sensitivity, specificity, auc on test set.\n",
    "\n",
    "    \"\"\"\n",
    "    train_x, test_x, train_y, test_y = splits\n",
    "\n",
    "    # Fit the model\n",
    "    ml_model.fit(train_x, train_y)\n",
    "\n",
    "    # Calculate model performance results\n",
    "    accuracy, sens, spec, auc = model_performance(ml_model, test_x, test_y, verbose)\n",
    "\n",
    "    return accuracy, sens, spec, auc"
   ]
  },
  {
   "cell_type": "markdown",
   "id": "04b71b15",
   "metadata": {},
   "source": [
    "**Preprocessing**: Split the data (will be reused for the other models)"
   ]
  },
  {
   "cell_type": "code",
   "execution_count": 14,
   "id": "3b9779d8",
   "metadata": {},
   "outputs": [
    {
     "name": "stdout",
     "output_type": "stream",
     "text": [
      "Training data size: 3710\n",
      "Test data size: 928\n"
     ]
    }
   ],
   "source": [
    "fingerprint_to_model = compound_df.fp.tolist()\n",
    "label_to_model = compound_df.active.tolist()\n",
    "\n",
    "# Split data randomly in train and test set\n",
    "# note that we use test/train_x for the respective fingerprint splits\n",
    "# and test/train_y for the respective label splits\n",
    "(\n",
    "    static_train_x,\n",
    "    static_test_x,\n",
    "    static_train_y,\n",
    "    static_test_y,\n",
    ") = train_test_split(fingerprint_to_model, label_to_model, test_size=0.2, random_state=12)\n",
    "splits = [static_train_x, static_test_x, static_train_y, static_test_y]\n",
    "# NBVAL_CHECK_OUTPUT\n",
    "print(\"Training data size:\", len(static_train_x))\n",
    "print(\"Test data size:\", len(static_test_x))"
   ]
  },
  {
   "cell_type": "markdown",
   "id": "95047144",
   "metadata": {},
   "source": [
    "### 2.2.1 Random forest classifier (RF)\n",
    "\n",
    "A random forest classifier was tested first."
   ]
  },
  {
   "cell_type": "markdown",
   "id": "91a88c1b",
   "metadata": {},
   "source": [
    "The model was trained on a random train-test split and the results were plotted."
   ]
  },
  {
   "cell_type": "code",
   "execution_count": 15,
   "id": "86b39594",
   "metadata": {},
   "outputs": [],
   "source": [
    "# Set model parameter for random forest\n",
    "param = {\n",
    "    \"n_estimators\": 100,  # number of trees to grows\n",
    "    \"criterion\": \"entropy\",  # cost function to be optimized for a split\n",
    "}\n",
    "model_RF = RandomForestClassifier(**param)"
   ]
  },
  {
   "cell_type": "code",
   "execution_count": 16,
   "id": "89cdf2a0",
   "metadata": {},
   "outputs": [
    {
     "name": "stdout",
     "output_type": "stream",
     "text": [
      "Sensitivity: 0.75\n",
      "Specificity: 0.91\n",
      "AUC: 0.90\n"
     ]
    }
   ],
   "source": [
    "# Fit model on single split\n",
    "performance_measures = model_training_and_validation(model_RF, \"RF\", splits)"
   ]
  },
  {
   "cell_type": "code",
   "execution_count": 17,
   "id": "d09d73f2",
   "metadata": {},
   "outputs": [
    {
     "name": "stdout",
     "output_type": "stream",
     "text": [
      "Directory already exists, continuing\n"
     ]
    },
    {
     "data": {
      "text/plain": [
       "'/home/jovyan/Cheminformatics/results/roc_auc.png'"
      ]
     },
     "execution_count": 17,
     "metadata": {},
     "output_type": "execute_result"
    },
    {
     "data": {
      "image/png": "[encoded data removed]",
      "text/plain": [
       "<Figure size 640x480 with 1 Axes>"
      ]
     },
     "metadata": {},
     "output_type": "display_data"
    }
   ],
   "source": [
    "# Initialize the list that stores all models. First one is RF.\n",
    "models = [{\"label\": \"Model_RF\", \"model\": model_RF}]\n",
    "try:\n",
    "    os.mkdir('results')\n",
    "except:\n",
    "    print(\"Directory already exists, continuing\")\n",
    "# Plot roc curve\n",
    "plot_roc_curves_for_models(models, static_test_x, static_test_y)\n",
    "result_img = '{}/results/roc_auc.png'.format(os.getcwd())\n",
    "result_img"
   ]
  },
  {
   "cell_type": "markdown",
   "id": "2c5a4818",
   "metadata": {},
   "source": [
    "### 2.2.2 Support vector classifier (SVM)\n",
    "Next up was the SVM with a radial-basis function kernel (also: squared-exponential kernel). "
   ]
  },
  {
   "cell_type": "code",
   "execution_count": 18,
   "id": "b8dcaf46",
   "metadata": {
    "scrolled": true
   },
   "outputs": [
    {
     "name": "stdout",
     "output_type": "stream",
     "text": [
      "Sensitivity: 0.73\n",
      "Specificity: 0.94\n",
      "AUC: 0.89\n"
     ]
    }
   ],
   "source": [
    "# Specify model\n",
    "model_SVM = svm.SVC(kernel=\"rbf\", C=1, gamma=0.1, probability=True)\n",
    "\n",
    "# Fit model on single split\n",
    "performance_measures = model_training_and_validation(model_SVM, \"SVM\", splits)"
   ]
  },
  {
   "cell_type": "code",
   "execution_count": 19,
   "id": "12c20e4c",
   "metadata": {
    "tags": [
     "nbsphinx-thumbnail"
    ]
   },
   "outputs": [
    {
     "data": {
      "text/plain": [
       "'/home/jovyan/Cheminformatics/results/roc_auc.png'"
      ]
     },
     "execution_count": 19,
     "metadata": {},
     "output_type": "execute_result"
    },
    {
     "data": {
      "image/png": "[encoded data removed]",
      "text/plain": [
       "<Figure size 640x480 with 1 Axes>"
      ]
     },
     "metadata": {},
     "output_type": "display_data"
    }
   ],
   "source": [
    "# Append SVM model\n",
    "models.append({\"label\": \"Model_SVM\", \"model\": model_SVM})\n",
    "# Plot roc curve\n",
    "plot_roc_curves_for_models(models, static_test_x, static_test_y)\n",
    "result_img = '{}/results/roc_auc.png'.format(os.getcwd())\n",
    "result_img"
   ]
  },
  {
   "cell_type": "markdown",
   "id": "dc197345",
   "metadata": {},
   "source": [
    "### 2.2.3 Neural network classifier (ANN)\n",
    "Lastly, a neural network model was generated. An MLPClassifier (Multi-layer Perceptron classifier) was trained with 3 layers, each with 5 neurons. As before, the crossvalidation procedure was done and the results were plotted."
   ]
  },
  {
   "cell_type": "code",
   "execution_count": 20,
   "id": "85ecd610",
   "metadata": {
    "scrolled": true
   },
   "outputs": [
    {
     "name": "stdout",
     "output_type": "stream",
     "text": [
      "Sensitivity: 0.65\n",
      "Specificity: 0.90\n",
      "AUC: 0.88\n"
     ]
    }
   ],
   "source": [
    "# Specify model\n",
    "model_ANN = MLPClassifier(hidden_layer_sizes=(5, 3), random_state=12)\n",
    "\n",
    "# Fit model on single split\n",
    "performance_measures = model_training_and_validation(model_ANN, \"ANN\", splits)"
   ]
  },
  {
   "cell_type": "code",
   "execution_count": 21,
   "id": "038bd05d",
   "metadata": {},
   "outputs": [
    {
     "data": {
      "text/plain": [
       "'/home/jovyan/Cheminformatics/results/roc_auc.png'"
      ]
     },
     "execution_count": 21,
     "metadata": {},
     "output_type": "execute_result"
    },
    {
     "data": {
      "image/png": "[encoded data removed]",
      "text/plain": [
       "<Figure size 640x480 with 1 Axes>"
      ]
     },
     "metadata": {},
     "output_type": "display_data"
    }
   ],
   "source": [
    "# Append ANN model\n",
    "models.append({\"label\": \"Model_ANN\", \"model\": model_ANN})\n",
    "# Plot roc curve\n",
    "plot_roc_curves_for_models(models, static_test_x, static_test_y, True)\n",
    "result_img = '{}/results/roc_auc.png'.format(os.getcwd())\n",
    "result_img"
   ]
  },
  {
   "cell_type": "markdown",
   "id": "15a2adb8",
   "metadata": {},
   "source": [
    "All models show a AUC of ~0.9, which is very good and means they were predictive when testing the test dataset."
   ]
  },
  {
   "cell_type": "markdown",
   "id": "6b36335d",
   "metadata": {},
   "source": [
    "### 2.2.4 Cross-validation\n",
    "\n",
    "Cross-validation experiments were performed with the three different models.\n",
    "Therefore, a helper function was defined for machine learning model training and validation in a cross-validation loop."
   ]
  },
  {
   "cell_type": "code",
   "execution_count": 22,
   "id": "c5f50bae",
   "metadata": {},
   "outputs": [],
   "source": [
    "def crossvalidation(ml_model, df, n_folds=5, verbose=False):\n",
    "    \"\"\"\n",
    "    Machine learning model training and validation in a cross-validation loop.\n",
    "\n",
    "    Parameters\n",
    "    ----------\n",
    "    ml_model: sklearn model object\n",
    "        The machine learning model to train.\n",
    "    df: pd.DataFrame\n",
    "        Data set with SMILES and their associated activity labels.\n",
    "    n_folds: int, optional\n",
    "        Number of folds for cross-validation.\n",
    "    verbose: bool, optional\n",
    "        Performance measures are printed.\n",
    "\n",
    "    Returns\n",
    "    -------\n",
    "    None\n",
    "\n",
    "    \"\"\"\n",
    "    t0 = time.time()\n",
    "    # Shuffle the indices for the k-fold cross-validation\n",
    "    kf = KFold(n_splits=n_folds, shuffle=True, random_state=SEED)\n",
    "\n",
    "    # Results for each of the cross-validation folds\n",
    "    acc_per_fold = []\n",
    "    sens_per_fold = []\n",
    "    spec_per_fold = []\n",
    "    auc_per_fold = []\n",
    "\n",
    "    # Loop over the folds\n",
    "    for train_index, test_index in kf.split(df):\n",
    "        # clone model -- we want a fresh copy per fold!\n",
    "        fold_model = clone(ml_model)\n",
    "        # Training\n",
    "\n",
    "        # Convert the fingerprint and the label to a list\n",
    "        train_x = df.iloc[train_index].fp.tolist()\n",
    "        train_y = df.iloc[train_index].active.tolist()\n",
    "\n",
    "        # Fit the model\n",
    "        fold_model.fit(train_x, train_y)\n",
    "\n",
    "        # Testing\n",
    "\n",
    "        # Convert the fingerprint and the label to a list\n",
    "        test_x = df.iloc[test_index].fp.tolist()\n",
    "        test_y = df.iloc[test_index].active.tolist()\n",
    "\n",
    "        # Performance for each fold\n",
    "        accuracy, sens, spec, auc = model_performance(fold_model, test_x, test_y, verbose)\n",
    "\n",
    "        # Save results\n",
    "        acc_per_fold.append(accuracy)\n",
    "        sens_per_fold.append(sens)\n",
    "        spec_per_fold.append(spec)\n",
    "        auc_per_fold.append(auc)\n",
    "\n",
    "    # Print statistics of results\n",
    "    print(\n",
    "        f\"Mean accuracy: {np.mean(acc_per_fold):.2f} \\t\"\n",
    "        f\"and std : {np.std(acc_per_fold):.2f} \\n\"\n",
    "        f\"Mean sensitivity: {np.mean(sens_per_fold):.2f} \\t\"\n",
    "        f\"and std : {np.std(sens_per_fold):.2f} \\n\"\n",
    "        f\"Mean specificity: {np.mean(spec_per_fold):.2f} \\t\"\n",
    "        f\"and std : {np.std(spec_per_fold):.2f} \\n\"\n",
    "        f\"Mean AUC: {np.mean(auc_per_fold):.2f} \\t\"\n",
    "        f\"and std : {np.std(auc_per_fold):.2f} \\n\"\n",
    "        f\"Time taken : {time.time() - t0:.2f}s\\n\"\n",
    "    )\n",
    "\n",
    "    return acc_per_fold, sens_per_fold, spec_per_fold, auc_per_fold"
   ]
  },
  {
   "cell_type": "markdown",
   "id": "b07c5e6c",
   "metadata": {},
   "source": [
    "Cross-validation was applied and the statistics for all three ML models were visualized. In real world conditions, cross-validation usually applies 5 or more folds, but for the sake of performance it was reduced to 3."
   ]
  },
  {
   "cell_type": "code",
   "execution_count": 23,
   "id": "14d0ff99",
   "metadata": {},
   "outputs": [],
   "source": [
    "N_FOLDS = 3"
   ]
  },
  {
   "cell_type": "markdown",
   "id": "5431d0b3",
   "metadata": {},
   "source": [
    "_Note_: Next cell takes long to execute"
   ]
  },
  {
   "cell_type": "code",
   "execution_count": 24,
   "id": "db78196f",
   "metadata": {},
   "outputs": [
    {
     "name": "stdout",
     "output_type": "stream",
     "text": [
      "\n",
      "======= \n",
      "Model_RF\n",
      "Mean accuracy: 0.85 \tand std : 0.01 \n",
      "Mean sensitivity: 0.74 \tand std : 0.02 \n",
      "Mean specificity: 0.90 \tand std : 0.01 \n",
      "Mean AUC: 0.90 \tand std : 0.01 \n",
      "Time taken : 1.45s\n",
      "\n",
      "\n",
      "======= \n",
      "Model_SVM\n",
      "Mean accuracy: 0.85 \tand std : 0.01 \n",
      "Mean sensitivity: 0.70 \tand std : 0.01 \n",
      "Mean specificity: 0.93 \tand std : 0.01 \n",
      "Mean AUC: 0.89 \tand std : 0.01 \n",
      "Time taken : 15.25s\n",
      "\n",
      "\n",
      "======= \n",
      "Model_ANN\n",
      "Mean accuracy: 0.81 \tand std : 0.01 \n",
      "Mean sensitivity: 0.64 \tand std : 0.01 \n",
      "Mean specificity: 0.90 \tand std : 0.01 \n",
      "Mean AUC: 0.87 \tand std : 0.01 \n",
      "Time taken : 4.96s\n",
      "\n"
     ]
    }
   ],
   "source": [
    "for model in models:\n",
    "    print(\"\\n======= \")\n",
    "    print(f\"{model['label']}\")\n",
    "    crossvalidation(model[\"model\"], compound_df, n_folds=N_FOLDS)"
   ]
  },
  {
   "cell_type": "markdown",
   "id": "b3621f60",
   "metadata": {},
   "source": [
    "Cross-validation performance for molecules encoded was shown using MACCS keys as a default. It was tried with Morgan fingerprints as well."
   ]
  },
  {
   "cell_type": "code",
   "execution_count": 25,
   "id": "da1cec74",
   "metadata": {},
   "outputs": [],
   "source": [
    "# Reset data frame\n",
    "compound_df = compound_df.drop(['fp'], axis=1)"
   ]
  },
  {
   "cell_type": "code",
   "execution_count": 26,
   "id": "b4bd660e",
   "metadata": {},
   "outputs": [
    {
     "data": {
      "text/html": [
       "<div>\n",
       "<style scoped>\n",
       "    .dataframe tbody tr th:only-of-type {\n",
       "        vertical-align: middle;\n",
       "    }\n",
       "\n",
       "    .dataframe tbody tr th {\n",
       "        vertical-align: top;\n",
       "    }\n",
       "\n",
       "    .dataframe thead th {\n",
       "        text-align: right;\n",
       "    }\n",
       "</style>\n",
       "<table border=\"1\" class=\"dataframe\">\n",
       "  <thead>\n",
       "    <tr style=\"text-align: right;\">\n",
       "      <th></th>\n",
       "      <th>Molecule ChEMBL ID</th>\n",
       "      <th>pChEMBL_value</th>\n",
       "      <th>Smiles</th>\n",
       "      <th>Assay_Type</th>\n",
       "      <th>Standard Relation</th>\n",
       "      <th>Standard Value</th>\n",
       "      <th>active</th>\n",
       "      <th>fp</th>\n",
       "    </tr>\n",
       "  </thead>\n",
       "  <tbody>\n",
       "    <tr>\n",
       "      <th>7</th>\n",
       "      <td>CHEMBL240624</td>\n",
       "      <td>NaN</td>\n",
       "      <td>COCCOc1ccc(N2CCN(CCn3ncc4c3nc(N)n3nc(-c5ccco5)...</td>\n",
       "      <td>B</td>\n",
       "      <td>'&gt;'</td>\n",
       "      <td>1700.0</td>\n",
       "      <td>0.0</td>\n",
       "      <td>[0, 0, 0, 0, 0, 0, 0, 0, 0, 0, 0, 0, 0, 1, 0, ...</td>\n",
       "    </tr>\n",
       "    <tr>\n",
       "      <th>8</th>\n",
       "      <td>CHEMBL382413</td>\n",
       "      <td>NaN</td>\n",
       "      <td>Cn1c(=O)c2[nH]c(-c3ccc(OCC(=O)O)cc3)cc2n(C)c1=O</td>\n",
       "      <td>B</td>\n",
       "      <td>'='</td>\n",
       "      <td>47.0</td>\n",
       "      <td>0.0</td>\n",
       "      <td>[0, 0, 0, 0, 0, 0, 0, 0, 0, 0, 0, 0, 0, 0, 0, ...</td>\n",
       "    </tr>\n",
       "    <tr>\n",
       "      <th>9</th>\n",
       "      <td>CHEMBL201554</td>\n",
       "      <td>NaN</td>\n",
       "      <td>COCCCn1c(=O)n(C)c(=O)c2[nH]c(-c3ccc(OCC(=O)Nc4...</td>\n",
       "      <td>B</td>\n",
       "      <td>'='</td>\n",
       "      <td>80.0</td>\n",
       "      <td>0.0</td>\n",
       "      <td>[0, 0, 0, 0, 0, 0, 0, 0, 0, 0, 0, 0, 0, 1, 0, ...</td>\n",
       "    </tr>\n",
       "  </tbody>\n",
       "</table>\n",
       "</div>"
      ],
      "text/plain": [
       "  Molecule ChEMBL ID  pChEMBL_value  \\\n",
       "7       CHEMBL240624            NaN   \n",
       "8       CHEMBL382413            NaN   \n",
       "9       CHEMBL201554            NaN   \n",
       "\n",
       "                                              Smiles Assay_Type  \\\n",
       "7  COCCOc1ccc(N2CCN(CCn3ncc4c3nc(N)n3nc(-c5ccco5)...          B   \n",
       "8    Cn1c(=O)c2[nH]c(-c3ccc(OCC(=O)O)cc3)cc2n(C)c1=O          B   \n",
       "9  COCCCn1c(=O)n(C)c(=O)c2[nH]c(-c3ccc(OCC(=O)Nc4...          B   \n",
       "\n",
       "  Standard Relation  Standard Value  active  \\\n",
       "7               '>'          1700.0     0.0   \n",
       "8               '='            47.0     0.0   \n",
       "9               '='            80.0     0.0   \n",
       "\n",
       "                                                  fp  \n",
       "7  [0, 0, 0, 0, 0, 0, 0, 0, 0, 0, 0, 0, 0, 1, 0, ...  \n",
       "8  [0, 0, 0, 0, 0, 0, 0, 0, 0, 0, 0, 0, 0, 0, 0, ...  \n",
       "9  [0, 0, 0, 0, 0, 0, 0, 0, 0, 0, 0, 0, 0, 1, 0, ...  "
      ]
     },
     "execution_count": 26,
     "metadata": {},
     "output_type": "execute_result"
    }
   ],
   "source": [
    "# Use Morgan fingerprint with radius 3\n",
    "compound_df[\"fp\"] = compound_df[\"Smiles\"].apply(smiles_to_fp, args=(\"morgan3\",))\n",
    "compound_df.head(3)\n",
    "# NBVAL_CHECK_OUTPUT"
   ]
  },
  {
   "cell_type": "markdown",
   "id": "f46197b3",
   "metadata": {},
   "source": [
    "_Note_: Next cell takes long to execute"
   ]
  },
  {
   "cell_type": "code",
   "execution_count": 27,
   "id": "4abf480b",
   "metadata": {
    "scrolled": true
   },
   "outputs": [
    {
     "name": "stdout",
     "output_type": "stream",
     "text": [
      "\n",
      "=======\n",
      "Model_RF\n",
      "Mean accuracy: 0.85 \tand std : 0.01 \n",
      "Mean sensitivity: 0.74 \tand std : 0.01 \n",
      "Mean specificity: 0.91 \tand std : 0.01 \n",
      "Mean AUC: 0.91 \tand std : 0.01 \n",
      "Time taken : 7.26s\n",
      "\n",
      "\n",
      "=======\n",
      "Model_SVM\n",
      "Mean accuracy: 0.80 \tand std : 0.00 \n",
      "Mean sensitivity: 0.46 \tand std : 0.01 \n",
      "Mean specificity: 0.96 \tand std : 0.00 \n",
      "Mean AUC: 0.85 \tand std : 0.01 \n",
      "Time taken : 304.49s\n",
      "\n",
      "\n",
      "=======\n",
      "Model_ANN\n",
      "Mean accuracy: 0.84 \tand std : 0.01 \n",
      "Mean sensitivity: 0.75 \tand std : 0.02 \n",
      "Mean specificity: 0.88 \tand std : 0.01 \n",
      "Mean AUC: 0.91 \tand std : 0.00 \n",
      "Time taken : 141.41s\n",
      "\n"
     ]
    }
   ],
   "source": [
    "for model in models:\n",
    "    if model[\"label\"] == \"Model_SVM\":\n",
    "        # SVM is super slow with long fingerprints\n",
    "        # and will have a performance similar to RF\n",
    "        # We can skip it in this test, but if you want\n",
    "        # to run it, feel free to replace `continue` with `pass`\n",
    "        pass\n",
    "    print(\"\\n=======\")\n",
    "    print(model[\"label\"])\n",
    "    reduced_df = compound_df[['active','fp']]\n",
    "    crossvalidation(model[\"model\"], reduced_df, n_folds=N_FOLDS)"
   ]
  },
  {
   "cell_type": "markdown",
   "id": "065cf308",
   "metadata": {},
   "source": [
    "So far, classification models have been running (is the compound going to be active or not, indicated by the active column we added in the dataframe). The next step is to see if a classification model can be trained. The censored data was removed (the ones with no pChEMBL value). "
   ]
  },
  {
   "cell_type": "code",
   "execution_count": 28,
   "id": "35c10f93",
   "metadata": {},
   "outputs": [],
   "source": [
    "def crossvalidation_reg(ml_model, df, n_folds=5, verbose=False):\n",
    "    \"\"\"\n",
    "    Machine learning model training and validation in a cross-validation loop.\n",
    "\n",
    "    Parameters\n",
    "    ----------\n",
    "    ml_model: sklearn model object\n",
    "        The machine learning model to train.\n",
    "    df: pd.DataFrame\n",
    "        Data set with SMILES and their associated activity labels.\n",
    "    n_folds: int, optional\n",
    "        Number of folds for cross-validation.\n",
    "    verbose: bool, optional\n",
    "        Performance measures are printed.\n",
    "\n",
    "    Returns\n",
    "    -------\n",
    "    None\n",
    "\n",
    "    \"\"\"\n",
    "    t0 = time.time()\n",
    "    # Shuffle the indices for the k-fold cross-validation\n",
    "    kf = KFold(n_splits=n_folds, shuffle=True, random_state=SEED)\n",
    "\n",
    "    # Results for each of the cross-validation folds\n",
    "    MAE_per_fold = []\n",
    "    RMSE_per_fold = []\n",
    "\n",
    "    # Loop over the folds\n",
    "    for train_index, test_index in kf.split(df):\n",
    "        # clone model -- we want a fresh copy per fold!\n",
    "        fold_model = clone(ml_model)\n",
    "        # Training\n",
    "\n",
    "        # Convert the fingerprint and the label to a list\n",
    "        train_x = df.iloc[train_index].fp.tolist()\n",
    "        train_y = df.iloc[train_index].pChEMBL_value.tolist()\n",
    "\n",
    "        # Fit the model\n",
    "        fold_model.fit(train_x, train_y)\n",
    "\n",
    "        # Testing\n",
    "\n",
    "        # Convert the fingerprint and the label to a list\n",
    "        test_x = df.iloc[test_index].fp.tolist()\n",
    "        test_y = df.iloc[test_index].pChEMBL_value.tolist()\n",
    "        \n",
    "        test_results = fold_model.predict(test_x)\n",
    "        # Prediction probability on test set\n",
    "        from sklearn import metrics\n",
    "\n",
    "        MAE_per_fold.append(metrics.mean_absolute_error(test_y, test_results))\n",
    "        #print('Mean Squared Error (MSE):', metrics.mean_squared_error(test_y, test_results))\n",
    "        RMSE_per_fold.append(np.sqrt(metrics.mean_squared_error(test_y, test_results)))\n",
    "        #mape = np.mean(np.abs((gt - pred) / np.abs(gt)))\n",
    "        #print('Mean Absolute Percentage Error (MAPE):', round(mape * 100, 2))\n",
    "        #print('Accuracy:', round(100*(1 - mape), 2))\n",
    "    return(MAE_per_fold,RMSE_per_fold,fold_model)"
   ]
  },
  {
   "cell_type": "code",
   "execution_count": 29,
   "id": "9b5b1912",
   "metadata": {},
   "outputs": [
    {
     "name": "stdout",
     "output_type": "stream",
     "text": [
      "Training data size: 3710\n",
      "Test data size: 928\n"
     ]
    }
   ],
   "source": [
    "fingerprint_to_model = compound_df.fp.tolist()\n",
    "label_to_model = compound_df.pChEMBL_value.tolist()\n",
    "\n",
    "# Split data randomly in train and test set\n",
    "# note that we use test/train_x for the respective fingerprint splits\n",
    "# and test/train_y for the respective label splits\n",
    "(\n",
    "    static_train_x,\n",
    "    static_test_x,\n",
    "    static_train_y,\n",
    "    static_test_y,\n",
    ") = train_test_split(fingerprint_to_model, label_to_model, test_size=0.2, random_state=12)\n",
    "splits = [static_train_x, static_test_x, static_train_y, static_test_y]\n",
    "# NBVAL_CHECK_OUTPUT\n",
    "print(\"Training data size:\", len(static_train_x))\n",
    "print(\"Test data size:\", len(static_test_x))"
   ]
  },
  {
   "cell_type": "code",
   "execution_count": 30,
   "id": "677a6833",
   "metadata": {
    "scrolled": true
   },
   "outputs": [
    {
     "name": "stdout",
     "output_type": "stream",
     "text": [
      "MAE: 0.41 \tand std : 0.02 \n",
      "RMSE: 0.59 \tand std : 0.02 \n",
      "\n"
     ]
    }
   ],
   "source": [
    "# Kick out NaN in the pChEMBL values\n",
    "compound_df_noNaN = compound_df.dropna()\n",
    "\n",
    "# Append RF Regressor model\n",
    "#models.append({\"label\": \"Model_RF_reg\", \"model\": RandomForestRegressor})\n",
    "#Train model with RandomForestRegressor\n",
    "regressor = RandomForestRegressor()\n",
    "MAE, RMSE,trained_model = crossvalidation_reg(regressor , compound_df_noNaN, n_folds=N_FOLDS)\n",
    "\n",
    "print(\n",
    "f\"MAE: {np.mean(MAE):.2f} \\t\"\n",
    "f\"and std : {np.std(MAE):.2f} \\n\"\n",
    "f\"RMSE: {np.mean(RMSE):.2f} \\t\"\n",
    "f\"and std : {np.std(RMSE):.2f} \\n\"\n",
    ")"
   ]
  },
  {
   "cell_type": "markdown",
   "id": "689ea9b4",
   "metadata": {},
   "source": [
    "The data is no longer categorical, so the errors between experimental data and predicted data are measured using the MAE and RMSE. Typically, an MAE and/or RMSE below 0.6 is considered quite decent. Therefore, the data seems to be satisfactory.\n",
    "\n",
    "The RF model was used to run predictions on new compounds. The following compounds were designed and attempted:\n",
    "\n",
    "![image_info](img/Differen_Ligands_pCHEMBL.jpg)\n",
    "*Figure 2.2: The different compounds that were included in the SAR and their original predicted values.*\n",
    "\n",
    "## 2.3 Affinity prediction\n",
    "\n",
    "The output of the SMILES below is different than the original run of the model, because of the random split. The original output looked as follows:\n",
    "\n",
    "![image info](img/SMILES_predictions.png)\n",
    "*Figure 2.3: The original pCHEMBL predictions of the RF model.*\n",
    "\n",
    "This data was used to create a novel drug. **The SMILES and the images were created with ChemDraw**"
   ]
  },
  {
   "cell_type": "code",
   "execution_count": 31,
   "id": "fb48afc5",
   "metadata": {},
   "outputs": [
    {
     "name": "stdout",
     "output_type": "stream",
     "text": [
      "SMILES, PREDICTION\n",
      "C1CC1COC2=CC=C(C=C2)C3=C(C(=NC(=C3C#N)SCC(=O)N)N)C#N,6.95\n",
      "N#CC1=C(SCC2=NC=CN2)N=C(N)C(C#N)=C1C(C=C3)=CC=C3OCC4CC4,7.17\n",
      "N#CC1=C(SCC(=O)C(N([H])[H])O[H])N=C(N([H])[H])C(CO[H])=C1C1C=C(CC)C(OCC2CC2)=CC=1,6.89\n",
      "N#CC1=C(SCC2=NC=CN2)N=C(N)C(C#N)=C1C(C=C3)=CC(CC)=C3OCC4CC4,7.08\n",
      "N#CC1=C(SCN(C)C)N=C(N)C(C#N)=C1C(C=C2)=CC=C2OCC3CC3,6.92\n",
      "N#CC1=C(SCN)N=C(N)C(C#N)=C1C(C=C2)=CC=C2OCC3CC3,6.91\n",
      "N#CC1=C(C2=CC=C(OCC3CC3)C=C2)C(C#N)=C(N=C1N)SCO,6.90\n",
      "N#CC1=C(C2=CC=C(O)C=C2)C(C#N)=C(N=C1N)SCO,7.09\n",
      "N#CC1=C(C2=CC=CC=C2)C(C#N)=C(N=C1N)SCO,6.90\n",
      "N#CC1=C(C2=CC=C(O)C=C2)C(C#N)=C(N=C1N(C)C)SCO,6.73\n",
      "N#CC1=C(SCC(N)=O)N=C(O)C(C#N)=C1C(C=C2)=CC=C2OCC3CC3,6.68\n",
      "N#CC1=C(SCC(O)=O)N=C(N)C(C#N)=C1C(C=C2)=CC=C2OCC3CC3,6.94\n",
      "N#CC1=C(SCC(N)=O)N=C(N)C=C1C(C=C2)=CC=C2OCC3CC3,6.46\n",
      "N#CC1=C(SCC(N)=O)N=C(N)C(C#N)=C1C(C=C2)=CC=C2CCC3CC3,6.97\n",
      "N#CC1=C(SCC2=NC=CN2)N=C(N)C(C#N)=C1C(C=C3)=CC=C3CCC4CC4,7.26\n",
      "N#CC1=C(SCC2=NC=CN2)N=C(N)C(C#N)=C1C(C=C3CC)=CC=C3CCC4CC4,7.04\n"
     ]
    }
   ],
   "source": [
    "# The first entry is the co-crystalized ligand \n",
    "# which is added for reference (so we can compare \n",
    "# to its actual pChEMBL value)\n",
    "# BELOW: add your own molecules\n",
    "test_smiles = [\n",
    "    \n",
    "    'C1CC1COC2=CC=C(C=C2)C3=C(C(=NC(=C3C#N)SCC(=O)N)N)C#N', #BAY 60-6583\n",
    "    'N#CC1=C(SCC2=NC=CN2)N=C(N)C(C#N)=C1C(C=C3)=CC=C3OCC4CC4',     #Benthe\n",
    "    'N#CC1=C(SCC(=O)C(N([H])[H])O[H])N=C(N([H])[H])C(CO[H])=C1C1C=C(CC)C(OCC2CC2)=CC=1',   #Tamara\n",
    "    'N#CC1=C(SCC2=NC=CN2)N=C(N)C(C#N)=C1C(C=C3)=CC(CC)=C3OCC4CC4', #TamaraBentheFusion\n",
    "    'N#CC1=C(SCN(C)C)N=C(N)C(C#N)=C1C(C=C2)=CC=C2OCC3CC3', #met N-2-methyl\n",
    "    'N#CC1=C(SCN)N=C(N)C(C#N)=C1C(C=C2)=CC=C2OCC3CC3', #Met NH2\n",
    "    'N#CC1=C(C2=CC=C(OCC3CC3)C=C2)C(C#N)=C(N=C1N)SCO', #met OH\n",
    "    'N#CC1=C(C2=CC=C(O)C=C2)C(C#N)=C(N=C1N)SCO', #zonder driehoek\n",
    "    'N#CC1=C(C2=CC=CC=C2)C(C#N)=C(N=C1N)SCO', #zonder driehoek en zonder O\n",
    "    'N#CC1=C(C2=CC=C(O)C=C2)C(C#N)=C(N=C1N(C)C)SCO', #zonderNH2 boven\n",
    "    'N#CC1=C(SCC(N)=O)N=C(O)C(C#N)=C1C(C=C2)=CC=C2OCC3CC3', #met OH boven\n",
    "    'N#CC1=C(SCC(O)=O)N=C(N)C(C#N)=C1C(C=C2)=CC=C2OCC3CC3', #COOH ipc CONH2\n",
    "    'N#CC1=C(SCC(N)=O)N=C(N)C=C1C(C=C2)=CC=C2OCC3CC3', # -1 =-N\n",
    "    'N#CC1=C(SCC(N)=O)N=C(N)C(C#N)=C1C(C=C2)=CC=C2CCC3CC3', #zonder O in alkenechain\n",
    "    'N#CC1=C(SCC2=NC=CN2)N=C(N)C(C#N)=C1C(C=C3)=CC=C3CCC4CC4', #met Benthe en zonder O in alkenechain\n",
    "    'N#CC1=C(SCC2=NC=CN2)N=C(N)C(C#N)=C1C(C=C3CC)=CC=C3CCC4CC4', #met Benthe en Tamara fusion en zonder O in alkenechain\n",
    "]\n",
    "\n",
    "fps = []\n",
    "\n",
    "for smiles in test_smiles: \n",
    "    fp = smiles_to_fp(smiles,'morgan3')\n",
    "    fps.append(fp)\n",
    "\n",
    "predictions = trained_model.predict(fps)\n",
    "print(\"SMILES, PREDICTION\")\n",
    "for i, prediction in enumerate(predictions):\n",
    "    print('{},{:.2f}'.format(test_smiles[i], prediction))"
   ]
  },
  {
   "cell_type": "markdown",
   "id": "d37a22d7",
   "metadata": {},
   "source": [
    "### 2.3.1 SAR Conclusion\n",
    "The pCHEMBL of the original ligand was predicted to be 7.05. The first compound to be attempted was P453, which had a higher predicted pCHEMBL of 7.26.\n",
    "\n",
    "Different side chains were tested on the R1 and R2 places. However, every attempt to replace the R1 group seemed to lower the pCHEMBL.\n",
    "\n",
    "The R2 position was changed as well, by using a R1 group that had a low predicted affinity. By doing this, the worst predicted compounds could be created, which would give valuable information for what could be important for the binding. All attempts for the R2 position decreased the predicted affinity as well, except for the removal of the oxygen in the carbon linker.\n",
    "\n",
    "The removal of the oxygen was tested with both the original R1 group and the R1 group of P453, which seemed to have the highest predicted affinity out of all the compounds.\n",
    "\n",
    "This oxygen atom was already interesting, as PLIP did not assign any interactions between the protein and this particular oxygen. It even seemed to be in a hydrophobic pocket. With this removal it emphazises this hodyphobic pocket even more.\n"
   ]
  },
  {
   "cell_type": "markdown",
   "id": "baa60038",
   "metadata": {},
   "source": [
    "## 2.4 Discussion\n",
    "\n",
    "All of the models performed quite well. Receiver Operating Characteristic (ROC) curves show how well the models are at predicting the true positives of the test dataset. High AUCs correspond to a good predicting ability. The AUCs of the models were all comparable. The RF model showed the highest AUC.\n",
    "\n",
    "The MACCS fingerprints were used for cross-validation. All three models showed comparable mean accuracies again, with the ANN model showing the lowest. The mean specificity was similar as well. However, the mean sensitivity of the ANN model was 0.64, compared to the 0.74 of the RF model. This is quite low.\n",
    "\n",
    "Lastly, the models were analysed using Morgan fingerprints. The mean accuracies and mean specificities were still similar, but further apart compared to the MACCS fingerprints. However, the mean sensitivity of the SVM model was far worse than the other models, 0.46 compared to 0.74 (RF) and 0.75 (ANN).\n",
    "\n",
    "Overall, the RF model seemed to perform the most consistently. Therefore, the right choice was made to use this model to predict the affinities of the novel ligands.\n",
    "\n",
    "The RF model probably performed the best because the dataset is separated in active/inactive compounds. The RF format can therefore easily make decisions based on the structures it already knows to be active. ANN models generally need more data, so the model might not have been trained well enough, which is why its ability to predict true positives is low (sensitivity).\n",
    "\n",
    "The MACCS keys are shorter, which is why the run times of those cross-validations were only a couple seconds. However, the short keys could mean the loss of information, which is why Morgan fingerprints might be better to use. Both types gave about the same AUCs for the models though. So if MACCS keys result in a shorter running time, then is might have been the right choice.\n"
   ]
  },
  {
   "cell_type": "markdown",
   "id": "a4897e0e",
   "metadata": {},
   "source": [
    "### References:\n",
    "\n",
    "[1] Korkutata, M., & Lazarus, M. (2023). Adenosine A2A receptors and sleep (Vol. 170). International Review of Neurobiology. doi: 10.1016/bs.irn.2023.04.007.\n",
    "\n",
    "[2] Vincenzi F, Pasquini S, Contri C, Cappello M, Nigro M, Travagli A, Merighi S, Gessi S, Borea PA, Varani K. Pharmacology of Adenosine Receptors: Recent Advancements. Biomolecules. 2023 Sep 14;13(9):1387. doi: 10.3390/biom13091387.\n",
    "\n",
    "[3] Catarzi D, Varano F, Varani K, Vincenzi F, Pasquini S, Dal Ben D, Volpini R, Colotta V. Amino-3,5-Dicyanopyridines Targeting the Adenosine Receptors Ranging from Pan Ligands to Combined A1/A2B Partial Agonists. Pharmaceuticals (Basel). 2019 Oct 22;12(4):159. doi: 10.3390/ph12040159.\n",
    "\n",
    "[4] Adenosine receptor A2B | DrugBank Online. (z.d.). DrugBank. Geraadpleegd op 8 november 2023, van https://go.drugbank.com/bio_entities/BE0000241.\n",
    "\n",
    "[5] Bank, R. P. D. RCSB PDB - 8HDO: Structure of A2BR bound to Synthetic Agonists BAY 60-6583. Geraadpleegd op 8 november 2023, van https://www.rcsb.org/structure/8HDO.\n",
    "\n",
    "[6] Bank, R. P. D. RCSB PDB - 8HDP: Structure of A2BR bound to Endogenous Agonists adenosine. Geraadpleegd op 8 november 2023, van https://www.rcsb.org/structure/8HDP.\n",
    "\n",
    "[7] National Center for Biotechnology Information (2023). PubChem Compound Summary for CID 11717831, 2-({6-Amino-3,5-dicyano-4-[4-(cyclopropylmethoxy)phenyl]pyridin-2-yl}sulfanyl)acetamide. Retrieved November 8, 2023 from https://pubchem.ncbi.nlm.nih.gov/compound/bay-60-6583.\n",
    "\n",
    "[8] Chen Y, Zhang J, Weng Y, Xu Y, Lu W, Liu W, Liu M, Hua T, Song G. Cryo-EM structure of the human adenosine A2B receptor-Gs signaling complex. Sci Adv. 2022 Dec 23;8(51):eadd3709. doi: 10.1126/sciadv.add3709."
   ]
  }
 ],
 "metadata": {
  "kernelspec": {
   "display_name": "Python 3 (ipykernel)",
   "language": "python",
   "name": "python3"
  },
  "language_info": {
   "codemirror_mode": {
    "name": "ipython",
    "version": 3
   },
   "file_extension": ".py",
   "mimetype": "text/x-python",
   "name": "python",
   "nbconvert_exporter": "python",
   "pygments_lexer": "ipython3",
   "version": "3.9.13"
  }
 },
 "nbformat": 4,
 "nbformat_minor": 5
}
