{
 "cells": [
  {
   "cell_type": "markdown",
   "id": "7cd7881e",
   "metadata": {},
   "source": [
    "\n",
    "# A study on docking in a recently produced hA2B receptor crystal structure using machine learning\n",
    "Benthe Smit (s2619806). Team mates: Tamara Jordens (s2190745), Nienke Vreman (s2333937).\n",
    "\n",
    "This report consists of 3 parts: Bioinformatics, Cheminformatics & Machine Learning and Docking. Our target of interest is the human A2B receptor."
   ]
  },
  {
   "cell_type": "code",
   "execution_count": 1,
   "id": "c9020003",
   "metadata": {},
   "outputs": [
    {
     "data": {
      "application/vnd.jupyter.widget-view+json": {
       "model_id": "fdeb2183425e400ba4d61dbee0947d03",
       "version_major": 2,
       "version_minor": 0
      },
      "text/plain": []
     },
     "metadata": {},
     "output_type": "display_data"
    },
    {
     "name": "stderr",
     "output_type": "stream",
     "text": [
      "/opt/conda/lib/python3.9/site-packages/Bio/pairwise2.py:278: BiopythonDeprecationWarning: Bio.pairwise2 has been deprecated, and we intend to remove it in a future release of Biopython. As an alternative, please consider using Bio.Align.PairwiseAligner as a replacement, and contact the Biopython developers if you still need the Bio.pairwise2 module.\n",
      "  warnings.warn(\n",
      "/opt/conda/lib/python3.9/site-packages/Bio/Data/SCOPData.py:18: BiopythonDeprecationWarning: The 'Bio.Data.SCOPData' module will be deprecated in a future release of Biopython in favor of 'Bio.Data.PDBData.\n",
      "  warnings.warn(\n"
     ]
    }
   ],
   "source": [
    "import nglview\n",
    "import os\n",
    "import shutil\n",
    "from scripts import viewer\n",
    "\n",
    "from Bio.PDB import PDBList, MMCIFParser, Select, PDBIO\n",
    "import Bio.Align\n",
    "import os\n",
    "\n",
    "from pathlib import Path\n",
    "from warnings import filterwarnings\n",
    "import time\n",
    "\n",
    "import rdkit\n",
    "from rdkit import Chem\n",
    "from rdkit.Chem import AllChem, Draw\n",
    "from rdkit.Chem import MACCSkeys\n",
    "from rdkit.Chem.AllChem import GetMorganFingerprintAsBitVect\n",
    "\n",
    "from scripts import viewer\n",
    "from scripts import bio_align\n",
    "\n",
    "import pandas as pd\n",
    "import numpy as np\n",
    "import glob\n",
    "import sys\n",
    "from sklearn import svm, metrics, clone\n",
    "from sklearn.ensemble import RandomForestClassifier\n",
    "from sklearn.ensemble import RandomForestRegressor\n",
    "from sklearn.neural_network import MLPClassifier\n",
    "from sklearn.model_selection import KFold, train_test_split\n",
    "from sklearn.metrics import auc, accuracy_score, recall_score\n",
    "from sklearn.metrics import roc_curve, roc_auc_score\n",
    "import matplotlib.pyplot as plt\n",
    "\n",
    "\n",
    "filterwarnings(\"ignore\")\n",
    "# Fix seed for reproducible results\n",
    "SEED = 22\n",
    "#seed_everything(SEED)\n",
    "\n",
    "#from pymol import cmd\n",
    "import py3Dmol\n",
    "\n",
    "from vina import Vina\n",
    "\n",
    "#from meeko import MoleculePreparation\n",
    "#from meeko import obutils\n",
    "\n",
    "import MDAnalysis as mda\n",
    "from MDAnalysis.coordinates import PDB\n",
    "\n",
    "#import prolif\n",
    "#from prolif.plotting.network import LigNetwork\n",
    "\n",
    "import sys, os, shutil\n",
    "sys.path.insert(1, '/project/jhllei001/JHL_data/Jupyter_Dock/utilities')\n",
    "# Note I had to comment out pymol, openmm and pdbfixer, hope it doesn't break later\n",
    "#from utils import fix_protein, getbox, generate_ledock_file, pdbqt_to_sdf, dok_to_sdf\n",
    "\n",
    "import warnings\n",
    "warnings.filterwarnings(\"ignore\")\n",
    "%config Completer.use_jedi = False"
   ]
  },
  {
   "cell_type": "markdown",
   "id": "6cb3eba4",
   "metadata": {},
   "source": [
    "\n",
    "# 1. Bioinformatics\n",
    "\n",
    "### 1.1.1 Introduction\n",
    "\n",
    "Adenosine is a biochemical molecule that is distributed all over the body, in various pathways. In the central nervous system (CNS) is promotes sleep by modulating neuroactivity. Adenosine is able to regulate the cardiovascular system as well, by inducing vasodilation, which leads to an increasing blood flow and tissue oxygenation. Moreover, as adenosine activates immune cells, it decreases the production of cytokines. Therefore, it reduces inflammation and regulates immune response.[1]\n",
    "\n",
    "Both adenosine and adenosine triphosphate (ATP) are the endogenous ligands to the adenosine receptors (ARs). This class of receptors is divided into four main subtypes: A1, A2A, A2B, and A3 ARs. All four of the ARs belong to the G-protein coupled receptors (GPCRs) and consist of a transmembrane protein containing 7 parts, of which the A1R and the A3R and the A2AR and the A2BR are the most similar. The A1R and A3R activate an inhibitory G protein and the A2AR and the A2BR activate stimulatory proteins. Though many ligands have been discovered for the ARs, only a handful are selective for one of the receptors. A crystal structure is available for all the ARs, except for the A3R.[2]\n",
    "\n",
    "In this study we will focus on targeting the A2BR. The A2BR has a low affinity for adenosine and was therefore considered less important in the past.[3] Hence, the A2BR is interesting target. There are a limited amount of clinically approved drugs for the AR are available at the moment, most of which are antagonists.[4] Currently, there are 4 structures available on the protein database (PDB), of which 8HDO has the highest resolution. 8HDO is co-crystallized with a synthetic agonist,[5] while 8HDP is bound to adenosine.[6] Both structures were released in january 2023. In may 2023, two more structures were released. \n",
    "\n",
    "This study will mainly focus on finding a partial agonist to the target. As agonists will control inflammation in the brain and many other tissues. One of the most well-known partial agonists is BAY 60–6583. This  synthetic ligand has been co-crystalized with the A2BR as well in 8HDO. It will therefore be used as a basis for further improvement. On PDB the following information has been extracted on the primary structure: The A2BR has a sequence length of 332 amino acids and a mass of 36.333 kDa. The specific PDB structure (8HDO/P29275) is UniProtKB reviewed and has evidence at protein level.\n",
    "\n",
    "\n",
    "### 1.1.2 Related proteins (off-targets), based on sequence\n",
    "\n",
    "Firstly, related proteins were investigated to predict possible off-target effects. Using Basic Local Alignment Search Tool (BLAST) on UniProt, the following protein was found:\n",
    "\n",
    "With the identity of 99.7%, the Western lowland gorilla has the most similar protein (G3QH04). It length is 332 amino acids and it has a mass of 36.351 kDa. However the protein is not UniProtKB reviewed and it is inferred from homology.\n",
    "    \n",
    "In the human body, the most similar protein is the A2AR (P29274) as the identity is 59.4%. It has a length of 412 amino acids and a mass of 44.707 kDa. This structure is UniProtKB reviewed and has evidence at protein level.\n",
    "\n",
    "The most similar target to the human A2BR (hA2BR) is the A2BR in the Western lowland gorilla. This was expected as humans are from similar descent as gorilla's and it is the same protein. However, during this study, the human A2AR (hA2A) will be used to check for off-target effects, as that will provide more relevant information.\n",
    "    \n",
    "Using the 'Accession' numbers, the proteins were aligned based on their: similar residues, hydrophobic residues, negative residues, positive residues and aromatic residues.\n",
    "\n",
    "![image info](img/Similarity_hA2B_A2B_A2A_1.jpg)\n",
    "*Figure 1.1: Alignment by UniProt based on similarity. The structures are presented in the following order: hA2AR, hA2BR, A2BR in gorilla.*\n",
    "\n",
    "![image info](img/Similarity_hA2B_A2B_A2A_2.jpg)\n",
    "*Figure 1.2: Alignment by UniProt based on hydrophobic residues. The structures are presented in the following order: hA2AR, hA2BR, A2BR in gorilla.*\n",
    "\n",
    "![image info](img/Similarity_hA2B_A2B_A2A_3.jpg)\n",
    "*Figure 1.3: Alignment by UniProt based on negative residues. The structures are presented in the following order: hA2AR, hA2BR, A2BR in gorilla.*\n",
    "\n",
    "![image info](img/Similarity_hA2B_A2B_A2A_4.jpg)\n",
    "*Figure 1.4: Alignment by UniProt based on positive residues. The structures are presented in the following order: hA2AR, hA2BR, A2BR in gorilla.*\n",
    "\n",
    "![image info](img/Similarity_hA2B_A2B_A2A_5.jpg)\n",
    "*Figure 1.5: Alignment by UniProt based on aromatic residues. The structures are presented in the following order: hA2AR, hA2BR, A2BR in gorilla.*\n",
    "\n",
    "The hA2BR and the A2BR in the gorilla are the most similar again.\n",
    "\n",
    "\n",
    "### 1.1.3 Related proteins (off-targets), based on structure\n",
    "\n",
    "Since a crystal structure of the target as recently been released, a 3D similarity search is now possible. The proteins will be compared based on their tertiary structure (3D structure) rather than a sequence similarity.\n",
    "\n",
    "On http://www.rcsb.org/pdb/home/home.do, the A2BR was found using the PDB identifier. The most similar accession was 8HDP. The two protein complexes were aligned using https://www.ncbi.nlm.nih.gov/Structure/icn3d/full.html.\n",
    "\n",
    "![image info](img/Realinged_8HDO_8HDP.jpg)\n",
    "*Figure 1.6: Alignment of 8HDO and 8HDP. The realigned RMSD was 0.6186 Å.*\n",
    "\n",
    "This is a very low RMSD value, which means the structures are very similar. This is logical, as it is the same protein, just different crystal structures.\n"
   ]
  },
  {
   "cell_type": "markdown",
   "id": "52f8e18e",
   "metadata": {},
   "source": [
    "## 1.2 Retrieving a 3D structure\n",
    "\n",
    "The protein was prepared by downloading the structure from PDB. \n",
    "\n",
    "Firstly, a working directory was made in the home directory:"
   ]
  },
  {
   "cell_type": "code",
   "execution_count": 2,
   "id": "3c7655f3",
   "metadata": {},
   "outputs": [
    {
     "name": "stdout",
     "output_type": "stream",
     "text": [
      "Directory already exists\n"
     ]
    }
   ],
   "source": [
    "HOMEDIR = str(Path.home())\n",
    "os.chdir(HOMEDIR)\n",
    "# We need to check whether the directory is there\n",
    "try:\n",
    "    os.mkdir('Bioinformatics')\n",
    "except:\n",
    "    print(\"Directory already exists\")\n",
    "os.chdir('Bioinformatics')"
   ]
  },
  {
   "cell_type": "markdown",
   "id": "2ae3d38d",
   "metadata": {},
   "source": [
    "The PDB code of the hA2BR was specified and the 3D structure was generated."
   ]
  },
  {
   "cell_type": "code",
   "execution_count": 3,
   "id": "2ab392fb",
   "metadata": {
    "scrolled": false
   },
   "outputs": [
    {
     "data": {
      "application/vnd.jupyter.widget-view+json": {
       "model_id": "b81d076b38814810add9da4be22ccfc8",
       "version_major": 2,
       "version_minor": 0
      },
      "text/plain": [
       "NGLWidget()"
      ]
     },
     "metadata": {},
     "output_type": "display_data"
    }
   ],
   "source": [
    "TARGET_PDB_ID = \"8HDO\"\n",
    "view = nglview.show_pdbid(TARGET_PDB_ID)\n",
    "view.center()\n",
    "view"
   ]
  },
  {
   "cell_type": "markdown",
   "id": "825ab647",
   "metadata": {},
   "source": [
    "It  is nice to have the overview of the structure, but since we are interested in designing new drugs, it makes more sense to have a closer look at the co-crystallized ligand. For this structure that is BAY 60–6583. The three letter amino acid code from the RCSB is I5D."
   ]
  },
  {
   "cell_type": "code",
   "execution_count": 4,
   "id": "143dd22c",
   "metadata": {},
   "outputs": [
    {
     "data": {
      "application/vnd.jupyter.widget-view+json": {
       "model_id": "b81d076b38814810add9da4be22ccfc8",
       "version_major": 2,
       "version_minor": 0
      },
      "text/plain": [
       "NGLWidget(n_components=1)"
      ]
     },
     "metadata": {},
     "output_type": "display_data"
    }
   ],
   "source": [
    "LIGAND_CODE = \"I5D\"\n",
    "\n",
    "view.center(LIGAND_CODE)\n",
    "view"
   ]
  },
  {
   "cell_type": "markdown",
   "id": "68d4313a",
   "metadata": {},
   "source": [
    "Next, the residues that are within 5 Angstrom of the ligand are shown."
   ]
  },
  {
   "cell_type": "code",
   "execution_count": 5,
   "id": "9752bc90",
   "metadata": {},
   "outputs": [
    {
     "data": {
      "application/vnd.jupyter.widget-view+json": {
       "model_id": "b81d076b38814810add9da4be22ccfc8",
       "version_major": 2,
       "version_minor": 0
      },
      "text/plain": [
       "NGLWidget(n_components=1)"
      ]
     },
     "metadata": {},
     "output_type": "display_data"
    }
   ],
   "source": [
    "viewer.show_residues_around(view, selection=LIGAND_CODE)\n",
    "view"
   ]
  },
  {
   "cell_type": "markdown",
   "id": "f98dae5c",
   "metadata": {},
   "source": [
    "The viewer shows that there are multiple types of interactions present between the protein and the ligand, such as pi-stacking, hydrophobic interactions and hydrogen bonds. Later, the Protein-Ligand Interaction Profiler will be used to identify the specific interactions.\n",
    "\n",
    "There are no hydrogens present in the structures as these are normally not resolved in the crystal structure.\n",
    "\n",
    "In the next stage, the hydrogens were added. The protein and ligand were split and saved seperately. For this, biopython was used. https://biopython.org/docs/1.75/api/Bio.html\n",
    "\n",
    "Firstly, the coordinates were downloaded from RCSB."
   ]
  },
  {
   "cell_type": "code",
   "execution_count": 6,
   "id": "756bff6f",
   "metadata": {
    "scrolled": false
   },
   "outputs": [
    {
     "name": "stdout",
     "output_type": "stream",
     "text": [
      "Structure exists: '8HDO/8hdo.cif' \n"
     ]
    },
    {
     "name": "stderr",
     "output_type": "stream",
     "text": [
      "WARNING: The default download format has changed from PDB to PDBx/mmCif\n"
     ]
    },
    {
     "data": {
      "text/plain": [
       "'8HDO/8hdo.cif'"
      ]
     },
     "execution_count": 6,
     "metadata": {},
     "output_type": "execute_result"
    }
   ],
   "source": [
    "pdbl = PDBList()\n",
    "pdbl.retrieve_pdb_file(TARGET_PDB_ID, pdir=TARGET_PDB_ID)"
   ]
  },
  {
   "cell_type": "markdown",
   "id": "2e01f8c3",
   "metadata": {},
   "source": [
    "A BioPython object was generated from the coordinates."
   ]
  },
  {
   "cell_type": "code",
   "execution_count": 7,
   "id": "b3d7e1d1",
   "metadata": {},
   "outputs": [],
   "source": [
    "parser = MMCIFParser()\n",
    "structure = parser.get_structure(\"TARGETPROT\",'{}/{}.cif'.format(TARGET_PDB_ID,TARGET_PDB_ID.lower()))"
   ]
  },
  {
   "cell_type": "markdown",
   "id": "70ab8a93",
   "metadata": {},
   "source": [
    "The ligand is saved."
   ]
  },
  {
   "cell_type": "code",
   "execution_count": 8,
   "id": "53cd2e1d",
   "metadata": {},
   "outputs": [],
   "source": [
    "class ResSelect(Select):\n",
    "    def accept_residue(self, residue):\n",
    "        if residue.get_resname() == LIGAND_CODE:\n",
    "            return 1\n",
    "        else:\n",
    "            return 0\n",
    "\n",
    "class NonHetSelect(Select):\n",
    "    def accept_residue(self, residue):\n",
    "        return 1 if residue.id[0] == \" \" else 0\n",
    "\n",
    "io = PDBIO()\n",
    "io.set_structure(structure)\n",
    "io.save(\"ligand-{}.pdb\".format(LIGAND_CODE), ResSelect())\n",
    "io.save(\"protein-{}.pdb\".format(TARGET_PDB_ID), NonHetSelect())"
   ]
  },
  {
   "cell_type": "markdown",
   "id": "797ce8dc",
   "metadata": {},
   "source": [
    "LePro, which is part of the LeDock program (https://en.wikipedia.org/wiki/LeDock), is used to add hydrogens to the structure.\n",
    "\n",
    "The protein was prepared:"
   ]
  },
  {
   "cell_type": "code",
   "execution_count": 9,
   "id": "47421ebb",
   "metadata": {
    "scrolled": false
   },
   "outputs": [
    {
     "data": {
      "text/plain": [
       "'8HDO_prepped.pdb'"
      ]
     },
     "execution_count": 9,
     "metadata": {},
     "output_type": "execute_result"
    }
   ],
   "source": [
    "command = '../CBR_teaching/bin/lepro protein-{}.pdb'.format(TARGET_PDB_ID)\n",
    "os.system(command)\n",
    "shutil.move('pro.pdb','{}_prepped.pdb'.format(TARGET_PDB_ID))"
   ]
  },
  {
   "cell_type": "code",
   "execution_count": 10,
   "id": "b1bf3919",
   "metadata": {},
   "outputs": [],
   "source": [
    "# combine protein and ligand files\n",
    "filenames = [\n",
    "'{}_prepped.pdb'.format(TARGET_PDB_ID),\n",
    "\"ligand-{}.pdb\".format(LIGAND_CODE)\n",
    "]\n",
    "with open('{}-complex.pdb'.format(TARGET_PDB_ID), 'w') as outfile:\n",
    "    for fname in filenames:\n",
    "        with open(fname) as infile:\n",
    "            for line in infile:\n",
    "                if not \"END\" in line:\n",
    "                    outfile.write(line)"
   ]
  },
  {
   "cell_type": "code",
   "execution_count": 11,
   "id": "cd51b9ad",
   "metadata": {},
   "outputs": [
    {
     "data": {
      "application/vnd.jupyter.widget-view+json": {
       "model_id": "a5d47495ad1d44b28bf064d26bbcaddf",
       "version_major": 2,
       "version_minor": 0
      },
      "text/plain": [
       "NGLWidget()"
      ]
     },
     "metadata": {},
     "output_type": "display_data"
    }
   ],
   "source": [
    "with open('{}-complex.pdb'.format(TARGET_PDB_ID)) as f:\n",
    "    view = nglview.show_file(f, ext=\"pdb\")\n",
    "    \n",
    "view.center(LIGAND_CODE)\n",
    "viewer.show_residues_around(view, selection=LIGAND_CODE)\n",
    "view"
   ]
  },
  {
   "cell_type": "markdown",
   "id": "d9f5cfef",
   "metadata": {},
   "source": [
    "Here, the protein is generated again."
   ]
  },
  {
   "cell_type": "markdown",
   "id": "9ad8a30c",
   "metadata": {},
   "source": [
    "Now, the procedure is repeated for the most similar target that you identified (the highest scoring hit from the PDB):"
   ]
  },
  {
   "cell_type": "code",
   "execution_count": 12,
   "id": "32b4e9a2",
   "metadata": {},
   "outputs": [
    {
     "name": "stderr",
     "output_type": "stream",
     "text": [
      "WARNING: The default download format has changed from PDB to PDBx/mmCif\n"
     ]
    },
    {
     "name": "stdout",
     "output_type": "stream",
     "text": [
      "Structure exists: '5IU4/5iu4.cif' \n"
     ]
    }
   ],
   "source": [
    "OFF_TARGET_PDB_ID = \"5IU4\"\n",
    "OFF_TARGET_LIGAND = \"ZMA\"  \n",
    "\n",
    "pdbl = PDBList()\n",
    "pdbl.retrieve_pdb_file(OFF_TARGET_PDB_ID, pdir=OFF_TARGET_PDB_ID)\n",
    "\n",
    "parser = MMCIFParser()\n",
    "structure = parser.get_structure(\"TARGETPROT\",'{}/{}.cif'.format(OFF_TARGET_PDB_ID,OFF_TARGET_PDB_ID.lower()))\n",
    "\n",
    "class ResSelect(Select):\n",
    "    def accept_residue(self, residue):\n",
    "        if residue.get_resname() == OFF_TARGET_LIGAND:\n",
    "            return 1\n",
    "        else:\n",
    "            return 0\n",
    "\n",
    "io = PDBIO()\n",
    "io.set_structure(structure)\n",
    "io.save(\"ligand-{}.pdb\".format(OFF_TARGET_LIGAND), ResSelect())\n",
    "io.save(\"protein-{}.pdb\".format(OFF_TARGET_PDB_ID), NonHetSelect())"
   ]
  },
  {
   "cell_type": "code",
   "execution_count": 13,
   "id": "dadf725a",
   "metadata": {},
   "outputs": [
    {
     "data": {
      "text/plain": [
       "'5IU4_prepped.pdb'"
      ]
     },
     "execution_count": 13,
     "metadata": {},
     "output_type": "execute_result"
    }
   ],
   "source": [
    "command = '../CBR_teaching/bin/lepro protein-{}.pdb'.format(OFF_TARGET_PDB_ID)\n",
    "os.system(command)\n",
    "shutil.move('pro.pdb','{}_prepped.pdb'.format(OFF_TARGET_PDB_ID))"
   ]
  },
  {
   "cell_type": "code",
   "execution_count": 14,
   "id": "e966913d",
   "metadata": {},
   "outputs": [],
   "source": [
    "# combine protein and ligand files\n",
    "filenames = [\n",
    "'{}_prepped.pdb'.format(OFF_TARGET_PDB_ID),\n",
    "\"ligand-{}.pdb\".format(OFF_TARGET_LIGAND)\n",
    "]\n",
    "with open('{}-complex.pdb'.format(OFF_TARGET_PDB_ID), 'w') as outfile:\n",
    "    for fname in filenames:\n",
    "        with open(fname) as infile:\n",
    "            for line in infile:\n",
    "                if not \"END\" in line:\n",
    "                    outfile.write(line)"
   ]
  },
  {
   "cell_type": "markdown",
   "id": "540c4972",
   "metadata": {},
   "source": [
    "The protein was prepared."
   ]
  },
  {
   "cell_type": "code",
   "execution_count": 15,
   "id": "5bd3f68b",
   "metadata": {},
   "outputs": [
    {
     "data": {
      "application/vnd.jupyter.widget-view+json": {
       "model_id": "e2fcfa865aef40e0a49e472303162551",
       "version_major": 2,
       "version_minor": 0
      },
      "text/plain": [
       "NGLWidget()"
      ]
     },
     "metadata": {},
     "output_type": "display_data"
    }
   ],
   "source": [
    "with open('{}-complex.pdb'.format(OFF_TARGET_PDB_ID)) as f:\n",
    "    view = nglview.show_file(f, ext=\"pdb\")\n",
    "    \n",
    "view.center(OFF_TARGET_LIGAND)\n",
    "viewer.show_residues_around(view, selection=OFF_TARGET_LIGAND)\n",
    "view"
   ]
  },
  {
   "cell_type": "markdown",
   "id": "49474ad1",
   "metadata": {},
   "source": [
    "## 1.3 Alignment\n",
    "The hA2BR and the hA2AR were aligned by first generating the alignment object. The alignment was conducted to predict possible off-target effects of future novel ligands."
   ]
  },
  {
   "cell_type": "code",
   "execution_count": 16,
   "id": "4839aca2",
   "metadata": {},
   "outputs": [
    {
     "name": "stdout",
     "output_type": "stream",
     "text": [
      "Alignment(seqA='------------MGC--------L--------GN----------SKTED--QRNEEK---------AQREANKM--IEKQLQKDKQVYR---A-----T---------HRL--L------L-LGADN-SGKSTIVKQM---------R-I-------YHVNSG---------I--------FE----TKF---------QVD-KVNFHMFDV-G-A--QRD---ERRKWI-Q--C-FN-DVTAIIFV-----VDSSDY-NR-----L-------------------QE-A-LN-DFKSI-W---N-NRWLRTIS-VILFLN-K-----Q--DLLAE--KV-----L-AG-KS----KI-EDYF--P---E---FARYTTPE---D--------ATP-----EPGEDPR-V-----------T-R-AKYFIRDEF---L-RI--ST------A--SGD-----GRHY----CY--P-H----FT--C---S-----------VD---TEN--------AR-RI--FNDCRD-----IIQRM-H-LRQY-ELL----------------', seqB='DYKDDDDGAPPIMG-SSVYITVELAIAVLAILGNVLVCWAVWLNS----NLQ-N---VTNYFVVSLA---A---ADI---L-----V--GVLAIPFAITISTGFCAACH--GCLFIACFVLVL-A--QS--S-I----FSLLAIAIDRYIAIAIPLRY--N-GLVTGTRAAGIIAICWVLSF-AIGLT--PMLGWNNCGQ--PK--------EGKAHSQ--GCGE-----GQVACLF-EDV-----VPMNYMV----YFN-FFACVLVPLLLMLGVYLRIFAAARRQ-LADL-ED----NWETLNDN--L----KVI----EKADNAAQVKD--A-LTK-MRAAALDA-QK-ATPPK-LED--KSPDSPEMKDF-R-----HGFDILVGQIDDA--LKLANE-G----KVKEAQAAAEQLKTTRNA-Y-I----QKYLER-ARSTLQKEVHAAKS--AAIIAG---LFALC-WLPLHIINCFTFFCPDCSHAPLWLMYLAIV-LAHT-NSVVNPFIYA-YRIREF---R-QTFRKII-R-SHVLRQ-QE--PFKAAAHHHHHHHHHH', score=112.0, start=0, end=567)\n"
     ]
    }
   ],
   "source": [
    "from Bio import pairwise2\n",
    "from Bio.Seq import Seq \n",
    "from Bio.SeqRecord import SeqRecord\n",
    "from Bio.Align import MultipleSeqAlignment\n",
    "\n",
    "# Get the structures\n",
    "PDBCODE_1 = '8HDO' # Name of the first structure\n",
    "PDBCODE_2 = '5IU4' # Name of the second structure\n",
    "\n",
    "import requests\n",
    "data = requests.get(f'https://www.ebi.ac.uk/pdbe/api/pdb/entry/molecules/{PDBCODE_1}').json()[PDBCODE_1.lower()]\n",
    "SEQ1 = (data[0]['sequence'])\n",
    "SEQ1 = Seq(SEQ1)\n",
    "\n",
    "data = requests.get(f'https://www.ebi.ac.uk/pdbe/api/pdb/entry/molecules/{PDBCODE_2}').json()[PDBCODE_2.lower()]\n",
    "SEQ2 = (data[0]['sequence'])\n",
    "SEQ2 = Seq(SEQ2)\n",
    "\n",
    "alignments = pairwise2.align.globalxx(SEQ1, SEQ2)\n",
    "\n",
    "for align1, align2, score, begin, end in alignments:\n",
    "    filename = \"alignment.fasta\"\n",
    "    with open(filename, \"w\") as handle:\n",
    "        handle.write(\">SEQ1\\n%s\\n>SEQ2\\n%s\\n\" % (align1, align2))\n",
    "\n",
    "print(alignments[0])"
   ]
  },
  {
   "cell_type": "markdown",
   "id": "18cfe09c",
   "metadata": {},
   "source": [
    "The proteins were visually aligned using https://www.ncbi.nlm.nih.gov/Structure/icn3d/full.html. The RMSD was 4.085 Å. This is quite high. The structures are thus not very similar.\n",
    "\n",
    "![image info](img/Realinged_8HDO_5IU4.jpg)\n",
    "*Figure 1.7: The alignment of the hA2BR and the hA2AR.*\n",
    "\n",
    "## Interactions between the hA2BR and BAY 60-6583\n",
    "\n",
    "The Protein-Ligand Interaction Profiler (PLIP, https://plip-tool.biotec.tu-dresden.de/plip-web/plip/index) was used to identify the interactions between the protein and the ligand.\n",
    "\n",
    "![image info](img/8HDO_I5D_R_408.png)\n",
    "*Figure 1.8: The interactions between the hA2BR and BAY 60-6583 according to PLIP. The protein is represented in blue and the ligand in orange. The interactions are presents as follows: blue for hydrogen bonds, grey for hydrophobic interactions, green for pi-stacking.*\n",
    "\n",
    "Finally, the interaction viewer on rcsb itself was used to visualize the protein-ligand complex.\n",
    "\n",
    "![image info](img/RCSB_8HDO.png)\n",
    "*Figure 1.9: The hA2BR and BAY 60-6583 complex according to RCSB. Both the protein and ligand are presented in green.*\n",
    "\n",
    "It seems that the pi-stacking between the ligand and residue PHE173 is very important to the binding. Just like the hydrophobic interactions between the ligand and LEU172, PHE173 and ILE276. Lastly, there are hydrogen bonds between THR89, THR89, ASN186, ASN254. \n",
    "\n",
    "PLIP states that there could be a hydrophobic interaction between the ligand and residue SER68. However, a serine residue is not known to produce such interactions. It is mainly used by proteins to establish hydrogenbond interactions, because of its free -OH group.\n"
   ]
  },
  {
   "cell_type": "markdown",
   "id": "56b7e343",
   "metadata": {},
   "source": [
    "### References:\n",
    "\n",
    "[1] Korkutata, M., & Lazarus, M. (2023). Adenosine A2A receptors and sleep (Vol. 170). International Review of Neurobiology. doi: 10.1016/bs.irn.2023.04.007.\n",
    "\n",
    "[2] Vincenzi F, Pasquini S, Contri C, Cappello M, Nigro M, Travagli A, Merighi S, Gessi S, Borea PA, Varani K. Pharmacology of Adenosine Receptors: Recent Advancements. Biomolecules. 2023 Sep 14;13(9):1387. doi: 10.3390/biom13091387.\n",
    "\n",
    "[3] Catarzi D, Varano F, Varani K, Vincenzi F, Pasquini S, Dal Ben D, Volpini R, Colotta V. Amino-3,5-Dicyanopyridines Targeting the Adenosine Receptors Ranging from Pan Ligands to Combined A1/A2B Partial Agonists. Pharmaceuticals (Basel). 2019 Oct 22;12(4):159. doi: 10.3390/ph12040159.\n",
    "\n",
    "[4] Adenosine receptor A2B | DrugBank Online. (z.d.). DrugBank. Geraadpleegd op 8 november 2023, van https://go.drugbank.com/bio_entities/BE0000241.\n",
    "\n",
    "[5] Bank, R. P. D. RCSB PDB - 8HDO: Structure of A2BR bound to Synthetic Agonists BAY 60-6583. Geraadpleegd op 8 november 2023, van https://www.rcsb.org/structure/8HDO.\n",
    "\n",
    "[6] Bank, R. P. D. RCSB PDB - 8HDP: Structure of A2BR bound to Endogenous Agonists adenosine. Geraadpleegd op 8 november 2023, van https://www.rcsb.org/structure/8HDP.\n",
    "\n",
    "[7] National Center for Biotechnology Information (2023). PubChem Compound Summary for CID 11717831, 2-({6-Amino-3,5-dicyano-4-[4-(cyclopropylmethoxy)phenyl]pyridin-2-yl}sulfanyl)acetamide. Retrieved November 8, 2023 from https://pubchem.ncbi.nlm.nih.gov/compound/bay-60-6583.\n",
    "\n",
    "[8] Chen Y, Zhang J, Weng Y, Xu Y, Lu W, Liu W, Liu M, Hua T, Song G. Cryo-EM structure of the human adenosine A2B receptor-Gs signaling complex. Sci Adv. 2022 Dec 23;8(51):eadd3709. doi: 10.1126/sciadv.add3709."
   ]
  }
 ],
 "metadata": {
  "kernelspec": {
   "display_name": "Python 3 (ipykernel)",
   "language": "python",
   "name": "python3"
  },
  "language_info": {
   "codemirror_mode": {
    "name": "ipython",
    "version": 3
   },
   "file_extension": ".py",
   "mimetype": "text/x-python",
   "name": "python",
   "nbconvert_exporter": "python",
   "pygments_lexer": "ipython3",
   "version": "3.9.13"
  }
 },
 "nbformat": 4,
 "nbformat_minor": 5
}
